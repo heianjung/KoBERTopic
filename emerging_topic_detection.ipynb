{
 "cells": [
  {
   "cell_type": "code",
   "execution_count": null,
   "id": "aac299cf",
   "metadata": {},
   "outputs": [],
   "source": [
    "# [Paper] Neural Topic Modeling for Emerging Trends Detection\n",
    "# https://arxiv.org/pdf/2411.05930\n",
    "# https://github.com/rte-france/BERTrend"
   ]
  },
  {
   "cell_type": "code",
   "execution_count": null,
   "id": "b0ab9453",
   "metadata": {},
   "outputs": [],
   "source": []
  },
  {
   "cell_type": "code",
   "execution_count": null,
   "id": "6631ce3c",
   "metadata": {},
   "outputs": [],
   "source": []
  },
  {
   "cell_type": "code",
   "execution_count": null,
   "id": "a5dc4035",
   "metadata": {},
   "outputs": [],
   "source": []
  }
 ],
 "metadata": {
  "language_info": {
   "name": "python"
  }
 },
 "nbformat": 4,
 "nbformat_minor": 5
}
