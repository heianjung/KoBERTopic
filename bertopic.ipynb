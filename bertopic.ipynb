{
 "cells": [
  {
   "cell_type": "markdown",
   "id": "59cc3711",
   "metadata": {},
   "source": [
    "# 토픽모델링 - BERTopic"
   ]
  },
  {
   "cell_type": "markdown",
   "id": "843a8804",
   "metadata": {},
   "source": [
    "## 1. 데이터 로드"
   ]
  },
  {
   "cell_type": "code",
   "execution_count": 1,
   "id": "c462115c",
   "metadata": {},
   "outputs": [],
   "source": [
    "# 데이터 로드\n",
    "from datasets import load_dataset\n",
    "dataset = load_dataset(\"maartengr/arxiv_nlp\")[\"train\"]"
   ]
  },
  {
   "cell_type": "code",
   "execution_count": 2,
   "id": "d921e9a5",
   "metadata": {},
   "outputs": [],
   "source": [
    "abstracts = dataset[\"Abstracts\"]\n",
    "titles = dataset[\"Titles\"]"
   ]
  },
  {
   "cell_type": "markdown",
   "id": "35065e07",
   "metadata": {},
   "source": [
    "## 2. 모델 로드"
   ]
  },
  {
   "cell_type": "markdown",
   "id": "a1b5749c",
   "metadata": {},
   "source": [
    "### 2.1 임베딩 모델"
   ]
  },
  {
   "cell_type": "code",
   "execution_count": 3,
   "id": "9d301ff0",
   "metadata": {},
   "outputs": [
    {
     "data": {
      "application/vnd.jupyter.widget-view+json": {
       "model_id": "7523b54e51db4c73b626293aff0de78a",
       "version_major": 2,
       "version_minor": 0
      },
      "text/plain": [
       "Batches:   0%|          | 0/1405 [00:00<?, ?it/s]"
      ]
     },
     "metadata": {},
     "output_type": "display_data"
    },
    {
     "data": {
      "text/plain": [
       "(44949, 384)"
      ]
     },
     "execution_count": 3,
     "metadata": {},
     "output_type": "execute_result"
    }
   ],
   "source": [
    "from sentence_transformers import SentenceTransformer\n",
    "\n",
    "#초록에 대한 임베딩 생성\n",
    "embedding_model = SentenceTransformer(\"thenlper/gte-small\")\n",
    "embeddings = embedding_model.encode(abstracts, show_progress_bar = True)\n",
    "embeddings.shape"
   ]
  },
  {
   "cell_type": "markdown",
   "id": "e3deec33",
   "metadata": {},
   "source": [
    "### 2.2 차원축소 모델(UMAP)"
   ]
  },
  {
   "cell_type": "code",
   "execution_count": 5,
   "id": "b380914b",
   "metadata": {},
   "outputs": [
    {
     "data": {
      "text/plain": [
       "(44949, 5)"
      ]
     },
     "execution_count": 5,
     "metadata": {},
     "output_type": "execute_result"
    }
   ],
   "source": [
    "from umap import UMAP\n",
    "\n",
    "# 입력 임베딩 차원축소 (384-> 5)\n",
    "umap_model = UMAP(\n",
    "                    n_components = 5, \n",
    "                    min_dist = 0.0, \n",
    "                    metric= 'cosine', \n",
    "                    random_state=42\n",
    "                )\n",
    "reduced_embeddings = umap_model.fit_transform(embeddings)\n",
    "reduced_embeddings.shape"
   ]
  },
  {
   "cell_type": "markdown",
   "id": "d6d7d938",
   "metadata": {},
   "source": [
    "### 2.4 클러스터링 모델(DBSCAN)"
   ]
  },
  {
   "cell_type": "code",
   "execution_count": 6,
   "id": "3b5a7886",
   "metadata": {},
   "outputs": [
    {
     "data": {
      "text/plain": [
       "147"
      ]
     },
     "execution_count": 6,
     "metadata": {},
     "output_type": "execute_result"
    }
   ],
   "source": [
    "from hdbscan import HDBSCAN\n",
    "\n",
    "# 모델 훈련 > 클러스터 추출\n",
    "hdbscan_model = HDBSCAN(min_cluster_size=50).fit(reduced_embeddings)\n",
    "clusters = hdbscan_model.labels_\n",
    "\n",
    "#클러스터 개수 확인\n",
    "len(set(clusters))"
   ]
  },
  {
   "cell_type": "markdown",
   "id": "80bf3242",
   "metadata": {},
   "source": [
    "## 3. BERTopic 모델 훈련"
   ]
  },
  {
   "cell_type": "code",
   "execution_count": 7,
   "id": "0c1a693a",
   "metadata": {},
   "outputs": [
    {
     "name": "stderr",
     "output_type": "stream",
     "text": [
      "2025-08-25 22:08:16,406 - BERTopic - Dimensionality - Fitting the dimensionality reduction algorithm\n",
      "2025-08-25 22:08:57,969 - BERTopic - Dimensionality - Completed ✓\n",
      "2025-08-25 22:08:57,971 - BERTopic - Cluster - Start clustering the reduced embeddings\n",
      "2025-08-25 22:08:59,206 - BERTopic - Cluster - Completed ✓\n",
      "2025-08-25 22:08:59,217 - BERTopic - Representation - Fine-tuning topics using representation models.\n",
      "2025-08-25 22:09:03,296 - BERTopic - Representation - Completed ✓\n"
     ]
    }
   ],
   "source": [
    "from bertopic import BERTopic\n",
    "\n",
    "# 임베딩모델로 BERTopic 훈련\n",
    "topic_model = BERTopic(\n",
    "                        embedding_model=embedding_model,\n",
    "                        umap_model=umap_model,\n",
    "                        hdbscan_model=hdbscan_model,\n",
    "                        verbose=True\n",
    "                        ).fit(abstracts, embeddings)"
   ]
  },
  {
   "cell_type": "markdown",
   "id": "330db25c",
   "metadata": {},
   "source": [
    "## 4. 결과확인"
   ]
  },
  {
   "cell_type": "markdown",
   "id": "32baba58",
   "metadata": {},
   "source": [
    "### 4.1 토픽 결과 확인"
   ]
  },
  {
   "cell_type": "code",
   "execution_count": 8,
   "id": "f6c0d245",
   "metadata": {},
   "outputs": [
    {
     "data": {
      "text/html": [
       "<div>\n",
       "<style scoped>\n",
       "    .dataframe tbody tr th:only-of-type {\n",
       "        vertical-align: middle;\n",
       "    }\n",
       "\n",
       "    .dataframe tbody tr th {\n",
       "        vertical-align: top;\n",
       "    }\n",
       "\n",
       "    .dataframe thead th {\n",
       "        text-align: right;\n",
       "    }\n",
       "</style>\n",
       "<table border=\"1\" class=\"dataframe\">\n",
       "  <thead>\n",
       "    <tr style=\"text-align: right;\">\n",
       "      <th></th>\n",
       "      <th>Topic</th>\n",
       "      <th>Count</th>\n",
       "      <th>Name</th>\n",
       "      <th>Representation</th>\n",
       "      <th>Representative_Docs</th>\n",
       "    </tr>\n",
       "  </thead>\n",
       "  <tbody>\n",
       "    <tr>\n",
       "      <th>0</th>\n",
       "      <td>-1</td>\n",
       "      <td>14145</td>\n",
       "      <td>-1_of_the_and_to</td>\n",
       "      <td>[of, the, and, to, in, we, language, that, for...</td>\n",
       "      <td>[  Existing NLP datasets contain various biase...</td>\n",
       "    </tr>\n",
       "    <tr>\n",
       "      <th>1</th>\n",
       "      <td>0</td>\n",
       "      <td>2218</td>\n",
       "      <td>0_question_answer_questions_qa</td>\n",
       "      <td>[question, answer, questions, qa, answering, a...</td>\n",
       "      <td>[  In recent years, there have been amazing ad...</td>\n",
       "    </tr>\n",
       "    <tr>\n",
       "      <th>2</th>\n",
       "      <td>1</td>\n",
       "      <td>2077</td>\n",
       "      <td>1_speech_asr_recognition_end</td>\n",
       "      <td>[speech, asr, recognition, end, acoustic, audi...</td>\n",
       "      <td>[  Recent works showed that end-to-end neural ...</td>\n",
       "    </tr>\n",
       "    <tr>\n",
       "      <th>3</th>\n",
       "      <td>2</td>\n",
       "      <td>1304</td>\n",
       "      <td>2_medical_clinical_biomedical_patient</td>\n",
       "      <td>[medical, clinical, biomedical, patient, notes...</td>\n",
       "      <td>[  Medical entity retrieval is an integral com...</td>\n",
       "    </tr>\n",
       "    <tr>\n",
       "      <th>4</th>\n",
       "      <td>3</td>\n",
       "      <td>1012</td>\n",
       "      <td>3_translation_nmt_machine_bleu</td>\n",
       "      <td>[translation, nmt, machine, bleu, neural, engl...</td>\n",
       "      <td>[  Many language pairs are low resource, meani...</td>\n",
       "    </tr>\n",
       "    <tr>\n",
       "      <th>...</th>\n",
       "      <td>...</td>\n",
       "      <td>...</td>\n",
       "      <td>...</td>\n",
       "      <td>...</td>\n",
       "      <td>...</td>\n",
       "    </tr>\n",
       "    <tr>\n",
       "      <th>142</th>\n",
       "      <td>141</td>\n",
       "      <td>56</td>\n",
       "      <td>141_emoji_emojis_emoticons_sentiment</td>\n",
       "      <td>[emoji, emojis, emoticons, sentiment, social, ...</td>\n",
       "      <td>[  The frequent use of Emojis on social media ...</td>\n",
       "    </tr>\n",
       "    <tr>\n",
       "      <th>143</th>\n",
       "      <td>142</td>\n",
       "      <td>54</td>\n",
       "      <td>142_typing_entity_type_types</td>\n",
       "      <td>[typing, entity, type, types, grained, mention...</td>\n",
       "      <td>[  For the task of fine-grained entity typing ...</td>\n",
       "    </tr>\n",
       "    <tr>\n",
       "      <th>144</th>\n",
       "      <td>143</td>\n",
       "      <td>52</td>\n",
       "      <td>143_gans_gan_adversarial_generation</td>\n",
       "      <td>[gans, gan, adversarial, generation, generativ...</td>\n",
       "      <td>[  Text generation is of particular interest i...</td>\n",
       "    </tr>\n",
       "    <tr>\n",
       "      <th>145</th>\n",
       "      <td>144</td>\n",
       "      <td>52</td>\n",
       "      <td>144_coherence_discourse_paragraph_text</td>\n",
       "      <td>[coherence, discourse, paragraph, text, cohesi...</td>\n",
       "      <td>[  While there has been significant progress t...</td>\n",
       "    </tr>\n",
       "    <tr>\n",
       "      <th>146</th>\n",
       "      <td>145</td>\n",
       "      <td>50</td>\n",
       "      <td>145_prompt_prompts_prompting_optimization</td>\n",
       "      <td>[prompt, prompts, prompting, optimization, llm...</td>\n",
       "      <td>[  Prompt optimization aims to find the best p...</td>\n",
       "    </tr>\n",
       "  </tbody>\n",
       "</table>\n",
       "<p>147 rows × 5 columns</p>\n",
       "</div>"
      ],
      "text/plain": [
       "     Topic  Count                                       Name  \\\n",
       "0       -1  14145                           -1_of_the_and_to   \n",
       "1        0   2218             0_question_answer_questions_qa   \n",
       "2        1   2077               1_speech_asr_recognition_end   \n",
       "3        2   1304      2_medical_clinical_biomedical_patient   \n",
       "4        3   1012             3_translation_nmt_machine_bleu   \n",
       "..     ...    ...                                        ...   \n",
       "142    141     56       141_emoji_emojis_emoticons_sentiment   \n",
       "143    142     54               142_typing_entity_type_types   \n",
       "144    143     52        143_gans_gan_adversarial_generation   \n",
       "145    144     52     144_coherence_discourse_paragraph_text   \n",
       "146    145     50  145_prompt_prompts_prompting_optimization   \n",
       "\n",
       "                                        Representation  \\\n",
       "0    [of, the, and, to, in, we, language, that, for...   \n",
       "1    [question, answer, questions, qa, answering, a...   \n",
       "2    [speech, asr, recognition, end, acoustic, audi...   \n",
       "3    [medical, clinical, biomedical, patient, notes...   \n",
       "4    [translation, nmt, machine, bleu, neural, engl...   \n",
       "..                                                 ...   \n",
       "142  [emoji, emojis, emoticons, sentiment, social, ...   \n",
       "143  [typing, entity, type, types, grained, mention...   \n",
       "144  [gans, gan, adversarial, generation, generativ...   \n",
       "145  [coherence, discourse, paragraph, text, cohesi...   \n",
       "146  [prompt, prompts, prompting, optimization, llm...   \n",
       "\n",
       "                                   Representative_Docs  \n",
       "0    [  Existing NLP datasets contain various biase...  \n",
       "1    [  In recent years, there have been amazing ad...  \n",
       "2    [  Recent works showed that end-to-end neural ...  \n",
       "3    [  Medical entity retrieval is an integral com...  \n",
       "4    [  Many language pairs are low resource, meani...  \n",
       "..                                                 ...  \n",
       "142  [  The frequent use of Emojis on social media ...  \n",
       "143  [  For the task of fine-grained entity typing ...  \n",
       "144  [  Text generation is of particular interest i...  \n",
       "145  [  While there has been significant progress t...  \n",
       "146  [  Prompt optimization aims to find the best p...  \n",
       "\n",
       "[147 rows x 5 columns]"
      ]
     },
     "execution_count": 8,
     "metadata": {},
     "output_type": "execute_result"
    }
   ],
   "source": [
    "# 토픽에 대한 정보 제공\n",
    "topic_model.get_topic_info()"
   ]
  },
  {
   "cell_type": "markdown",
   "id": "e17158db",
   "metadata": {},
   "source": [
    "### 4.2 특정 토픽 키워드 확인"
   ]
  },
  {
   "cell_type": "code",
   "execution_count": 9,
   "id": "9180abcd",
   "metadata": {},
   "outputs": [
    {
     "data": {
      "text/plain": [
       "[('question', 0.021790546294502645),\n",
       " ('answer', 0.016171550461421377),\n",
       " ('questions', 0.01609062266570959),\n",
       " ('qa', 0.016000456573199352),\n",
       " ('answering', 0.015081137402727372),\n",
       " ('answers', 0.009963533060617888),\n",
       " ('retrieval', 0.009703280888035352),\n",
       " ('comprehension', 0.0079384680212119),\n",
       " ('reading', 0.007328196366777005),\n",
       " ('the', 0.006546302696243955)]"
      ]
     },
     "execution_count": 9,
     "metadata": {},
     "output_type": "execute_result"
    }
   ],
   "source": [
    "# 토픽 키워드 확인\n",
    "topic_model.get_topic(0)"
   ]
  },
  {
   "cell_type": "code",
   "execution_count": 10,
   "id": "8ba35c68",
   "metadata": {},
   "outputs": [
    {
     "data": {
      "text/plain": [
       "[('speech', 0.029683938280848986),\n",
       " ('asr', 0.019766529959028785),\n",
       " ('recognition', 0.014106982078333514),\n",
       " ('end', 0.010764116888865593),\n",
       " ('acoustic', 0.009866149234395665),\n",
       " ('audio', 0.007097298049809765),\n",
       " ('speaker', 0.00694324796948636),\n",
       " ('wer', 0.006708450666420824),\n",
       " ('error', 0.006708123730004558),\n",
       " ('the', 0.006685266944856871)]"
      ]
     },
     "execution_count": 10,
     "metadata": {},
     "output_type": "execute_result"
    }
   ],
   "source": [
    "# 토픽 키워드 확인\n",
    "topic_model.get_topic(1)"
   ]
  },
  {
   "cell_type": "markdown",
   "id": "a31a41a0",
   "metadata": {},
   "source": [
    "### 4.3 키워드로 토픽검색"
   ]
  },
  {
   "cell_type": "code",
   "execution_count": 11,
   "id": "1c88748d",
   "metadata": {},
   "outputs": [
    {
     "data": {
      "text/plain": [
       "([27, -1, 45, 2, 115], [0.9546319, 0.9115192, 0.9070977, 0.9059248, 0.9050997])"
      ]
     },
     "execution_count": 11,
     "metadata": {},
     "output_type": "execute_result"
    }
   ],
   "source": [
    "topic_model.find_topics(\"topic modeling\")"
   ]
  },
  {
   "cell_type": "code",
   "execution_count": 12,
   "id": "f64afba2",
   "metadata": {},
   "outputs": [
    {
     "data": {
      "text/plain": [
       "[('topic', 0.06873965291097482),\n",
       " ('topics', 0.036079472354503796),\n",
       " ('lda', 0.01667547419622479),\n",
       " ('latent', 0.013637437528202095),\n",
       " ('document', 0.012536231748955642),\n",
       " ('modeling', 0.012510482995139896),\n",
       " ('documents', 0.011908075346549758),\n",
       " ('dirichlet', 0.010059717369534853),\n",
       " ('word', 0.008870163999198342),\n",
       " ('allocation', 0.007838205821662697)]"
      ]
     },
     "execution_count": 12,
     "metadata": {},
     "output_type": "execute_result"
    }
   ],
   "source": [
    "topic_model.get_topic(27)"
   ]
  },
  {
   "cell_type": "code",
   "execution_count": 13,
   "id": "469ed7ea",
   "metadata": {},
   "outputs": [
    {
     "data": {
      "text/plain": [
       "27"
      ]
     },
     "execution_count": 13,
     "metadata": {},
     "output_type": "execute_result"
    }
   ],
   "source": [
    "# Bertopic 초록 할당되었는지 확인해보기\n",
    "topic_model.topics_[titles.index(\"BERTopic: Neural topic modeling with a class-based TF-IDF procedure\")]"
   ]
  },
  {
   "cell_type": "markdown",
   "id": "7e57631e",
   "metadata": {},
   "source": [
    "## 5. 토픽문서 시각화"
   ]
  },
  {
   "cell_type": "markdown",
   "id": "9b641fd2",
   "metadata": {},
   "source": [
    "### 5.1 기본 시각화"
   ]
  },
  {
   "cell_type": "code",
   "execution_count": 23,
   "id": "08530e54",
   "metadata": {},
   "outputs": [
    {
     "ename": "TypeError",
     "evalue": "Wrong key type: '9790' of type '<class 'numpy.int64'>'. Expected one of int, slice, range, str or Iterable.",
     "output_type": "error",
     "traceback": [
      "\u001b[1;31m---------------------------------------------------------------------------\u001b[0m",
      "\u001b[1;31mTypeError\u001b[0m                                 Traceback (most recent call last)",
      "Cell \u001b[1;32mIn[23], line 1\u001b[0m\n\u001b[1;32m----> 1\u001b[0m fig \u001b[38;5;241m=\u001b[39m \u001b[43mtopic_model\u001b[49m\u001b[38;5;241;43m.\u001b[39;49m\u001b[43mvisualize_documents\u001b[49m\u001b[43m(\u001b[49m\n\u001b[0;32m      2\u001b[0m \u001b[43m                                    \u001b[49m\u001b[43mtitles\u001b[49m\u001b[43m,\u001b[49m\n\u001b[0;32m      3\u001b[0m \u001b[43m                                    \u001b[49m\u001b[43mreduced_embeddings\u001b[49m\u001b[38;5;241;43m=\u001b[39;49m\u001b[43mreduced_embeddings\u001b[49m\u001b[43m,\u001b[49m\n\u001b[0;32m      4\u001b[0m \u001b[43m                                    \u001b[49m\u001b[43mwidth\u001b[49m\u001b[38;5;241;43m=\u001b[39;49m\u001b[38;5;241;43m1200\u001b[39;49m\u001b[43m,\u001b[49m\n\u001b[0;32m      5\u001b[0m \u001b[43m                                    \u001b[49m\u001b[43mhide_annotations\u001b[49m\u001b[38;5;241;43m=\u001b[39;49m\u001b[38;5;28;43;01mTrue\u001b[39;49;00m\n\u001b[0;32m      6\u001b[0m \u001b[43m                                    \u001b[49m\u001b[43m)\u001b[49m\n\u001b[0;32m      8\u001b[0m fig\u001b[38;5;241m.\u001b[39mupdate_layout(font\u001b[38;5;241m=\u001b[39m\u001b[38;5;28mdict\u001b[39m(size\u001b[38;5;241m=\u001b[39m\u001b[38;5;241m16\u001b[39m))\n",
      "File \u001b[1;32mc:\\Users\\heian\\anaconda3\\lib\\site-packages\\bertopic\\_bertopic.py:2537\u001b[0m, in \u001b[0;36mBERTopic.visualize_documents\u001b[1;34m(self, docs, topics, embeddings, reduced_embeddings, sample, hide_annotations, hide_document_hover, custom_labels, title, width, height)\u001b[0m\n\u001b[0;32m   2535\u001b[0m check_is_fitted(\u001b[38;5;28mself\u001b[39m)\n\u001b[0;32m   2536\u001b[0m check_documents_type(docs)\n\u001b[1;32m-> 2537\u001b[0m \u001b[38;5;28;01mreturn\u001b[39;00m \u001b[43mplotting\u001b[49m\u001b[38;5;241;43m.\u001b[39;49m\u001b[43mvisualize_documents\u001b[49m\u001b[43m(\u001b[49m\n\u001b[0;32m   2538\u001b[0m \u001b[43m    \u001b[49m\u001b[38;5;28;43mself\u001b[39;49m\u001b[43m,\u001b[49m\n\u001b[0;32m   2539\u001b[0m \u001b[43m    \u001b[49m\u001b[43mdocs\u001b[49m\u001b[38;5;241;43m=\u001b[39;49m\u001b[43mdocs\u001b[49m\u001b[43m,\u001b[49m\n\u001b[0;32m   2540\u001b[0m \u001b[43m    \u001b[49m\u001b[43mtopics\u001b[49m\u001b[38;5;241;43m=\u001b[39;49m\u001b[43mtopics\u001b[49m\u001b[43m,\u001b[49m\n\u001b[0;32m   2541\u001b[0m \u001b[43m    \u001b[49m\u001b[43membeddings\u001b[49m\u001b[38;5;241;43m=\u001b[39;49m\u001b[43membeddings\u001b[49m\u001b[43m,\u001b[49m\n\u001b[0;32m   2542\u001b[0m \u001b[43m    \u001b[49m\u001b[43mreduced_embeddings\u001b[49m\u001b[38;5;241;43m=\u001b[39;49m\u001b[43mreduced_embeddings\u001b[49m\u001b[43m,\u001b[49m\n\u001b[0;32m   2543\u001b[0m \u001b[43m    \u001b[49m\u001b[43msample\u001b[49m\u001b[38;5;241;43m=\u001b[39;49m\u001b[43msample\u001b[49m\u001b[43m,\u001b[49m\n\u001b[0;32m   2544\u001b[0m \u001b[43m    \u001b[49m\u001b[43mhide_annotations\u001b[49m\u001b[38;5;241;43m=\u001b[39;49m\u001b[43mhide_annotations\u001b[49m\u001b[43m,\u001b[49m\n\u001b[0;32m   2545\u001b[0m \u001b[43m    \u001b[49m\u001b[43mhide_document_hover\u001b[49m\u001b[38;5;241;43m=\u001b[39;49m\u001b[43mhide_document_hover\u001b[49m\u001b[43m,\u001b[49m\n\u001b[0;32m   2546\u001b[0m \u001b[43m    \u001b[49m\u001b[43mcustom_labels\u001b[49m\u001b[38;5;241;43m=\u001b[39;49m\u001b[43mcustom_labels\u001b[49m\u001b[43m,\u001b[49m\n\u001b[0;32m   2547\u001b[0m \u001b[43m    \u001b[49m\u001b[43mtitle\u001b[49m\u001b[38;5;241;43m=\u001b[39;49m\u001b[43mtitle\u001b[49m\u001b[43m,\u001b[49m\n\u001b[0;32m   2548\u001b[0m \u001b[43m    \u001b[49m\u001b[43mwidth\u001b[49m\u001b[38;5;241;43m=\u001b[39;49m\u001b[43mwidth\u001b[49m\u001b[43m,\u001b[49m\n\u001b[0;32m   2549\u001b[0m \u001b[43m    \u001b[49m\u001b[43mheight\u001b[49m\u001b[38;5;241;43m=\u001b[39;49m\u001b[43mheight\u001b[49m\u001b[43m,\u001b[49m\n\u001b[0;32m   2550\u001b[0m \u001b[43m\u001b[49m\u001b[43m)\u001b[49m\n",
      "File \u001b[1;32mc:\\Users\\heian\\anaconda3\\lib\\site-packages\\bertopic\\plotting\\_documents.py:105\u001b[0m, in \u001b[0;36mvisualize_documents\u001b[1;34m(topic_model, docs, topics, embeddings, reduced_embeddings, sample, hide_annotations, hide_document_hover, custom_labels, title, width, height)\u001b[0m\n\u001b[0;32m    102\u001b[0m indices \u001b[38;5;241m=\u001b[39m np\u001b[38;5;241m.\u001b[39marray(indices)\n\u001b[0;32m    104\u001b[0m df \u001b[38;5;241m=\u001b[39m pd\u001b[38;5;241m.\u001b[39mDataFrame({\u001b[38;5;124m\"\u001b[39m\u001b[38;5;124mtopic\u001b[39m\u001b[38;5;124m\"\u001b[39m: np\u001b[38;5;241m.\u001b[39marray(topic_per_doc)[indices]})\n\u001b[1;32m--> 105\u001b[0m df[\u001b[38;5;124m\"\u001b[39m\u001b[38;5;124mdoc\u001b[39m\u001b[38;5;124m\"\u001b[39m] \u001b[38;5;241m=\u001b[39m [docs[index] \u001b[38;5;28;01mfor\u001b[39;00m index \u001b[38;5;129;01min\u001b[39;00m indices]\n\u001b[0;32m    106\u001b[0m df[\u001b[38;5;124m\"\u001b[39m\u001b[38;5;124mtopic\u001b[39m\u001b[38;5;124m\"\u001b[39m] \u001b[38;5;241m=\u001b[39m [topic_per_doc[index] \u001b[38;5;28;01mfor\u001b[39;00m index \u001b[38;5;129;01min\u001b[39;00m indices]\n\u001b[0;32m    108\u001b[0m \u001b[38;5;66;03m# Extract embeddings if not already done\u001b[39;00m\n",
      "File \u001b[1;32mc:\\Users\\heian\\anaconda3\\lib\\site-packages\\bertopic\\plotting\\_documents.py:105\u001b[0m, in \u001b[0;36m<listcomp>\u001b[1;34m(.0)\u001b[0m\n\u001b[0;32m    102\u001b[0m indices \u001b[38;5;241m=\u001b[39m np\u001b[38;5;241m.\u001b[39marray(indices)\n\u001b[0;32m    104\u001b[0m df \u001b[38;5;241m=\u001b[39m pd\u001b[38;5;241m.\u001b[39mDataFrame({\u001b[38;5;124m\"\u001b[39m\u001b[38;5;124mtopic\u001b[39m\u001b[38;5;124m\"\u001b[39m: np\u001b[38;5;241m.\u001b[39marray(topic_per_doc)[indices]})\n\u001b[1;32m--> 105\u001b[0m df[\u001b[38;5;124m\"\u001b[39m\u001b[38;5;124mdoc\u001b[39m\u001b[38;5;124m\"\u001b[39m] \u001b[38;5;241m=\u001b[39m [\u001b[43mdocs\u001b[49m\u001b[43m[\u001b[49m\u001b[43mindex\u001b[49m\u001b[43m]\u001b[49m \u001b[38;5;28;01mfor\u001b[39;00m index \u001b[38;5;129;01min\u001b[39;00m indices]\n\u001b[0;32m    106\u001b[0m df[\u001b[38;5;124m\"\u001b[39m\u001b[38;5;124mtopic\u001b[39m\u001b[38;5;124m\"\u001b[39m] \u001b[38;5;241m=\u001b[39m [topic_per_doc[index] \u001b[38;5;28;01mfor\u001b[39;00m index \u001b[38;5;129;01min\u001b[39;00m indices]\n\u001b[0;32m    108\u001b[0m \u001b[38;5;66;03m# Extract embeddings if not already done\u001b[39;00m\n",
      "File \u001b[1;32mc:\\Users\\heian\\anaconda3\\lib\\site-packages\\datasets\\arrow_dataset.py:669\u001b[0m, in \u001b[0;36mColumn.__getitem__\u001b[1;34m(self, key)\u001b[0m\n\u001b[0;32m    667\u001b[0m     \u001b[38;5;28;01mreturn\u001b[39;00m Column(\u001b[38;5;28mself\u001b[39m, key)\n\u001b[0;32m    668\u001b[0m \u001b[38;5;28;01melif\u001b[39;00m \u001b[38;5;28misinstance\u001b[39m(\u001b[38;5;28mself\u001b[39m\u001b[38;5;241m.\u001b[39msource, Dataset):\n\u001b[1;32m--> 669\u001b[0m     \u001b[38;5;28;01mreturn\u001b[39;00m \u001b[38;5;28;43mself\u001b[39;49m\u001b[38;5;241;43m.\u001b[39;49m\u001b[43msource\u001b[49m\u001b[38;5;241;43m.\u001b[39;49m\u001b[43m_fast_select_column\u001b[49m\u001b[43m(\u001b[49m\u001b[38;5;28;43mself\u001b[39;49m\u001b[38;5;241;43m.\u001b[39;49m\u001b[43mcolumn_name\u001b[49m\u001b[43m)\u001b[49m\u001b[43m[\u001b[49m\u001b[43mkey\u001b[49m\u001b[43m]\u001b[49m[\u001b[38;5;28mself\u001b[39m\u001b[38;5;241m.\u001b[39mcolumn_name]\n\u001b[0;32m    670\u001b[0m \u001b[38;5;28;01melif\u001b[39;00m \u001b[38;5;28misinstance\u001b[39m(key, \u001b[38;5;28mint\u001b[39m):\n\u001b[0;32m    671\u001b[0m     \u001b[38;5;28;01mreturn\u001b[39;00m \u001b[38;5;28mself\u001b[39m\u001b[38;5;241m.\u001b[39msource[key][\u001b[38;5;28mself\u001b[39m\u001b[38;5;241m.\u001b[39mcolumn_name]\n",
      "File \u001b[1;32mc:\\Users\\heian\\anaconda3\\lib\\site-packages\\datasets\\arrow_dataset.py:2859\u001b[0m, in \u001b[0;36mDataset.__getitem__\u001b[1;34m(self, key)\u001b[0m\n\u001b[0;32m   2857\u001b[0m     \u001b[38;5;28;01mif\u001b[39;00m \u001b[38;5;28mself\u001b[39m\u001b[38;5;241m.\u001b[39m_format_type \u001b[38;5;129;01mis\u001b[39;00m \u001b[38;5;28;01mNone\u001b[39;00m \u001b[38;5;129;01mor\u001b[39;00m \u001b[38;5;28mself\u001b[39m\u001b[38;5;241m.\u001b[39m_format_type \u001b[38;5;129;01mnot\u001b[39;00m \u001b[38;5;129;01min\u001b[39;00m (\u001b[38;5;124m\"\u001b[39m\u001b[38;5;124marrow\u001b[39m\u001b[38;5;124m\"\u001b[39m, \u001b[38;5;124m\"\u001b[39m\u001b[38;5;124mpandas\u001b[39m\u001b[38;5;124m\"\u001b[39m, \u001b[38;5;124m\"\u001b[39m\u001b[38;5;124mpolars\u001b[39m\u001b[38;5;124m\"\u001b[39m):\n\u001b[0;32m   2858\u001b[0m         \u001b[38;5;28;01mreturn\u001b[39;00m Column(\u001b[38;5;28mself\u001b[39m, key)\n\u001b[1;32m-> 2859\u001b[0m \u001b[38;5;28;01mreturn\u001b[39;00m \u001b[38;5;28;43mself\u001b[39;49m\u001b[38;5;241;43m.\u001b[39;49m\u001b[43m_getitem\u001b[49m\u001b[43m(\u001b[49m\u001b[43mkey\u001b[49m\u001b[43m)\u001b[49m\n",
      "File \u001b[1;32mc:\\Users\\heian\\anaconda3\\lib\\site-packages\\datasets\\arrow_dataset.py:2841\u001b[0m, in \u001b[0;36mDataset._getitem\u001b[1;34m(self, key, **kwargs)\u001b[0m\n\u001b[0;32m   2839\u001b[0m formatter \u001b[38;5;241m=\u001b[39m get_formatter(format_type, features\u001b[38;5;241m=\u001b[39m\u001b[38;5;28mself\u001b[39m\u001b[38;5;241m.\u001b[39m_info\u001b[38;5;241m.\u001b[39mfeatures, \u001b[38;5;241m*\u001b[39m\u001b[38;5;241m*\u001b[39mformat_kwargs)\n\u001b[0;32m   2840\u001b[0m pa_subtable \u001b[38;5;241m=\u001b[39m query_table(\u001b[38;5;28mself\u001b[39m\u001b[38;5;241m.\u001b[39m_data, key, indices\u001b[38;5;241m=\u001b[39m\u001b[38;5;28mself\u001b[39m\u001b[38;5;241m.\u001b[39m_indices)\n\u001b[1;32m-> 2841\u001b[0m formatted_output \u001b[38;5;241m=\u001b[39m \u001b[43mformat_table\u001b[49m\u001b[43m(\u001b[49m\n\u001b[0;32m   2842\u001b[0m \u001b[43m    \u001b[49m\u001b[43mpa_subtable\u001b[49m\u001b[43m,\u001b[49m\u001b[43m \u001b[49m\u001b[43mkey\u001b[49m\u001b[43m,\u001b[49m\u001b[43m \u001b[49m\u001b[43mformatter\u001b[49m\u001b[38;5;241;43m=\u001b[39;49m\u001b[43mformatter\u001b[49m\u001b[43m,\u001b[49m\u001b[43m \u001b[49m\u001b[43mformat_columns\u001b[49m\u001b[38;5;241;43m=\u001b[39;49m\u001b[43mformat_columns\u001b[49m\u001b[43m,\u001b[49m\u001b[43m \u001b[49m\u001b[43moutput_all_columns\u001b[49m\u001b[38;5;241;43m=\u001b[39;49m\u001b[43moutput_all_columns\u001b[49m\n\u001b[0;32m   2843\u001b[0m \u001b[43m\u001b[49m\u001b[43m)\u001b[49m\n\u001b[0;32m   2844\u001b[0m \u001b[38;5;28;01mreturn\u001b[39;00m formatted_output\n",
      "File \u001b[1;32mc:\\Users\\heian\\anaconda3\\lib\\site-packages\\datasets\\formatting\\formatting.py:654\u001b[0m, in \u001b[0;36mformat_table\u001b[1;34m(table, key, formatter, format_columns, output_all_columns)\u001b[0m\n\u001b[0;32m    652\u001b[0m \u001b[38;5;28;01melse\u001b[39;00m:\n\u001b[0;32m    653\u001b[0m     pa_table \u001b[38;5;241m=\u001b[39m table\n\u001b[1;32m--> 654\u001b[0m query_type \u001b[38;5;241m=\u001b[39m \u001b[43mkey_to_query_type\u001b[49m\u001b[43m(\u001b[49m\u001b[43mkey\u001b[49m\u001b[43m)\u001b[49m\n\u001b[0;32m    655\u001b[0m python_formatter \u001b[38;5;241m=\u001b[39m PythonFormatter(features\u001b[38;5;241m=\u001b[39mformatter\u001b[38;5;241m.\u001b[39mfeatures)\n\u001b[0;32m    656\u001b[0m \u001b[38;5;28;01mif\u001b[39;00m format_columns \u001b[38;5;129;01mis\u001b[39;00m \u001b[38;5;28;01mNone\u001b[39;00m:\n",
      "File \u001b[1;32mc:\\Users\\heian\\anaconda3\\lib\\site-packages\\datasets\\formatting\\formatting.py:574\u001b[0m, in \u001b[0;36mkey_to_query_type\u001b[1;34m(key)\u001b[0m\n\u001b[0;32m    572\u001b[0m \u001b[38;5;28;01melif\u001b[39;00m \u001b[38;5;28misinstance\u001b[39m(key, (\u001b[38;5;28mslice\u001b[39m, \u001b[38;5;28mrange\u001b[39m, Iterable)):\n\u001b[0;32m    573\u001b[0m     \u001b[38;5;28;01mreturn\u001b[39;00m \u001b[38;5;124m\"\u001b[39m\u001b[38;5;124mbatch\u001b[39m\u001b[38;5;124m\"\u001b[39m\n\u001b[1;32m--> 574\u001b[0m \u001b[43m_raise_bad_key_type\u001b[49m\u001b[43m(\u001b[49m\u001b[43mkey\u001b[49m\u001b[43m)\u001b[49m\n",
      "File \u001b[1;32mc:\\Users\\heian\\anaconda3\\lib\\site-packages\\datasets\\formatting\\formatting.py:44\u001b[0m, in \u001b[0;36m_raise_bad_key_type\u001b[1;34m(key)\u001b[0m\n\u001b[0;32m     43\u001b[0m \u001b[38;5;28;01mdef\u001b[39;00m \u001b[38;5;21m_raise_bad_key_type\u001b[39m(key: Any):\n\u001b[1;32m---> 44\u001b[0m     \u001b[38;5;28;01mraise\u001b[39;00m \u001b[38;5;167;01mTypeError\u001b[39;00m(\n\u001b[0;32m     45\u001b[0m         \u001b[38;5;124mf\u001b[39m\u001b[38;5;124m\"\u001b[39m\u001b[38;5;124mWrong key type: \u001b[39m\u001b[38;5;124m'\u001b[39m\u001b[38;5;132;01m{\u001b[39;00mkey\u001b[38;5;132;01m}\u001b[39;00m\u001b[38;5;124m'\u001b[39m\u001b[38;5;124m of type \u001b[39m\u001b[38;5;124m'\u001b[39m\u001b[38;5;132;01m{\u001b[39;00m\u001b[38;5;28mtype\u001b[39m(key)\u001b[38;5;132;01m}\u001b[39;00m\u001b[38;5;124m'\u001b[39m\u001b[38;5;124m. Expected one of int, slice, range, str or Iterable.\u001b[39m\u001b[38;5;124m\"\u001b[39m\n\u001b[0;32m     46\u001b[0m     )\n",
      "\u001b[1;31mTypeError\u001b[0m: Wrong key type: '9790' of type '<class 'numpy.int64'>'. Expected one of int, slice, range, str or Iterable."
     ]
    }
   ],
   "source": [
    "fig = topic_model.visualize_documents(\n",
    "                                    titles,\n",
    "                                    reduced_embeddings=reduced_embeddings,\n",
    "                                    width=1200,\n",
    "                                    hide_annotations=True\n",
    "                                    )\n",
    "\n",
    "fig.update_layout(font=dict(size=16))"
   ]
  },
  {
   "cell_type": "markdown",
   "id": "3f2a793a",
   "metadata": {},
   "source": [
    "### 5.2 키워드순 막대그래프"
   ]
  },
  {
   "cell_type": "code",
   "execution_count": 24,
   "id": "5869084d",
   "metadata": {},
   "outputs": [
    {
     "data": {
      "application/vnd.plotly.v1+json": {
       "config": {
        "plotlyServerURL": "https://plot.ly"
       },
       "data": [
        {
         "marker": {
          "color": "#D55E00"
         },
         "orientation": "h",
         "type": "bar",
         "x": [
          0.015081137402727372,
          0.016000456573199352,
          0.01609062266570959,
          0.016171550461421377,
          0.021790546294502645
         ],
         "xaxis": "x",
         "y": [
          "answering  ",
          "qa  ",
          "questions  ",
          "answer  ",
          "question  "
         ],
         "yaxis": "y"
        },
        {
         "marker": {
          "color": "#0072B2"
         },
         "orientation": "h",
         "type": "bar",
         "x": [
          0.009866149234395665,
          0.010764116888865593,
          0.014106982078333514,
          0.019766529959028785,
          0.029683938280848986
         ],
         "xaxis": "x2",
         "y": [
          "acoustic  ",
          "end  ",
          "recognition  ",
          "asr  ",
          "speech  "
         ],
         "yaxis": "y2"
        },
        {
         "marker": {
          "color": "#CC79A7"
         },
         "orientation": "h",
         "type": "bar",
         "x": [
          0.00846614874547799,
          0.010015242752161715,
          0.0158156284562273,
          0.022545902720168112,
          0.023652847636450793
         ],
         "xaxis": "x3",
         "y": [
          "notes  ",
          "patient  ",
          "biomedical  ",
          "clinical  ",
          "medical  "
         ],
         "yaxis": "y3"
        },
        {
         "marker": {
          "color": "#E69F00"
         },
         "orientation": "h",
         "type": "bar",
         "x": [
          0.010611596356839142,
          0.010904322031937056,
          0.016176343017425557,
          0.02455112566465191,
          0.03414127280871735
         ],
         "xaxis": "x4",
         "y": [
          "neural  ",
          "bleu  ",
          "machine  ",
          "nmt  ",
          "translation  "
         ],
         "yaxis": "y4"
        },
        {
         "marker": {
          "color": "#56B4E9"
         },
         "orientation": "h",
         "type": "bar",
         "x": [
          0.01458005185232333,
          0.018145067476376335,
          0.021159393592613873,
          0.024571995279963118,
          0.041735288264935444
         ],
         "xaxis": "x5",
         "y": [
          "document  ",
          "abstractive  ",
          "summary  ",
          "summaries  ",
          "summarization  "
         ],
         "yaxis": "y5"
        },
        {
         "marker": {
          "color": "#009E73"
         },
         "orientation": "h",
         "type": "bar",
         "x": [
          0.012636485358693127,
          0.014307969250919749,
          0.015467581176851184,
          0.020204760282414913,
          0.03508559209237428
         ],
         "xaxis": "x6",
         "y": [
          "toxic  ",
          "detection  ",
          "speech  ",
          "offensive  ",
          "hate  "
         ],
         "yaxis": "y6"
        },
        {
         "marker": {
          "color": "#F0E442"
         },
         "orientation": "h",
         "type": "bar",
         "x": [
          0.010889495428575414,
          0.01187949085501506,
          0.02605948033952534,
          0.03956788487952717,
          0.04180099753367601
         ],
         "xaxis": "x7",
         "y": [
          "fairness  ",
          "debiasing  ",
          "biases  ",
          "bias  ",
          "gender  "
         ],
         "yaxis": "y7"
        },
        {
         "marker": {
          "color": "#D55E00"
         },
         "orientation": "h",
         "type": "bar",
         "x": [
          0.013252216395694466,
          0.016322691046686478,
          0.016566677773141747,
          0.028724518617165865,
          0.03985508844366387
         ],
         "xaxis": "x8",
         "y": [
          "entity  ",
          "re  ",
          "relations  ",
          "extraction  ",
          "relation  "
         ],
         "yaxis": "y8"
        }
       ],
       "layout": {
        "annotations": [
         {
          "font": {
           "size": 16
          },
          "showarrow": false,
          "text": "Topic 0",
          "x": 0.0875,
          "xanchor": "center",
          "xref": "paper",
          "y": 1,
          "yanchor": "bottom",
          "yref": "paper"
         },
         {
          "font": {
           "size": 16
          },
          "showarrow": false,
          "text": "Topic 1",
          "x": 0.36250000000000004,
          "xanchor": "center",
          "xref": "paper",
          "y": 1,
          "yanchor": "bottom",
          "yref": "paper"
         },
         {
          "font": {
           "size": 16
          },
          "showarrow": false,
          "text": "Topic 2",
          "x": 0.6375000000000001,
          "xanchor": "center",
          "xref": "paper",
          "y": 1,
          "yanchor": "bottom",
          "yref": "paper"
         },
         {
          "font": {
           "size": 16
          },
          "showarrow": false,
          "text": "Topic 3",
          "x": 0.9125,
          "xanchor": "center",
          "xref": "paper",
          "y": 1,
          "yanchor": "bottom",
          "yref": "paper"
         },
         {
          "font": {
           "size": 16
          },
          "showarrow": false,
          "text": "Topic 4",
          "x": 0.0875,
          "xanchor": "center",
          "xref": "paper",
          "y": 0.4,
          "yanchor": "bottom",
          "yref": "paper"
         },
         {
          "font": {
           "size": 16
          },
          "showarrow": false,
          "text": "Topic 5",
          "x": 0.36250000000000004,
          "xanchor": "center",
          "xref": "paper",
          "y": 0.4,
          "yanchor": "bottom",
          "yref": "paper"
         },
         {
          "font": {
           "size": 16
          },
          "showarrow": false,
          "text": "Topic 6",
          "x": 0.6375000000000001,
          "xanchor": "center",
          "xref": "paper",
          "y": 0.4,
          "yanchor": "bottom",
          "yref": "paper"
         },
         {
          "font": {
           "size": 16
          },
          "showarrow": false,
          "text": "Topic 7",
          "x": 0.9125,
          "xanchor": "center",
          "xref": "paper",
          "y": 0.4,
          "yanchor": "bottom",
          "yref": "paper"
         }
        ],
        "height": 500,
        "hoverlabel": {
         "bgcolor": "white",
         "font": {
          "family": "Rockwell",
          "size": 16
         }
        },
        "showlegend": false,
        "template": {
         "data": {
          "bar": [
           {
            "error_x": {
             "color": "#2a3f5f"
            },
            "error_y": {
             "color": "#2a3f5f"
            },
            "marker": {
             "line": {
              "color": "white",
              "width": 0.5
             },
             "pattern": {
              "fillmode": "overlay",
              "size": 10,
              "solidity": 0.2
             }
            },
            "type": "bar"
           }
          ],
          "barpolar": [
           {
            "marker": {
             "line": {
              "color": "white",
              "width": 0.5
             },
             "pattern": {
              "fillmode": "overlay",
              "size": 10,
              "solidity": 0.2
             }
            },
            "type": "barpolar"
           }
          ],
          "carpet": [
           {
            "aaxis": {
             "endlinecolor": "#2a3f5f",
             "gridcolor": "#C8D4E3",
             "linecolor": "#C8D4E3",
             "minorgridcolor": "#C8D4E3",
             "startlinecolor": "#2a3f5f"
            },
            "baxis": {
             "endlinecolor": "#2a3f5f",
             "gridcolor": "#C8D4E3",
             "linecolor": "#C8D4E3",
             "minorgridcolor": "#C8D4E3",
             "startlinecolor": "#2a3f5f"
            },
            "type": "carpet"
           }
          ],
          "choropleth": [
           {
            "colorbar": {
             "outlinewidth": 0,
             "ticks": ""
            },
            "type": "choropleth"
           }
          ],
          "contour": [
           {
            "colorbar": {
             "outlinewidth": 0,
             "ticks": ""
            },
            "colorscale": [
             [
              0,
              "#0d0887"
             ],
             [
              0.1111111111111111,
              "#46039f"
             ],
             [
              0.2222222222222222,
              "#7201a8"
             ],
             [
              0.3333333333333333,
              "#9c179e"
             ],
             [
              0.4444444444444444,
              "#bd3786"
             ],
             [
              0.5555555555555556,
              "#d8576b"
             ],
             [
              0.6666666666666666,
              "#ed7953"
             ],
             [
              0.7777777777777778,
              "#fb9f3a"
             ],
             [
              0.8888888888888888,
              "#fdca26"
             ],
             [
              1,
              "#f0f921"
             ]
            ],
            "type": "contour"
           }
          ],
          "contourcarpet": [
           {
            "colorbar": {
             "outlinewidth": 0,
             "ticks": ""
            },
            "type": "contourcarpet"
           }
          ],
          "heatmap": [
           {
            "colorbar": {
             "outlinewidth": 0,
             "ticks": ""
            },
            "colorscale": [
             [
              0,
              "#0d0887"
             ],
             [
              0.1111111111111111,
              "#46039f"
             ],
             [
              0.2222222222222222,
              "#7201a8"
             ],
             [
              0.3333333333333333,
              "#9c179e"
             ],
             [
              0.4444444444444444,
              "#bd3786"
             ],
             [
              0.5555555555555556,
              "#d8576b"
             ],
             [
              0.6666666666666666,
              "#ed7953"
             ],
             [
              0.7777777777777778,
              "#fb9f3a"
             ],
             [
              0.8888888888888888,
              "#fdca26"
             ],
             [
              1,
              "#f0f921"
             ]
            ],
            "type": "heatmap"
           }
          ],
          "histogram": [
           {
            "marker": {
             "pattern": {
              "fillmode": "overlay",
              "size": 10,
              "solidity": 0.2
             }
            },
            "type": "histogram"
           }
          ],
          "histogram2d": [
           {
            "colorbar": {
             "outlinewidth": 0,
             "ticks": ""
            },
            "colorscale": [
             [
              0,
              "#0d0887"
             ],
             [
              0.1111111111111111,
              "#46039f"
             ],
             [
              0.2222222222222222,
              "#7201a8"
             ],
             [
              0.3333333333333333,
              "#9c179e"
             ],
             [
              0.4444444444444444,
              "#bd3786"
             ],
             [
              0.5555555555555556,
              "#d8576b"
             ],
             [
              0.6666666666666666,
              "#ed7953"
             ],
             [
              0.7777777777777778,
              "#fb9f3a"
             ],
             [
              0.8888888888888888,
              "#fdca26"
             ],
             [
              1,
              "#f0f921"
             ]
            ],
            "type": "histogram2d"
           }
          ],
          "histogram2dcontour": [
           {
            "colorbar": {
             "outlinewidth": 0,
             "ticks": ""
            },
            "colorscale": [
             [
              0,
              "#0d0887"
             ],
             [
              0.1111111111111111,
              "#46039f"
             ],
             [
              0.2222222222222222,
              "#7201a8"
             ],
             [
              0.3333333333333333,
              "#9c179e"
             ],
             [
              0.4444444444444444,
              "#bd3786"
             ],
             [
              0.5555555555555556,
              "#d8576b"
             ],
             [
              0.6666666666666666,
              "#ed7953"
             ],
             [
              0.7777777777777778,
              "#fb9f3a"
             ],
             [
              0.8888888888888888,
              "#fdca26"
             ],
             [
              1,
              "#f0f921"
             ]
            ],
            "type": "histogram2dcontour"
           }
          ],
          "mesh3d": [
           {
            "colorbar": {
             "outlinewidth": 0,
             "ticks": ""
            },
            "type": "mesh3d"
           }
          ],
          "parcoords": [
           {
            "line": {
             "colorbar": {
              "outlinewidth": 0,
              "ticks": ""
             }
            },
            "type": "parcoords"
           }
          ],
          "pie": [
           {
            "automargin": true,
            "type": "pie"
           }
          ],
          "scatter": [
           {
            "fillpattern": {
             "fillmode": "overlay",
             "size": 10,
             "solidity": 0.2
            },
            "type": "scatter"
           }
          ],
          "scatter3d": [
           {
            "line": {
             "colorbar": {
              "outlinewidth": 0,
              "ticks": ""
             }
            },
            "marker": {
             "colorbar": {
              "outlinewidth": 0,
              "ticks": ""
             }
            },
            "type": "scatter3d"
           }
          ],
          "scattercarpet": [
           {
            "marker": {
             "colorbar": {
              "outlinewidth": 0,
              "ticks": ""
             }
            },
            "type": "scattercarpet"
           }
          ],
          "scattergeo": [
           {
            "marker": {
             "colorbar": {
              "outlinewidth": 0,
              "ticks": ""
             }
            },
            "type": "scattergeo"
           }
          ],
          "scattergl": [
           {
            "marker": {
             "colorbar": {
              "outlinewidth": 0,
              "ticks": ""
             }
            },
            "type": "scattergl"
           }
          ],
          "scattermap": [
           {
            "marker": {
             "colorbar": {
              "outlinewidth": 0,
              "ticks": ""
             }
            },
            "type": "scattermap"
           }
          ],
          "scattermapbox": [
           {
            "marker": {
             "colorbar": {
              "outlinewidth": 0,
              "ticks": ""
             }
            },
            "type": "scattermapbox"
           }
          ],
          "scatterpolar": [
           {
            "marker": {
             "colorbar": {
              "outlinewidth": 0,
              "ticks": ""
             }
            },
            "type": "scatterpolar"
           }
          ],
          "scatterpolargl": [
           {
            "marker": {
             "colorbar": {
              "outlinewidth": 0,
              "ticks": ""
             }
            },
            "type": "scatterpolargl"
           }
          ],
          "scatterternary": [
           {
            "marker": {
             "colorbar": {
              "outlinewidth": 0,
              "ticks": ""
             }
            },
            "type": "scatterternary"
           }
          ],
          "surface": [
           {
            "colorbar": {
             "outlinewidth": 0,
             "ticks": ""
            },
            "colorscale": [
             [
              0,
              "#0d0887"
             ],
             [
              0.1111111111111111,
              "#46039f"
             ],
             [
              0.2222222222222222,
              "#7201a8"
             ],
             [
              0.3333333333333333,
              "#9c179e"
             ],
             [
              0.4444444444444444,
              "#bd3786"
             ],
             [
              0.5555555555555556,
              "#d8576b"
             ],
             [
              0.6666666666666666,
              "#ed7953"
             ],
             [
              0.7777777777777778,
              "#fb9f3a"
             ],
             [
              0.8888888888888888,
              "#fdca26"
             ],
             [
              1,
              "#f0f921"
             ]
            ],
            "type": "surface"
           }
          ],
          "table": [
           {
            "cells": {
             "fill": {
              "color": "#EBF0F8"
             },
             "line": {
              "color": "white"
             }
            },
            "header": {
             "fill": {
              "color": "#C8D4E3"
             },
             "line": {
              "color": "white"
             }
            },
            "type": "table"
           }
          ]
         },
         "layout": {
          "annotationdefaults": {
           "arrowcolor": "#2a3f5f",
           "arrowhead": 0,
           "arrowwidth": 1
          },
          "autotypenumbers": "strict",
          "coloraxis": {
           "colorbar": {
            "outlinewidth": 0,
            "ticks": ""
           }
          },
          "colorscale": {
           "diverging": [
            [
             0,
             "#8e0152"
            ],
            [
             0.1,
             "#c51b7d"
            ],
            [
             0.2,
             "#de77ae"
            ],
            [
             0.3,
             "#f1b6da"
            ],
            [
             0.4,
             "#fde0ef"
            ],
            [
             0.5,
             "#f7f7f7"
            ],
            [
             0.6,
             "#e6f5d0"
            ],
            [
             0.7,
             "#b8e186"
            ],
            [
             0.8,
             "#7fbc41"
            ],
            [
             0.9,
             "#4d9221"
            ],
            [
             1,
             "#276419"
            ]
           ],
           "sequential": [
            [
             0,
             "#0d0887"
            ],
            [
             0.1111111111111111,
             "#46039f"
            ],
            [
             0.2222222222222222,
             "#7201a8"
            ],
            [
             0.3333333333333333,
             "#9c179e"
            ],
            [
             0.4444444444444444,
             "#bd3786"
            ],
            [
             0.5555555555555556,
             "#d8576b"
            ],
            [
             0.6666666666666666,
             "#ed7953"
            ],
            [
             0.7777777777777778,
             "#fb9f3a"
            ],
            [
             0.8888888888888888,
             "#fdca26"
            ],
            [
             1,
             "#f0f921"
            ]
           ],
           "sequentialminus": [
            [
             0,
             "#0d0887"
            ],
            [
             0.1111111111111111,
             "#46039f"
            ],
            [
             0.2222222222222222,
             "#7201a8"
            ],
            [
             0.3333333333333333,
             "#9c179e"
            ],
            [
             0.4444444444444444,
             "#bd3786"
            ],
            [
             0.5555555555555556,
             "#d8576b"
            ],
            [
             0.6666666666666666,
             "#ed7953"
            ],
            [
             0.7777777777777778,
             "#fb9f3a"
            ],
            [
             0.8888888888888888,
             "#fdca26"
            ],
            [
             1,
             "#f0f921"
            ]
           ]
          },
          "colorway": [
           "#636efa",
           "#EF553B",
           "#00cc96",
           "#ab63fa",
           "#FFA15A",
           "#19d3f3",
           "#FF6692",
           "#B6E880",
           "#FF97FF",
           "#FECB52"
          ],
          "font": {
           "color": "#2a3f5f"
          },
          "geo": {
           "bgcolor": "white",
           "lakecolor": "white",
           "landcolor": "white",
           "showlakes": true,
           "showland": true,
           "subunitcolor": "#C8D4E3"
          },
          "hoverlabel": {
           "align": "left"
          },
          "hovermode": "closest",
          "mapbox": {
           "style": "light"
          },
          "paper_bgcolor": "white",
          "plot_bgcolor": "white",
          "polar": {
           "angularaxis": {
            "gridcolor": "#EBF0F8",
            "linecolor": "#EBF0F8",
            "ticks": ""
           },
           "bgcolor": "white",
           "radialaxis": {
            "gridcolor": "#EBF0F8",
            "linecolor": "#EBF0F8",
            "ticks": ""
           }
          },
          "scene": {
           "xaxis": {
            "backgroundcolor": "white",
            "gridcolor": "#DFE8F3",
            "gridwidth": 2,
            "linecolor": "#EBF0F8",
            "showbackground": true,
            "ticks": "",
            "zerolinecolor": "#EBF0F8"
           },
           "yaxis": {
            "backgroundcolor": "white",
            "gridcolor": "#DFE8F3",
            "gridwidth": 2,
            "linecolor": "#EBF0F8",
            "showbackground": true,
            "ticks": "",
            "zerolinecolor": "#EBF0F8"
           },
           "zaxis": {
            "backgroundcolor": "white",
            "gridcolor": "#DFE8F3",
            "gridwidth": 2,
            "linecolor": "#EBF0F8",
            "showbackground": true,
            "ticks": "",
            "zerolinecolor": "#EBF0F8"
           }
          },
          "shapedefaults": {
           "line": {
            "color": "#2a3f5f"
           }
          },
          "ternary": {
           "aaxis": {
            "gridcolor": "#DFE8F3",
            "linecolor": "#A2B1C6",
            "ticks": ""
           },
           "baxis": {
            "gridcolor": "#DFE8F3",
            "linecolor": "#A2B1C6",
            "ticks": ""
           },
           "bgcolor": "white",
           "caxis": {
            "gridcolor": "#DFE8F3",
            "linecolor": "#A2B1C6",
            "ticks": ""
           }
          },
          "title": {
           "x": 0.05
          },
          "xaxis": {
           "automargin": true,
           "gridcolor": "#EBF0F8",
           "linecolor": "#EBF0F8",
           "ticks": "",
           "title": {
            "standoff": 15
           },
           "zerolinecolor": "#EBF0F8",
           "zerolinewidth": 2
          },
          "yaxis": {
           "automargin": true,
           "gridcolor": "#EBF0F8",
           "linecolor": "#EBF0F8",
           "ticks": "",
           "title": {
            "standoff": 15
           },
           "zerolinecolor": "#EBF0F8",
           "zerolinewidth": 2
          }
         }
        },
        "title": {
         "font": {
          "color": "Black",
          "size": 22
         },
         "text": "Topic Word Scores",
         "x": 0.5,
         "xanchor": "center",
         "yanchor": "top"
        },
        "width": 1000,
        "xaxis": {
         "anchor": "y",
         "domain": [
          0,
          0.175
         ],
         "showgrid": true
        },
        "xaxis2": {
         "anchor": "y2",
         "domain": [
          0.275,
          0.45
         ],
         "showgrid": true
        },
        "xaxis3": {
         "anchor": "y3",
         "domain": [
          0.55,
          0.7250000000000001
         ],
         "showgrid": true
        },
        "xaxis4": {
         "anchor": "y4",
         "domain": [
          0.825,
          1
         ],
         "showgrid": true
        },
        "xaxis5": {
         "anchor": "y5",
         "domain": [
          0,
          0.175
         ],
         "showgrid": true
        },
        "xaxis6": {
         "anchor": "y6",
         "domain": [
          0.275,
          0.45
         ],
         "showgrid": true
        },
        "xaxis7": {
         "anchor": "y7",
         "domain": [
          0.55,
          0.7250000000000001
         ],
         "showgrid": true
        },
        "xaxis8": {
         "anchor": "y8",
         "domain": [
          0.825,
          1
         ],
         "showgrid": true
        },
        "yaxis": {
         "anchor": "x",
         "domain": [
          0.6000000000000001,
          1
         ],
         "showgrid": true
        },
        "yaxis2": {
         "anchor": "x2",
         "domain": [
          0.6000000000000001,
          1
         ],
         "showgrid": true
        },
        "yaxis3": {
         "anchor": "x3",
         "domain": [
          0.6000000000000001,
          1
         ],
         "showgrid": true
        },
        "yaxis4": {
         "anchor": "x4",
         "domain": [
          0.6000000000000001,
          1
         ],
         "showgrid": true
        },
        "yaxis5": {
         "anchor": "x5",
         "domain": [
          0,
          0.4
         ],
         "showgrid": true
        },
        "yaxis6": {
         "anchor": "x6",
         "domain": [
          0,
          0.4
         ],
         "showgrid": true
        },
        "yaxis7": {
         "anchor": "x7",
         "domain": [
          0,
          0.4
         ],
         "showgrid": true
        },
        "yaxis8": {
         "anchor": "x8",
         "domain": [
          0,
          0.4
         ],
         "showgrid": true
        }
       }
      }
     },
     "metadata": {},
     "output_type": "display_data"
    }
   ],
   "source": [
    "topic_model.visualize_barchart()"
   ]
  },
  {
   "cell_type": "markdown",
   "id": "0af350c2",
   "metadata": {},
   "source": [
    "### 5.3 토픽 사이 관계 시각화"
   ]
  },
  {
   "cell_type": "code",
   "execution_count": 25,
   "id": "bb872dd0",
   "metadata": {},
   "outputs": [
    {
     "data": {
      "application/vnd.plotly.v1+json": {
       "config": {
        "plotlyServerURL": "https://plot.ly"
       },
       "data": [
        {
         "coloraxis": "coloraxis",
         "hovertemplate": "x: %{x}<br>y: %{y}<br>Similarity Score: %{z}<extra></extra>",
         "name": "0",
         "type": "heatmap",
         "x": [
          "0_question_answer_questions",
          "2_medical_clinical_biomedical",
          "18_explanations_explanation...",
          "22_commonsense_knowledge_re...",
          "31_coreference_resolution_m...",
          "50_nli_entailment_inference",
          "56_discourse_rst_relations",
          "84_nlp_annotation_crowdsour...",
          "1_speech_asr_recognition",
          "26_attention_transformer_tr...",
          "76_brain_reading_eye",
          "89_pruning_compression_quan...",
          "109_recurrent_rnn_rnns",
          "110_probing_probe_linguistic",
          "136_agreement_syntactic_verb",
          "3_translation_nmt_machine",
          "17_translation_mt_qe",
          "64_lingual_cross_transfer",
          "74_lingual_cross_bilingual",
          "97_alignment_parallel_pairs",
          "103_morphological_inflectio...",
          "4_summarization_summaries_s...",
          "7_relation_extraction_relat...",
          "27_topic_topics_lda",
          "34_event_extraction_events",
          "45_citation_scientific_papers",
          "98_taxonomy_taxonomies_hype...",
          "120_temporal_event_events",
          "5_hate_offensive_speech",
          "16_sentiment_reviews_analysis",
          "32_authorship_author_attrib...",
          "35_political_news_media",
          "55_stance_detection_rumor",
          "139_propaganda_techniques_n...",
          "6_gender_bias_biases",
          "23_arabic_dialect_dialects",
          "24_law_zipf_frequency",
          "30_simplification_readabili...",
          "37_generation_text_control",
          "49_financial_stock_market",
          "54_style_transfer_content",
          "62_paraphrase_paraphrases_p...",
          "67_metrics_evaluation_nlg",
          "68_generated_detectors_dete...",
          "69_poetry_lyrics_music",
          "85_metaphor_figurative_lite...",
          "114_annotation_tools_formats",
          "137_counterfactual_counterf...",
          "8_ner_entity_named",
          "25_knowledge_graph_kg",
          "46_entity_linking_entities",
          "80_radiology_reports_report",
          "138_materials_chemistry_sci...",
          "142_typing_entity_type",
          "9_agents_agent_game",
          "10_image_visual_vision",
          "19_tuning_fine_lora",
          "58_llms_evaluation_llm",
          "70_editing_knowledge_factual",
          "77_masking_masked_mlm",
          "96_calibration_uncertainty_...",
          "11_parsing_dependency_parser",
          "75_parsing_semantic_parser",
          "87_amr_meaning_parsing",
          "125_pos_tagging_tagger",
          "128_sequence_labeling_tagging",
          "12_legal_court_law",
          "29_argument_arguments_argum...",
          "47_story_stories_narrative",
          "102_moral_values_value",
          "105_scoring_essay_aes",
          "119_causal_causality_effect",
          "127_climate_change_esg",
          "144_coherence_discourse_par...",
          "13_intent_slot_intents",
          "51_response_responses_dialo...",
          "14_classification_label_text",
          "20_word_embeddings_embedding",
          "101_augmentation_data_mixup",
          "112_product_commerce_attrib...",
          "132_sentence_embeddings_sts",
          "15_aspect_sentiment_absa",
          "28_emotion_multimodal_erc",
          "53_emotion_emotions_affective",
          "21_adversarial_attacks_attack",
          "43_safety_backdoor_attacks",
          "60_hallucination_hallucinat...",
          "71_privacy_private_dp",
          "143_gans_gan_adversarial",
          "33_fake_news_detection",
          "41_fact_checking_claim",
          "36_prompt_shot_tuning",
          "59_icl_context_demonstrations",
          "61_instruction_instructions...",
          "66_preference_feedback_reward",
          "78_distillation_teacher_stu...",
          "90_continual_forgetting_cat...",
          "122_active_al_learning",
          "145_prompt_prompts_prompting",
          "38_code_programming_source",
          "52_gec_correction_grammatical",
          "107_switching_code_switched",
          "131_spelling_csc_correction",
          "39_sql_queries_spider",
          "44_semantics_distributional...",
          "92_grammars_grammar_algorithm",
          "95_compositional_generaliza...",
          "99_srl_role_labeling",
          "40_dialogue_dialog_oriented",
          "57_dst_dialogue_tracking",
          "82_summarization_meeting_di...",
          "83_knowledge_grounded_dialo...",
          "94_visual_dialog_image",
          "134_act_dialog_dialogue",
          "42_sense_wsd_word",
          "72_change_semantic_time",
          "79_keyphrase_keyphrases_ext...",
          "86_layout_document_documents",
          "104_geographic_location_geo...",
          "111_segmentation_cws_chinese",
          "123_contrastive_sentence_si...",
          "133_job_resume_skills",
          "48_mental_depression_health",
          "63_covid_19_pandemic",
          "115_health_media_pain",
          "116_crisis_disaster_disasters",
          "65_cot_reasoning_thought",
          "106_mathematical_math_mwp",
          "113_math_mathematical_reaso...",
          "73_empathetic_empathy_emotion",
          "88_persona_personas_persona...",
          "93_dialogue_evaluation_metr...",
          "81_sarcasm_sarcastic_detect...",
          "124_humor_pun_humorous",
          "135_memes_meme_hateful",
          "91_vqa_visual_question",
          "100_nat_autoregressive_nar",
          "118_mmt_multimodal_visual",
          "108_sign_gloss_asl",
          "117_dementia_ad_alzheimer",
          "121_african_languages_pidgin",
          "130_cognate_phylogenetic_co...",
          "126_personality_traits_llms",
          "140_mixed_code_sentiment",
          "141_emoji_emojis_emoticons",
          "129_ea_alignment_entity"
         ],
         "xaxis": "x",
         "y": [
          "0_question_answer_questions",
          "2_medical_clinical_biomedical",
          "18_explanations_explanation...",
          "22_commonsense_knowledge_re...",
          "31_coreference_resolution_m...",
          "50_nli_entailment_inference",
          "56_discourse_rst_relations",
          "84_nlp_annotation_crowdsour...",
          "1_speech_asr_recognition",
          "26_attention_transformer_tr...",
          "76_brain_reading_eye",
          "89_pruning_compression_quan...",
          "109_recurrent_rnn_rnns",
          "110_probing_probe_linguistic",
          "136_agreement_syntactic_verb",
          "3_translation_nmt_machine",
          "17_translation_mt_qe",
          "64_lingual_cross_transfer",
          "74_lingual_cross_bilingual",
          "97_alignment_parallel_pairs",
          "103_morphological_inflectio...",
          "4_summarization_summaries_s...",
          "7_relation_extraction_relat...",
          "27_topic_topics_lda",
          "34_event_extraction_events",
          "45_citation_scientific_papers",
          "98_taxonomy_taxonomies_hype...",
          "120_temporal_event_events",
          "5_hate_offensive_speech",
          "16_sentiment_reviews_analysis",
          "32_authorship_author_attrib...",
          "35_political_news_media",
          "55_stance_detection_rumor",
          "139_propaganda_techniques_n...",
          "6_gender_bias_biases",
          "23_arabic_dialect_dialects",
          "24_law_zipf_frequency",
          "30_simplification_readabili...",
          "37_generation_text_control",
          "49_financial_stock_market",
          "54_style_transfer_content",
          "62_paraphrase_paraphrases_p...",
          "67_metrics_evaluation_nlg",
          "68_generated_detectors_dete...",
          "69_poetry_lyrics_music",
          "85_metaphor_figurative_lite...",
          "114_annotation_tools_formats",
          "137_counterfactual_counterf...",
          "8_ner_entity_named",
          "25_knowledge_graph_kg",
          "46_entity_linking_entities",
          "80_radiology_reports_report",
          "138_materials_chemistry_sci...",
          "142_typing_entity_type",
          "9_agents_agent_game",
          "10_image_visual_vision",
          "19_tuning_fine_lora",
          "58_llms_evaluation_llm",
          "70_editing_knowledge_factual",
          "77_masking_masked_mlm",
          "96_calibration_uncertainty_...",
          "11_parsing_dependency_parser",
          "75_parsing_semantic_parser",
          "87_amr_meaning_parsing",
          "125_pos_tagging_tagger",
          "128_sequence_labeling_tagging",
          "12_legal_court_law",
          "29_argument_arguments_argum...",
          "47_story_stories_narrative",
          "102_moral_values_value",
          "105_scoring_essay_aes",
          "119_causal_causality_effect",
          "127_climate_change_esg",
          "144_coherence_discourse_par...",
          "13_intent_slot_intents",
          "51_response_responses_dialo...",
          "14_classification_label_text",
          "20_word_embeddings_embedding",
          "101_augmentation_data_mixup",
          "112_product_commerce_attrib...",
          "132_sentence_embeddings_sts",
          "15_aspect_sentiment_absa",
          "28_emotion_multimodal_erc",
          "53_emotion_emotions_affective",
          "21_adversarial_attacks_attack",
          "43_safety_backdoor_attacks",
          "60_hallucination_hallucinat...",
          "71_privacy_private_dp",
          "143_gans_gan_adversarial",
          "33_fake_news_detection",
          "41_fact_checking_claim",
          "36_prompt_shot_tuning",
          "59_icl_context_demonstrations",
          "61_instruction_instructions...",
          "66_preference_feedback_reward",
          "78_distillation_teacher_stu...",
          "90_continual_forgetting_cat...",
          "122_active_al_learning",
          "145_prompt_prompts_prompting",
          "38_code_programming_source",
          "52_gec_correction_grammatical",
          "107_switching_code_switched",
          "131_spelling_csc_correction",
          "39_sql_queries_spider",
          "44_semantics_distributional...",
          "92_grammars_grammar_algorithm",
          "95_compositional_generaliza...",
          "99_srl_role_labeling",
          "40_dialogue_dialog_oriented",
          "57_dst_dialogue_tracking",
          "82_summarization_meeting_di...",
          "83_knowledge_grounded_dialo...",
          "94_visual_dialog_image",
          "134_act_dialog_dialogue",
          "42_sense_wsd_word",
          "72_change_semantic_time",
          "79_keyphrase_keyphrases_ext...",
          "86_layout_document_documents",
          "104_geographic_location_geo...",
          "111_segmentation_cws_chinese",
          "123_contrastive_sentence_si...",
          "133_job_resume_skills",
          "48_mental_depression_health",
          "63_covid_19_pandemic",
          "115_health_media_pain",
          "116_crisis_disaster_disasters",
          "65_cot_reasoning_thought",
          "106_mathematical_math_mwp",
          "113_math_mathematical_reaso...",
          "73_empathetic_empathy_emotion",
          "88_persona_personas_persona...",
          "93_dialogue_evaluation_metr...",
          "81_sarcasm_sarcastic_detect...",
          "124_humor_pun_humorous",
          "135_memes_meme_hateful",
          "91_vqa_visual_question",
          "100_nat_autoregressive_nar",
          "118_mmt_multimodal_visual",
          "108_sign_gloss_asl",
          "117_dementia_ad_alzheimer",
          "121_african_languages_pidgin",
          "130_cognate_phylogenetic_co...",
          "126_personality_traits_llms",
          "140_mixed_code_sentiment",
          "141_emoji_emojis_emoticons",
          "129_ea_alignment_entity"
         ],
         "yaxis": "y",
         "z": {
          "bdata": "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",
          "dtype": "f4",
          "shape": "146, 146"
         }
        }
       ],
       "layout": {
        "coloraxis": {
         "colorbar": {
          "title": {
           "text": "Similarity Score"
          }
         },
         "colorscale": [
          [
           0,
           "rgb(247,252,240)"
          ],
          [
           0.125,
           "rgb(224,243,219)"
          ],
          [
           0.25,
           "rgb(204,235,197)"
          ],
          [
           0.375,
           "rgb(168,221,181)"
          ],
          [
           0.5,
           "rgb(123,204,196)"
          ],
          [
           0.625,
           "rgb(78,179,211)"
          ],
          [
           0.75,
           "rgb(43,140,190)"
          ],
          [
           0.875,
           "rgb(8,104,172)"
          ],
          [
           1,
           "rgb(8,64,129)"
          ]
         ]
        },
        "height": 800,
        "hoverlabel": {
         "bgcolor": "white",
         "font": {
          "family": "Rockwell",
          "size": 16
         }
        },
        "legend": {
         "title": {
          "text": "Trend"
         }
        },
        "margin": {
         "t": 60
        },
        "showlegend": true,
        "template": {
         "data": {
          "bar": [
           {
            "error_x": {
             "color": "#2a3f5f"
            },
            "error_y": {
             "color": "#2a3f5f"
            },
            "marker": {
             "line": {
              "color": "#E5ECF6",
              "width": 0.5
             },
             "pattern": {
              "fillmode": "overlay",
              "size": 10,
              "solidity": 0.2
             }
            },
            "type": "bar"
           }
          ],
          "barpolar": [
           {
            "marker": {
             "line": {
              "color": "#E5ECF6",
              "width": 0.5
             },
             "pattern": {
              "fillmode": "overlay",
              "size": 10,
              "solidity": 0.2
             }
            },
            "type": "barpolar"
           }
          ],
          "carpet": [
           {
            "aaxis": {
             "endlinecolor": "#2a3f5f",
             "gridcolor": "white",
             "linecolor": "white",
             "minorgridcolor": "white",
             "startlinecolor": "#2a3f5f"
            },
            "baxis": {
             "endlinecolor": "#2a3f5f",
             "gridcolor": "white",
             "linecolor": "white",
             "minorgridcolor": "white",
             "startlinecolor": "#2a3f5f"
            },
            "type": "carpet"
           }
          ],
          "choropleth": [
           {
            "colorbar": {
             "outlinewidth": 0,
             "ticks": ""
            },
            "type": "choropleth"
           }
          ],
          "contour": [
           {
            "colorbar": {
             "outlinewidth": 0,
             "ticks": ""
            },
            "colorscale": [
             [
              0,
              "#0d0887"
             ],
             [
              0.1111111111111111,
              "#46039f"
             ],
             [
              0.2222222222222222,
              "#7201a8"
             ],
             [
              0.3333333333333333,
              "#9c179e"
             ],
             [
              0.4444444444444444,
              "#bd3786"
             ],
             [
              0.5555555555555556,
              "#d8576b"
             ],
             [
              0.6666666666666666,
              "#ed7953"
             ],
             [
              0.7777777777777778,
              "#fb9f3a"
             ],
             [
              0.8888888888888888,
              "#fdca26"
             ],
             [
              1,
              "#f0f921"
             ]
            ],
            "type": "contour"
           }
          ],
          "contourcarpet": [
           {
            "colorbar": {
             "outlinewidth": 0,
             "ticks": ""
            },
            "type": "contourcarpet"
           }
          ],
          "heatmap": [
           {
            "colorbar": {
             "outlinewidth": 0,
             "ticks": ""
            },
            "colorscale": [
             [
              0,
              "#0d0887"
             ],
             [
              0.1111111111111111,
              "#46039f"
             ],
             [
              0.2222222222222222,
              "#7201a8"
             ],
             [
              0.3333333333333333,
              "#9c179e"
             ],
             [
              0.4444444444444444,
              "#bd3786"
             ],
             [
              0.5555555555555556,
              "#d8576b"
             ],
             [
              0.6666666666666666,
              "#ed7953"
             ],
             [
              0.7777777777777778,
              "#fb9f3a"
             ],
             [
              0.8888888888888888,
              "#fdca26"
             ],
             [
              1,
              "#f0f921"
             ]
            ],
            "type": "heatmap"
           }
          ],
          "histogram": [
           {
            "marker": {
             "pattern": {
              "fillmode": "overlay",
              "size": 10,
              "solidity": 0.2
             }
            },
            "type": "histogram"
           }
          ],
          "histogram2d": [
           {
            "colorbar": {
             "outlinewidth": 0,
             "ticks": ""
            },
            "colorscale": [
             [
              0,
              "#0d0887"
             ],
             [
              0.1111111111111111,
              "#46039f"
             ],
             [
              0.2222222222222222,
              "#7201a8"
             ],
             [
              0.3333333333333333,
              "#9c179e"
             ],
             [
              0.4444444444444444,
              "#bd3786"
             ],
             [
              0.5555555555555556,
              "#d8576b"
             ],
             [
              0.6666666666666666,
              "#ed7953"
             ],
             [
              0.7777777777777778,
              "#fb9f3a"
             ],
             [
              0.8888888888888888,
              "#fdca26"
             ],
             [
              1,
              "#f0f921"
             ]
            ],
            "type": "histogram2d"
           }
          ],
          "histogram2dcontour": [
           {
            "colorbar": {
             "outlinewidth": 0,
             "ticks": ""
            },
            "colorscale": [
             [
              0,
              "#0d0887"
             ],
             [
              0.1111111111111111,
              "#46039f"
             ],
             [
              0.2222222222222222,
              "#7201a8"
             ],
             [
              0.3333333333333333,
              "#9c179e"
             ],
             [
              0.4444444444444444,
              "#bd3786"
             ],
             [
              0.5555555555555556,
              "#d8576b"
             ],
             [
              0.6666666666666666,
              "#ed7953"
             ],
             [
              0.7777777777777778,
              "#fb9f3a"
             ],
             [
              0.8888888888888888,
              "#fdca26"
             ],
             [
              1,
              "#f0f921"
             ]
            ],
            "type": "histogram2dcontour"
           }
          ],
          "mesh3d": [
           {
            "colorbar": {
             "outlinewidth": 0,
             "ticks": ""
            },
            "type": "mesh3d"
           }
          ],
          "parcoords": [
           {
            "line": {
             "colorbar": {
              "outlinewidth": 0,
              "ticks": ""
             }
            },
            "type": "parcoords"
           }
          ],
          "pie": [
           {
            "automargin": true,
            "type": "pie"
           }
          ],
          "scatter": [
           {
            "fillpattern": {
             "fillmode": "overlay",
             "size": 10,
             "solidity": 0.2
            },
            "type": "scatter"
           }
          ],
          "scatter3d": [
           {
            "line": {
             "colorbar": {
              "outlinewidth": 0,
              "ticks": ""
             }
            },
            "marker": {
             "colorbar": {
              "outlinewidth": 0,
              "ticks": ""
             }
            },
            "type": "scatter3d"
           }
          ],
          "scattercarpet": [
           {
            "marker": {
             "colorbar": {
              "outlinewidth": 0,
              "ticks": ""
             }
            },
            "type": "scattercarpet"
           }
          ],
          "scattergeo": [
           {
            "marker": {
             "colorbar": {
              "outlinewidth": 0,
              "ticks": ""
             }
            },
            "type": "scattergeo"
           }
          ],
          "scattergl": [
           {
            "marker": {
             "colorbar": {
              "outlinewidth": 0,
              "ticks": ""
             }
            },
            "type": "scattergl"
           }
          ],
          "scattermap": [
           {
            "marker": {
             "colorbar": {
              "outlinewidth": 0,
              "ticks": ""
             }
            },
            "type": "scattermap"
           }
          ],
          "scattermapbox": [
           {
            "marker": {
             "colorbar": {
              "outlinewidth": 0,
              "ticks": ""
             }
            },
            "type": "scattermapbox"
           }
          ],
          "scatterpolar": [
           {
            "marker": {
             "colorbar": {
              "outlinewidth": 0,
              "ticks": ""
             }
            },
            "type": "scatterpolar"
           }
          ],
          "scatterpolargl": [
           {
            "marker": {
             "colorbar": {
              "outlinewidth": 0,
              "ticks": ""
             }
            },
            "type": "scatterpolargl"
           }
          ],
          "scatterternary": [
           {
            "marker": {
             "colorbar": {
              "outlinewidth": 0,
              "ticks": ""
             }
            },
            "type": "scatterternary"
           }
          ],
          "surface": [
           {
            "colorbar": {
             "outlinewidth": 0,
             "ticks": ""
            },
            "colorscale": [
             [
              0,
              "#0d0887"
             ],
             [
              0.1111111111111111,
              "#46039f"
             ],
             [
              0.2222222222222222,
              "#7201a8"
             ],
             [
              0.3333333333333333,
              "#9c179e"
             ],
             [
              0.4444444444444444,
              "#bd3786"
             ],
             [
              0.5555555555555556,
              "#d8576b"
             ],
             [
              0.6666666666666666,
              "#ed7953"
             ],
             [
              0.7777777777777778,
              "#fb9f3a"
             ],
             [
              0.8888888888888888,
              "#fdca26"
             ],
             [
              1,
              "#f0f921"
             ]
            ],
            "type": "surface"
           }
          ],
          "table": [
           {
            "cells": {
             "fill": {
              "color": "#EBF0F8"
             },
             "line": {
              "color": "white"
             }
            },
            "header": {
             "fill": {
              "color": "#C8D4E3"
             },
             "line": {
              "color": "white"
             }
            },
            "type": "table"
           }
          ]
         },
         "layout": {
          "annotationdefaults": {
           "arrowcolor": "#2a3f5f",
           "arrowhead": 0,
           "arrowwidth": 1
          },
          "autotypenumbers": "strict",
          "coloraxis": {
           "colorbar": {
            "outlinewidth": 0,
            "ticks": ""
           }
          },
          "colorscale": {
           "diverging": [
            [
             0,
             "#8e0152"
            ],
            [
             0.1,
             "#c51b7d"
            ],
            [
             0.2,
             "#de77ae"
            ],
            [
             0.3,
             "#f1b6da"
            ],
            [
             0.4,
             "#fde0ef"
            ],
            [
             0.5,
             "#f7f7f7"
            ],
            [
             0.6,
             "#e6f5d0"
            ],
            [
             0.7,
             "#b8e186"
            ],
            [
             0.8,
             "#7fbc41"
            ],
            [
             0.9,
             "#4d9221"
            ],
            [
             1,
             "#276419"
            ]
           ],
           "sequential": [
            [
             0,
             "#0d0887"
            ],
            [
             0.1111111111111111,
             "#46039f"
            ],
            [
             0.2222222222222222,
             "#7201a8"
            ],
            [
             0.3333333333333333,
             "#9c179e"
            ],
            [
             0.4444444444444444,
             "#bd3786"
            ],
            [
             0.5555555555555556,
             "#d8576b"
            ],
            [
             0.6666666666666666,
             "#ed7953"
            ],
            [
             0.7777777777777778,
             "#fb9f3a"
            ],
            [
             0.8888888888888888,
             "#fdca26"
            ],
            [
             1,
             "#f0f921"
            ]
           ],
           "sequentialminus": [
            [
             0,
             "#0d0887"
            ],
            [
             0.1111111111111111,
             "#46039f"
            ],
            [
             0.2222222222222222,
             "#7201a8"
            ],
            [
             0.3333333333333333,
             "#9c179e"
            ],
            [
             0.4444444444444444,
             "#bd3786"
            ],
            [
             0.5555555555555556,
             "#d8576b"
            ],
            [
             0.6666666666666666,
             "#ed7953"
            ],
            [
             0.7777777777777778,
             "#fb9f3a"
            ],
            [
             0.8888888888888888,
             "#fdca26"
            ],
            [
             1,
             "#f0f921"
            ]
           ]
          },
          "colorway": [
           "#636efa",
           "#EF553B",
           "#00cc96",
           "#ab63fa",
           "#FFA15A",
           "#19d3f3",
           "#FF6692",
           "#B6E880",
           "#FF97FF",
           "#FECB52"
          ],
          "font": {
           "color": "#2a3f5f"
          },
          "geo": {
           "bgcolor": "white",
           "lakecolor": "white",
           "landcolor": "#E5ECF6",
           "showlakes": true,
           "showland": true,
           "subunitcolor": "white"
          },
          "hoverlabel": {
           "align": "left"
          },
          "hovermode": "closest",
          "mapbox": {
           "style": "light"
          },
          "paper_bgcolor": "white",
          "plot_bgcolor": "#E5ECF6",
          "polar": {
           "angularaxis": {
            "gridcolor": "white",
            "linecolor": "white",
            "ticks": ""
           },
           "bgcolor": "#E5ECF6",
           "radialaxis": {
            "gridcolor": "white",
            "linecolor": "white",
            "ticks": ""
           }
          },
          "scene": {
           "xaxis": {
            "backgroundcolor": "#E5ECF6",
            "gridcolor": "white",
            "gridwidth": 2,
            "linecolor": "white",
            "showbackground": true,
            "ticks": "",
            "zerolinecolor": "white"
           },
           "yaxis": {
            "backgroundcolor": "#E5ECF6",
            "gridcolor": "white",
            "gridwidth": 2,
            "linecolor": "white",
            "showbackground": true,
            "ticks": "",
            "zerolinecolor": "white"
           },
           "zaxis": {
            "backgroundcolor": "#E5ECF6",
            "gridcolor": "white",
            "gridwidth": 2,
            "linecolor": "white",
            "showbackground": true,
            "ticks": "",
            "zerolinecolor": "white"
           }
          },
          "shapedefaults": {
           "line": {
            "color": "#2a3f5f"
           }
          },
          "ternary": {
           "aaxis": {
            "gridcolor": "white",
            "linecolor": "white",
            "ticks": ""
           },
           "baxis": {
            "gridcolor": "white",
            "linecolor": "white",
            "ticks": ""
           },
           "bgcolor": "#E5ECF6",
           "caxis": {
            "gridcolor": "white",
            "linecolor": "white",
            "ticks": ""
           }
          },
          "title": {
           "x": 0.05
          },
          "xaxis": {
           "automargin": true,
           "gridcolor": "white",
           "linecolor": "white",
           "ticks": "",
           "title": {
            "standoff": 15
           },
           "zerolinecolor": "white",
           "zerolinewidth": 2
          },
          "yaxis": {
           "automargin": true,
           "gridcolor": "white",
           "linecolor": "white",
           "ticks": "",
           "title": {
            "standoff": 15
           },
           "zerolinecolor": "white",
           "zerolinewidth": 2
          }
         }
        },
        "title": {
         "font": {
          "color": "Black",
          "size": 22
         },
         "text": "<b>Similarity Matrix</b>",
         "x": 0.55,
         "xanchor": "center",
         "y": 0.95,
         "yanchor": "top"
        },
        "width": 800,
        "xaxis": {
         "anchor": "y",
         "constrain": "domain",
         "domain": [
          0,
          1
         ],
         "scaleanchor": "y"
        },
        "yaxis": {
         "anchor": "x",
         "autorange": "reversed",
         "constrain": "domain",
         "domain": [
          0,
          1
         ]
        }
       }
      }
     },
     "metadata": {},
     "output_type": "display_data"
    }
   ],
   "source": [
    "topic_model.visualize_heatmap(n_clusters=30)"
   ]
  },
  {
   "cell_type": "markdown",
   "id": "fbefc624",
   "metadata": {},
   "source": [
    "### 5.4 토픽 사이 잠재적 계층구조 시각화"
   ]
  },
  {
   "cell_type": "code",
   "execution_count": 26,
   "id": "dd06d9ef",
   "metadata": {},
   "outputs": [
    {
     "data": {
      "application/vnd.plotly.v1+json": {
       "config": {
        "plotlyServerURL": "https://plot.ly"
       },
       "data": [
        {
         "hoverinfo": "text",
         "marker": {
          "color": "rgb(61,153,112)"
         },
         "mode": "lines",
         "type": "scatter",
         "x": {
          "bdata": "AAAAAAAAAAA+UASUEuTWPz5QBJQS5NY/AAAAAAAAAAA=",
          "dtype": "f8"
         },
         "xaxis": "x",
         "y": {
          "bdata": "AAAAAAAAFMAAAAAAAAAUwAAAAAAAAC7AAAAAAAAALsA=",
          "dtype": "f8"
         },
         "yaxis": "y"
        },
        {
         "hoverinfo": "text",
         "marker": {
          "color": "rgb(61,153,112)"
         },
         "mode": "lines",
         "type": "scatter",
         "x": {
          "bdata": "PlAElBLk1j9TFju6kCjnP1MWO7qQKOc/AAAAAAAAAAA=",
          "dtype": "f8"
         },
         "xaxis": "x",
         "y": {
          "bdata": "AAAAAAAAJMAAAAAAAAAkwAAAAAAAADnAAAAAAAAAOcA=",
          "dtype": "f8"
         },
         "yaxis": "y"
        },
        {
         "hoverinfo": "text",
         "marker": {
          "color": "rgb(255,65,54)"
         },
         "mode": "lines",
         "type": "scatter",
         "x": {
          "bdata": "AAAAAAAAAACcjImaW2/kP5yMiZpbb+Q/AAAAAAAAAAA=",
          "dtype": "f8"
         },
         "xaxis": "x",
         "y": {
          "bdata": "AAAAAACAQcAAAAAAAIBBwAAAAAAAgEbAAAAAAACARsA=",
          "dtype": "f8"
         },
         "yaxis": "y"
        },
        {
         "hoverinfo": "text",
         "marker": {
          "color": "rgb(255,65,54)"
         },
         "mode": "lines",
         "type": "scatter",
         "x": {
          "bdata": "AAAAAAAAAADa8r6VhY3gP9ryvpWFjeA/AAAAAAAAAAA=",
          "dtype": "f8"
         },
         "xaxis": "x",
         "y": {
          "bdata": "AAAAAABAUMAAAAAAAEBQwAAAAAAAwFLAAAAAAADAUsA=",
          "dtype": "f8"
         },
         "yaxis": "y"
        },
        {
         "hoverinfo": "text",
         "marker": {
          "color": "rgb(255,65,54)"
         },
         "mode": "lines",
         "type": "scatter",
         "x": {
          "bdata": "AAAAAAAAAABsAR1LE0jkP2wBHUsTSOQ/2vK+lYWN4D8=",
          "dtype": "f8"
         },
         "xaxis": "x",
         "y": {
          "bdata": "AAAAAACAS8AAAAAAAIBLwAAAAAAAgFHAAAAAAACAUcA=",
          "dtype": "f8"
         },
         "yaxis": "y"
        },
        {
         "hoverinfo": "text",
         "marker": {
          "color": "rgb(255,65,54)"
         },
         "mode": "lines",
         "type": "scatter",
         "x": {
          "bdata": "AAAAAAAAAADCqBm5Ei/lP8KoGbkSL+U/AAAAAAAAAAA=",
          "dtype": "f8"
         },
         "xaxis": "x",
         "y": {
          "bdata": "AAAAAABAVcAAAAAAAEBVwAAAAAAAwFfAAAAAAADAV8A=",
          "dtype": "f8"
         },
         "yaxis": "y"
        },
        {
         "hoverinfo": "text",
         "marker": {
          "color": "rgb(255,65,54)"
         },
         "mode": "lines",
         "type": "scatter",
         "x": {
          "bdata": "bAEdSxNI5D8EBUNCMbTnPwQFQ0IxtOc/wqgZuRIv5T8=",
          "dtype": "f8"
         },
         "xaxis": "x",
         "y": {
          "bdata": "AAAAAABAT8AAAAAAAEBPwAAAAAAAgFbAAAAAAACAVsA=",
          "dtype": "f8"
         },
         "yaxis": "y"
        },
        {
         "hoverinfo": "text",
         "marker": {
          "color": "rgb(255,65,54)"
         },
         "mode": "lines",
         "type": "scatter",
         "x": {
          "bdata": "nIyJmltv5D8JrwzUmY3pPwmvDNSZjek/BAVDQjG05z8=",
          "dtype": "f8"
         },
         "xaxis": "x",
         "y": {
          "bdata": "AAAAAAAARMAAAAAAAABEwAAAAAAAEFPAAAAAAAAQU8A=",
          "dtype": "f8"
         },
         "yaxis": "y"
        },
        {
         "hoverinfo": "text",
         "marker": {
          "color": "rgb(255,65,54)"
         },
         "mode": "lines",
         "type": "scatter",
         "x": {
          "bdata": "AAAAAAAAAACU+rTUbxbTP5T6tNRvFtM/AAAAAAAAAAA=",
          "dtype": "f8"
         },
         "xaxis": "x",
         "y": {
          "bdata": "AAAAAABAWsAAAAAAAEBawAAAAAAAwFzAAAAAAADAXMA=",
          "dtype": "f8"
         },
         "yaxis": "y"
        },
        {
         "hoverinfo": "text",
         "marker": {
          "color": "rgb(255,65,54)"
         },
         "mode": "lines",
         "type": "scatter",
         "x": {
          "bdata": "lPq01G8W0z+9zOp4xG/lP73M6njEb+U/AAAAAAAAAAA=",
          "dtype": "f8"
         },
         "xaxis": "x",
         "y": {
          "bdata": "AAAAAACAW8AAAAAAAIBbwAAAAAAAQF/AAAAAAABAX8A=",
          "dtype": "f8"
         },
         "yaxis": "y"
        },
        {
         "hoverinfo": "text",
         "marker": {
          "color": "rgb(255,65,54)"
         },
         "mode": "lines",
         "type": "scatter",
         "x": {
          "bdata": "Ca8M1JmN6T9gVM9QImbsP2BUz1AiZuw/vczqeMRv5T8=",
          "dtype": "f8"
         },
         "xaxis": "x",
         "y": {
          "bdata": "AAAAAAAQTcAAAAAAABBNwAAAAAAAYF3AAAAAAABgXcA=",
          "dtype": "f8"
         },
         "yaxis": "y"
        },
        {
         "hoverinfo": "text",
         "marker": {
          "color": "rgb(255,65,54)"
         },
         "mode": "lines",
         "type": "scatter",
         "x": {
          "bdata": "AAAAAAAAAADss8+/oJzeP+yzz7+gnN4/AAAAAAAAAAA=",
          "dtype": "f8"
         },
         "xaxis": "x",
         "y": {
          "bdata": "AAAAAAAgYsAAAAAAACBiwAAAAAAAYGPAAAAAAABgY8A=",
          "dtype": "f8"
         },
         "yaxis": "y"
        },
        {
         "hoverinfo": "text",
         "marker": {
          "color": "rgb(255,65,54)"
         },
         "mode": "lines",
         "type": "scatter",
         "x": {
          "bdata": "AAAAAAAAAAB9tWyinubnP321bKKe5uc/7LPPv6Cc3j8=",
          "dtype": "f8"
         },
         "xaxis": "x",
         "y": {
          "bdata": "AAAAAADgYMAAAAAAAOBgwAAAAAAAwGLAAAAAAADAYsA=",
          "dtype": "f8"
         },
         "yaxis": "y"
        },
        {
         "hoverinfo": "text",
         "marker": {
          "color": "rgb(255,65,54)"
         },
         "mode": "lines",
         "type": "scatter",
         "x": {
          "bdata": "AAAAAAAAAAB50gSPq3TlP3nSBI+rdOU/AAAAAAAAAAA=",
          "dtype": "f8"
         },
         "xaxis": "x",
         "y": {
          "bdata": "AAAAAACgZMAAAAAAAKBkwAAAAAAA4GXAAAAAAADgZcA=",
          "dtype": "f8"
         },
         "yaxis": "y"
        },
        {
         "hoverinfo": "text",
         "marker": {
          "color": "rgb(255,65,54)"
         },
         "mode": "lines",
         "type": "scatter",
         "x": {
          "bdata": "AAAAAAAAAADYuJ0owtfjP9i4nSjC1+M/AAAAAAAAAAA=",
          "dtype": "f8"
         },
         "xaxis": "x",
         "y": {
          "bdata": "AAAAAABgaMAAAAAAAGBowAAAAAAAoGnAAAAAAACgacA=",
          "dtype": "f8"
         },
         "yaxis": "y"
        },
        {
         "hoverinfo": "text",
         "marker": {
          "color": "rgb(255,65,54)"
         },
         "mode": "lines",
         "type": "scatter",
         "x": {
          "bdata": "AAAAAAAAAAAGaTUYOBncPwZpNRg4Gdw/AAAAAAAAAAA=",
          "dtype": "f8"
         },
         "xaxis": "x",
         "y": {
          "bdata": "AAAAAACgbsAAAAAAAKBuwAAAAAAA4G/AAAAAAADgb8A=",
          "dtype": "f8"
         },
         "yaxis": "y"
        },
        {
         "hoverinfo": "text",
         "marker": {
          "color": "rgb(255,65,54)"
         },
         "mode": "lines",
         "type": "scatter",
         "x": {
          "bdata": "Bmk1GDgZ3D/IgLEn0bvhP8iAsSfRu+E/AAAAAAAAAAA=",
          "dtype": "f8"
         },
         "xaxis": "x",
         "y": {
          "bdata": "AAAAAABAb8AAAAAAAEBvwAAAAAAAkHDAAAAAAACQcMA=",
          "dtype": "f8"
         },
         "yaxis": "y"
        },
        {
         "hoverinfo": "text",
         "marker": {
          "color": "rgb(255,65,54)"
         },
         "mode": "lines",
         "type": "scatter",
         "x": {
          "bdata": "AAAAAAAAAABkTc6kDZziP2RNzqQNnOI/yICxJ9G74T8=",
          "dtype": "f8"
         },
         "xaxis": "x",
         "y": {
          "bdata": "AAAAAABgbcAAAAAAAGBtwAAAAAAAGHDAAAAAAAAYcMA=",
          "dtype": "f8"
         },
         "yaxis": "y"
        },
        {
         "hoverinfo": "text",
         "marker": {
          "color": "rgb(255,65,54)"
         },
         "mode": "lines",
         "type": "scatter",
         "x": {
          "bdata": "AAAAAAAAAACXzfklyf/iP5fN+SXJ/+I/ZE3OpA2c4j8=",
          "dtype": "f8"
         },
         "xaxis": "x",
         "y": {
          "bdata": "AAAAAAAgbMAAAAAAACBswAAAAAAAyG7AAAAAAADIbsA=",
          "dtype": "f8"
         },
         "yaxis": "y"
        },
        {
         "hoverinfo": "text",
         "marker": {
          "color": "rgb(255,65,54)"
         },
         "mode": "lines",
         "type": "scatter",
         "x": {
          "bdata": "l835Jcn/4j+d/sv7js3kP53+y/uOzeQ/AAAAAAAAAAA=",
          "dtype": "f8"
         },
         "xaxis": "x",
         "y": {
          "bdata": "AAAAAAB0bcAAAAAAAHRtwAAAAAAAMHHAAAAAAAAwccA=",
          "dtype": "f8"
         },
         "yaxis": "y"
        },
        {
         "hoverinfo": "text",
         "marker": {
          "color": "rgb(255,65,54)"
         },
         "mode": "lines",
         "type": "scatter",
         "x": {
          "bdata": "AAAAAAAAAAC2TbffU+rlP7ZNt99T6uU/nf7L+47N5D8=",
          "dtype": "f8"
         },
         "xaxis": "x",
         "y": {
          "bdata": "AAAAAADgasAAAAAAAOBqwAAAAAAA6m/AAAAAAADqb8A=",
          "dtype": "f8"
         },
         "yaxis": "y"
        },
        {
         "hoverinfo": "text",
         "marker": {
          "color": "rgb(255,65,54)"
         },
         "mode": "lines",
         "type": "scatter",
         "x": {
          "bdata": "2LidKMLX4z+25IrzGH3nP7bkivMYfec/tk2331Pq5T8=",
          "dtype": "f8"
         },
         "xaxis": "x",
         "y": {
          "bdata": "AAAAAAAAacAAAAAAAABpwAAAAAAAZW3AAAAAAABlbcA=",
          "dtype": "f8"
         },
         "yaxis": "y"
        },
        {
         "hoverinfo": "text",
         "marker": {
          "color": "rgb(255,65,54)"
         },
         "mode": "lines",
         "type": "scatter",
         "x": {
          "bdata": "AAAAAAAAAADdi7wKQM/pP92LvApAz+k/tuSK8xh95z8=",
          "dtype": "f8"
         },
         "xaxis": "x",
         "y": {
          "bdata": "AAAAAAAgZ8AAAAAAACBnwAAAAACAMmvAAAAAAIAya8A=",
          "dtype": "f8"
         },
         "yaxis": "y"
        },
        {
         "hoverinfo": "text",
         "marker": {
          "color": "rgb(255,65,54)"
         },
         "mode": "lines",
         "type": "scatter",
         "x": {
          "bdata": "AAAAAAAAAAC2rd3ZQjfjP7at3dlCN+M/AAAAAAAAAAA=",
          "dtype": "f8"
         },
         "xaxis": "x",
         "y": {
          "bdata": "AAAAAADQccAAAAAAANBxwAAAAAAAcHLAAAAAAABwcsA=",
          "dtype": "f8"
         },
         "yaxis": "y"
        },
        {
         "hoverinfo": "text",
         "marker": {
          "color": "rgb(255,65,54)"
         },
         "mode": "lines",
         "type": "scatter",
         "x": {
          "bdata": "3Yu8CkDP6T/csl9y9RzqP9yyX3L1HOo/tq3d2UI34z8=",
          "dtype": "f8"
         },
         "xaxis": "x",
         "y": {
          "bdata": "AAAAAEApacAAAAAAQClpwAAAAAAAIHLAAAAAAAAgcsA=",
          "dtype": "f8"
         },
         "yaxis": "y"
        },
        {
         "hoverinfo": "text",
         "marker": {
          "color": "rgb(255,65,54)"
         },
         "mode": "lines",
         "type": "scatter",
         "x": {
          "bdata": "3LJfcvUc6j+dinhN7ZjsP52KeE3tmOw/AAAAAAAAAAA=",
          "dtype": "f8"
         },
         "xaxis": "x",
         "y": {
          "bdata": "AAAAAKC0bsAAAAAAoLRuwAAAAAAAEHPAAAAAAAAQc8A=",
          "dtype": "f8"
         },
         "yaxis": "y"
        },
        {
         "hoverinfo": "text",
         "marker": {
          "color": "rgb(255,65,54)"
         },
         "mode": "lines",
         "type": "scatter",
         "x": {
          "bdata": "edIEj6t05T+mnhkcNeTtP6aeGRw15O0/nYp4Te2Y7D8=",
          "dtype": "f8"
         },
         "xaxis": "x",
         "y": {
          "bdata": "AAAAAABAZcAAAAAAAEBlwAAAAAAoNXHAAAAAACg1ccA=",
          "dtype": "f8"
         },
         "yaxis": "y"
        },
        {
         "hoverinfo": "text",
         "marker": {
          "color": "rgb(255,65,54)"
         },
         "mode": "lines",
         "type": "scatter",
         "x": {
          "bdata": "fbVsop7m5z9UeruU0n/uP1R6u5TSf+4/pp4ZHDXk7T8=",
          "dtype": "f8"
         },
         "xaxis": "x",
         "y": {
          "bdata": "AAAAAADQYcAAAAAAANBhwAAAAAAo1WvAAAAAACjVa8A=",
          "dtype": "f8"
         },
         "yaxis": "y"
        },
        {
         "hoverinfo": "text",
         "marker": {
          "color": "rgb(255,65,54)"
         },
         "mode": "lines",
         "type": "scatter",
         "x": {
          "bdata": "YFTPUCJm7D8bB7PyjsLvPxsHs/KOwu8/VHq7lNJ/7j8=",
          "dtype": "f8"
         },
         "xaxis": "x",
         "y": {
          "bdata": "AAAAAAD0VcAAAAAAAPRVwAAAAACU0mbAAAAAAJTSZsA=",
          "dtype": "f8"
         },
         "yaxis": "y"
        },
        {
         "hoverinfo": "text",
         "marker": {
          "color": "rgb(0,116,217)"
         },
         "mode": "lines",
         "type": "scatter",
         "x": {
          "bdata": "UxY7upAo5z+VsVo+GDjxP5WxWj4YOPE/Gwez8o7C7z8=",
          "dtype": "f8"
         },
         "xaxis": "x",
         "y": {
          "bdata": "AAAAAACAMcAAAAAAAIAxwAAAAABK5mDAAAAAAErmYMA=",
          "dtype": "f8"
         },
         "yaxis": "y"
        },
        {
         "hoverinfo": "text",
         "marker": {
          "color": "rgb(35,205,205)"
         },
         "mode": "lines",
         "type": "scatter",
         "x": {
          "bdata": "AAAAAAAAAAC2B0WxMkzWP7YHRbEyTNY/AAAAAAAAAAA=",
          "dtype": "f8"
         },
         "xaxis": "x",
         "y": {
          "bdata": "AAAAAABQdMAAAAAAAFB0wAAAAAAA8HTAAAAAAADwdMA=",
          "dtype": "f8"
         },
         "yaxis": "y"
        },
        {
         "hoverinfo": "text",
         "marker": {
          "color": "rgb(35,205,205)"
         },
         "mode": "lines",
         "type": "scatter",
         "x": {
          "bdata": "AAAAAAAAAAC6I7m9F7XbP7ojub0Xtds/tgdFsTJM1j8=",
          "dtype": "f8"
         },
         "xaxis": "x",
         "y": {
          "bdata": "AAAAAACwc8AAAAAAALBzwAAAAAAAoHTAAAAAAACgdMA=",
          "dtype": "f8"
         },
         "yaxis": "y"
        },
        {
         "hoverinfo": "text",
         "marker": {
          "color": "rgb(35,205,205)"
         },
         "mode": "lines",
         "type": "scatter",
         "x": {
          "bdata": "AAAAAAAAAABKIIGC7DzbP0oggYLsPNs/AAAAAAAAAAA=",
          "dtype": "f8"
         },
         "xaxis": "x",
         "y": {
          "bdata": "AAAAAACQdcAAAAAAAJB1wAAAAAAAMHbAAAAAAAAwdsA=",
          "dtype": "f8"
         },
         "yaxis": "y"
        },
        {
         "hoverinfo": "text",
         "marker": {
          "color": "rgb(35,205,205)"
         },
         "mode": "lines",
         "type": "scatter",
         "x": {
          "bdata": "uiO5vRe12z/E3ZLnO8rmP8Tdkuc7yuY/SiCBguw82z8=",
          "dtype": "f8"
         },
         "xaxis": "x",
         "y": {
          "bdata": "AAAAAAAodMAAAAAAACh0wAAAAAAA4HXAAAAAAADgdcA=",
          "dtype": "f8"
         },
         "yaxis": "y"
        },
        {
         "hoverinfo": "text",
         "marker": {
          "color": "rgb(133,20,75)"
         },
         "mode": "lines",
         "type": "scatter",
         "x": {
          "bdata": "AAAAAAAAAADws+R9GUPfP/Cz5H0ZQ98/AAAAAAAAAAA=",
          "dtype": "f8"
         },
         "xaxis": "x",
         "y": {
          "bdata": "AAAAAABwd8AAAAAAAHB3wAAAAAAAEHjAAAAAAAAQeMA=",
          "dtype": "f8"
         },
         "yaxis": "y"
        },
        {
         "hoverinfo": "text",
         "marker": {
          "color": "rgb(133,20,75)"
         },
         "mode": "lines",
         "type": "scatter",
         "x": {
          "bdata": "8LPkfRlD3z/lWIOlOfXjP+VYg6U59eM/AAAAAAAAAAA=",
          "dtype": "f8"
         },
         "xaxis": "x",
         "y": {
          "bdata": "AAAAAADAd8AAAAAAAMB3wAAAAAAAsHjAAAAAAACweMA=",
          "dtype": "f8"
         },
         "yaxis": "y"
        },
        {
         "hoverinfo": "text",
         "marker": {
          "color": "rgb(133,20,75)"
         },
         "mode": "lines",
         "type": "scatter",
         "x": {
          "bdata": "AAAAAAAAAACRdMFJQ2vkP5F0wUlDa+Q/5ViDpTn14z8=",
          "dtype": "f8"
         },
         "xaxis": "x",
         "y": {
          "bdata": "AAAAAADQdsAAAAAAANB2wAAAAAAAOHjAAAAAAAA4eMA=",
          "dtype": "f8"
         },
         "yaxis": "y"
        },
        {
         "hoverinfo": "text",
         "marker": {
          "color": "rgb(133,20,75)"
         },
         "mode": "lines",
         "type": "scatter",
         "x": {
          "bdata": "AAAAAAAAAADMB9+R7THWP8wH35HtMdY/AAAAAAAAAAA=",
          "dtype": "f8"
         },
         "xaxis": "x",
         "y": {
          "bdata": "AAAAAABQecAAAAAAAFB5wAAAAAAA8HnAAAAAAADwecA=",
          "dtype": "f8"
         },
         "yaxis": "y"
        },
        {
         "hoverinfo": "text",
         "marker": {
          "color": "rgb(133,20,75)"
         },
         "mode": "lines",
         "type": "scatter",
         "x": {
          "bdata": "AAAAAAAAAAC0wR/vwGXUP7TBH+/AZdQ/AAAAAAAAAAA=",
          "dtype": "f8"
         },
         "xaxis": "x",
         "y": {
          "bdata": "AAAAAACQesAAAAAAAJB6wAAAAAAAMHvAAAAAAAAwe8A=",
          "dtype": "f8"
         },
         "yaxis": "y"
        },
        {
         "hoverinfo": "text",
         "marker": {
          "color": "rgb(133,20,75)"
         },
         "mode": "lines",
         "type": "scatter",
         "x": {
          "bdata": "tMEf78Bl1D8Rm6NR+BXlPxGbo1H4FeU/AAAAAAAAAAA=",
          "dtype": "f8"
         },
         "xaxis": "x",
         "y": {
          "bdata": "AAAAAADgesAAAAAAAOB6wAAAAAAA0HvAAAAAAADQe8A=",
          "dtype": "f8"
         },
         "yaxis": "y"
        },
        {
         "hoverinfo": "text",
         "marker": {
          "color": "rgb(133,20,75)"
         },
         "mode": "lines",
         "type": "scatter",
         "x": {
          "bdata": "zAffke0x1j+nklyLLDnoP6eSXIssOeg/EZujUfgV5T8=",
          "dtype": "f8"
         },
         "xaxis": "x",
         "y": {
          "bdata": "AAAAAACgecAAAAAAAKB5wAAAAAAAWHvAAAAAAABYe8A=",
          "dtype": "f8"
         },
         "yaxis": "y"
        },
        {
         "hoverinfo": "text",
         "marker": {
          "color": "rgb(133,20,75)"
         },
         "mode": "lines",
         "type": "scatter",
         "x": {
          "bdata": "kXTBSUNr5D8yxPX/eGHrPzLE9f94Yes/p5Jciyw56D8=",
          "dtype": "f8"
         },
         "xaxis": "x",
         "y": {
          "bdata": "AAAAAACEd8AAAAAAAIR3wAAAAAAAfHrAAAAAAAB8esA=",
          "dtype": "f8"
         },
         "yaxis": "y"
        },
        {
         "hoverinfo": "text",
         "marker": {
          "color": "rgb(133,20,75)"
         },
         "mode": "lines",
         "type": "scatter",
         "x": {
          "bdata": "AAAAAAAAAABqd+RJjp7SP2p35EmOntI/AAAAAAAAAAA=",
          "dtype": "f8"
         },
         "xaxis": "x",
         "y": {
          "bdata": "AAAAAABwfMAAAAAAAHB8wAAAAAAAEH3AAAAAAAAQfcA=",
          "dtype": "f8"
         },
         "yaxis": "y"
        },
        {
         "hoverinfo": "text",
         "marker": {
          "color": "rgb(133,20,75)"
         },
         "mode": "lines",
         "type": "scatter",
         "x": {
          "bdata": "MsT1/3hh6z8w/pD/7tbsPzD+kP/u1uw/anfkSY6e0j8=",
          "dtype": "f8"
         },
         "xaxis": "x",
         "y": {
          "bdata": "AAAAAAAAecAAAAAAAAB5wAAAAAAAwHzAAAAAAADAfMA=",
          "dtype": "f8"
         },
         "yaxis": "y"
        },
        {
         "hoverinfo": "text",
         "marker": {
          "color": "rgb(0,116,217)"
         },
         "mode": "lines",
         "type": "scatter",
         "x": {
          "bdata": "xN2S5zvK5j8bLWl8xLnyPxstaXzEufI/MP6Q/+7W7D8=",
          "dtype": "f8"
         },
         "xaxis": "x",
         "y": {
          "bdata": "AAAAAAAEdcAAAAAAAAR1wAAAAAAA4HrAAAAAAADgesA=",
          "dtype": "f8"
         },
         "yaxis": "y"
        },
        {
         "hoverinfo": "text",
         "marker": {
          "color": "rgb(0,116,217)"
         },
         "mode": "lines",
         "type": "scatter",
         "x": {
          "bdata": "lbFaPhg48T84hbNnrcz2PziFs2etzPY/Gy1pfMS58j8=",
          "dtype": "f8"
         },
         "xaxis": "x",
         "y": {
          "bdata": "AAAAAEoWU8AAAAAAShZTwAAAAAAA8nfAAAAAAADyd8A=",
          "dtype": "f8"
         },
         "yaxis": "y"
        },
        {
         "hoverinfo": "text",
         "marker": {
          "color": "rgb(255,220,0)"
         },
         "mode": "lines",
         "type": "scatter",
         "x": {
          "bdata": "AAAAAAAAAAA45nL+KALbPzjmcv4oAts/AAAAAAAAAAA=",
          "dtype": "f8"
         },
         "xaxis": "x",
         "y": {
          "bdata": "AAAAAABQfsAAAAAAAFB+wAAAAAAA8H7AAAAAAADwfsA=",
          "dtype": "f8"
         },
         "yaxis": "y"
        },
        {
         "hoverinfo": "text",
         "marker": {
          "color": "rgb(255,220,0)"
         },
         "mode": "lines",
         "type": "scatter",
         "x": {
          "bdata": "OOZy/igC2z8KVTurrp3mPwpVO6uuneY/AAAAAAAAAAA=",
          "dtype": "f8"
         },
         "xaxis": "x",
         "y": {
          "bdata": "AAAAAACgfsAAAAAAAKB+wAAAAAAAkH/AAAAAAACQf8A=",
          "dtype": "f8"
         },
         "yaxis": "y"
        },
        {
         "hoverinfo": "text",
         "marker": {
          "color": "rgb(255,220,0)"
         },
         "mode": "lines",
         "type": "scatter",
         "x": {
          "bdata": "AAAAAAAAAAD2S8gjIUjsP/ZLyCMhSOw/ClU7q66d5j8=",
          "dtype": "f8"
         },
         "xaxis": "x",
         "y": {
          "bdata": "AAAAAACwfcAAAAAAALB9wAAAAAAAGH/AAAAAAAAYf8A=",
          "dtype": "f8"
         },
         "yaxis": "y"
        },
        {
         "hoverinfo": "text",
         "marker": {
          "color": "rgb(255,220,0)"
         },
         "mode": "lines",
         "type": "scatter",
         "x": {
          "bdata": "AAAAAAAAAABa0cgPnBvmP1rRyA+cG+Y/AAAAAAAAAAA=",
          "dtype": "f8"
         },
         "xaxis": "x",
         "y": {
          "bdata": "AAAAAABogMAAAAAAAGiAwAAAAAAAuIDAAAAAAAC4gMA=",
          "dtype": "f8"
         },
         "yaxis": "y"
        },
        {
         "hoverinfo": "text",
         "marker": {
          "color": "rgb(255,220,0)"
         },
         "mode": "lines",
         "type": "scatter",
         "x": {
          "bdata": "AAAAAAAAAABhnaOkhy7nP2Gdo6SHLuc/WtHID5wb5j8=",
          "dtype": "f8"
         },
         "xaxis": "x",
         "y": {
          "bdata": "AAAAAAAYgMAAAAAAABiAwAAAAAAAkIDAAAAAAACQgMA=",
          "dtype": "f8"
         },
         "yaxis": "y"
        },
        {
         "hoverinfo": "text",
         "marker": {
          "color": "rgb(255,220,0)"
         },
         "mode": "lines",
         "type": "scatter",
         "x": {
          "bdata": "YZ2jpIcu5z/xkcra6VrqP/GRytrpWuo/AAAAAAAAAAA=",
          "dtype": "f8"
         },
         "xaxis": "x",
         "y": {
          "bdata": "AAAAAABUgMAAAAAAAFSAwAAAAAAACIHAAAAAAAAIgcA=",
          "dtype": "f8"
         },
         "yaxis": "y"
        },
        {
         "hoverinfo": "text",
         "marker": {
          "color": "rgb(255,220,0)"
         },
         "mode": "lines",
         "type": "scatter",
         "x": {
          "bdata": "AAAAAAAAAACsY0aJP/PpP6xjRok/8+k/AAAAAAAAAAA=",
          "dtype": "f8"
         },
         "xaxis": "x",
         "y": {
          "bdata": "AAAAAABYgcAAAAAAAFiBwAAAAAAAqIHAAAAAAACogcA=",
          "dtype": "f8"
         },
         "yaxis": "y"
        },
        {
         "hoverinfo": "text",
         "marker": {
          "color": "rgb(255,220,0)"
         },
         "mode": "lines",
         "type": "scatter",
         "x": {
          "bdata": "rGNGiT/z6T/kGrhmQf/qP+QauGZB/+o/AAAAAAAAAAA=",
          "dtype": "f8"
         },
         "xaxis": "x",
         "y": {
          "bdata": "AAAAAACAgcAAAAAAAICBwAAAAAAA+IHAAAAAAAD4gcA=",
          "dtype": "f8"
         },
         "yaxis": "y"
        },
        {
         "hoverinfo": "text",
         "marker": {
          "color": "rgb(255,220,0)"
         },
         "mode": "lines",
         "type": "scatter",
         "x": {
          "bdata": "8ZHK2ula6j/ZnS/w0tTtP9mdL/DS1O0/5Bq4ZkH/6j8=",
          "dtype": "f8"
         },
         "xaxis": "x",
         "y": {
          "bdata": "AAAAAACugMAAAAAAAK6AwAAAAAAAvIHAAAAAAAC8gcA=",
          "dtype": "f8"
         },
         "yaxis": "y"
        },
        {
         "hoverinfo": "text",
         "marker": {
          "color": "rgb(255,220,0)"
         },
         "mode": "lines",
         "type": "scatter",
         "x": {
          "bdata": "9kvIIyFI7D+X6UqQLYfvP5fpSpAth+8/2Z0v8NLU7T8=",
          "dtype": "f8"
         },
         "xaxis": "x",
         "y": {
          "bdata": "AAAAAABkfsAAAAAAAGR+wAAAAAAANYHAAAAAAAA1gcA=",
          "dtype": "f8"
         },
         "yaxis": "y"
        },
        {
         "hoverinfo": "text",
         "marker": {
          "color": "rgb(255,220,0)"
         },
         "mode": "lines",
         "type": "scatter",
         "x": {
          "bdata": "AAAAAAAAAAAgZ+AilxLkPyBn4CKXEuQ/AAAAAAAAAAA=",
          "dtype": "f8"
         },
         "xaxis": "x",
         "y": {
          "bdata": "AAAAAABIgsAAAAAAAEiCwAAAAAAAmILAAAAAAACYgsA=",
          "dtype": "f8"
         },
         "yaxis": "y"
        },
        {
         "hoverinfo": "text",
         "marker": {
          "color": "rgb(255,220,0)"
         },
         "mode": "lines",
         "type": "scatter",
         "x": {
          "bdata": "AAAAAAAAAAA674kG5YDcPzrviQblgNw/AAAAAAAAAAA=",
          "dtype": "f8"
         },
         "xaxis": "x",
         "y": {
          "bdata": "AAAAAADogsAAAAAAAOiCwAAAAAAAOIPAAAAAAAA4g8A=",
          "dtype": "f8"
         },
         "yaxis": "y"
        },
        {
         "hoverinfo": "text",
         "marker": {
          "color": "rgb(255,220,0)"
         },
         "mode": "lines",
         "type": "scatter",
         "x": {
          "bdata": "IGfgIpcS5D9yErqn0TblP3ISuqfRNuU/Ou+JBuWA3D8=",
          "dtype": "f8"
         },
         "xaxis": "x",
         "y": {
          "bdata": "AAAAAABwgsAAAAAAAHCCwAAAAAAAEIPAAAAAAAAQg8A=",
          "dtype": "f8"
         },
         "yaxis": "y"
        },
        {
         "hoverinfo": "text",
         "marker": {
          "color": "rgb(255,220,0)"
         },
         "mode": "lines",
         "type": "scatter",
         "x": {
          "bdata": "l+lKkC2H7z9pfJY/E6TvP2l8lj8TpO8/chK6p9E25T8=",
          "dtype": "f8"
         },
         "xaxis": "x",
         "y": {
          "bdata": "AAAAAIAzgMAAAAAAgDOAwAAAAAAAwILAAAAAAADAgsA=",
          "dtype": "f8"
         },
         "yaxis": "y"
        },
        {
         "hoverinfo": "text",
         "marker": {
          "color": "rgb(40,35,35)"
         },
         "mode": "lines",
         "type": "scatter",
         "x": {
          "bdata": "AAAAAAAAAADuCUeuAFTWP+4JR64AVNY/AAAAAAAAAAA=",
          "dtype": "f8"
         },
         "xaxis": "x",
         "y": {
          "bdata": "AAAAAACIg8AAAAAAAIiDwAAAAAAA2IPAAAAAAADYg8A=",
          "dtype": "f8"
         },
         "yaxis": "y"
        },
        {
         "hoverinfo": "text",
         "marker": {
          "color": "rgb(40,35,35)"
         },
         "mode": "lines",
         "type": "scatter",
         "x": {
          "bdata": "7glHrgBU1j+3g21NcMLgP7eDbU1wwuA/AAAAAAAAAAA=",
          "dtype": "f8"
         },
         "xaxis": "x",
         "y": {
          "bdata": "AAAAAACwg8AAAAAAALCDwAAAAAAAKITAAAAAAAAohMA=",
          "dtype": "f8"
         },
         "yaxis": "y"
        },
        {
         "hoverinfo": "text",
         "marker": {
          "color": "rgb(0,116,217)"
         },
         "mode": "lines",
         "type": "scatter",
         "x": {
          "bdata": "aXyWPxOk7z9DX2/pLabxP0Nfb+ktpvE/t4NtTXDC4D8=",
          "dtype": "f8"
         },
         "xaxis": "x",
         "y": {
          "bdata": "AAAAAMB5gcAAAAAAwHmBwAAAAAAA7IPAAAAAAADsg8A=",
          "dtype": "f8"
         },
         "yaxis": "y"
        },
        {
         "hoverinfo": "text",
         "marker": {
          "color": "rgb(61,153,112)"
         },
         "mode": "lines",
         "type": "scatter",
         "x": {
          "bdata": "AAAAAAAAAABKsq+V65neP0qyr5Xrmd4/AAAAAAAAAAA=",
          "dtype": "f8"
         },
         "xaxis": "x",
         "y": {
          "bdata": "AAAAAADIhMAAAAAAAMiEwAAAAAAAGIXAAAAAAAAYhcA=",
          "dtype": "f8"
         },
         "yaxis": "y"
        },
        {
         "hoverinfo": "text",
         "marker": {
          "color": "rgb(61,153,112)"
         },
         "mode": "lines",
         "type": "scatter",
         "x": {
          "bdata": "AAAAAAAAAADfRJj3T/zhP99EmPdP/OE/SrKvleuZ3j8=",
          "dtype": "f8"
         },
         "xaxis": "x",
         "y": {
          "bdata": "AAAAAAB4hMAAAAAAAHiEwAAAAAAA8ITAAAAAAADwhMA=",
          "dtype": "f8"
         },
         "yaxis": "y"
        },
        {
         "hoverinfo": "text",
         "marker": {
          "color": "rgb(61,153,112)"
         },
         "mode": "lines",
         "type": "scatter",
         "x": {
          "bdata": "AAAAAAAAAABeee3+BKHbP1557f4Eods/AAAAAAAAAAA=",
          "dtype": "f8"
         },
         "xaxis": "x",
         "y": {
          "bdata": "AAAAAABohcAAAAAAAGiFwAAAAAAAuIXAAAAAAAC4hcA=",
          "dtype": "f8"
         },
         "yaxis": "y"
        },
        {
         "hoverinfo": "text",
         "marker": {
          "color": "rgb(61,153,112)"
         },
         "mode": "lines",
         "type": "scatter",
         "x": {
          "bdata": "Xnnt/gSh2z+h6ZEcoD3iP6HpkRygPeI/AAAAAAAAAAA=",
          "dtype": "f8"
         },
         "xaxis": "x",
         "y": {
          "bdata": "AAAAAACQhcAAAAAAAJCFwAAAAAAACIbAAAAAAAAIhsA=",
          "dtype": "f8"
         },
         "yaxis": "y"
        },
        {
         "hoverinfo": "text",
         "marker": {
          "color": "rgb(61,153,112)"
         },
         "mode": "lines",
         "type": "scatter",
         "x": {
          "bdata": "30SY90/84T+9Nxxme2XnP703HGZ7Zec/oemRHKA94j8=",
          "dtype": "f8"
         },
         "xaxis": "x",
         "y": {
          "bdata": "AAAAAAC0hMAAAAAAALSEwAAAAAAAzIXAAAAAAADMhcA=",
          "dtype": "f8"
         },
         "yaxis": "y"
        },
        {
         "hoverinfo": "text",
         "marker": {
          "color": "rgb(255,65,54)"
         },
         "mode": "lines",
         "type": "scatter",
         "x": {
          "bdata": "AAAAAAAAAABijicWd2TlP2KOJxZ3ZOU/AAAAAAAAAAA=",
          "dtype": "f8"
         },
         "xaxis": "x",
         "y": {
          "bdata": "AAAAAAD4hsAAAAAAAPiGwAAAAAAASIfAAAAAAABIh8A=",
          "dtype": "f8"
         },
         "yaxis": "y"
        },
        {
         "hoverinfo": "text",
         "marker": {
          "color": "rgb(255,65,54)"
         },
         "mode": "lines",
         "type": "scatter",
         "x": {
          "bdata": "AAAAAAAAAADe7+sq3QHoP97v6yrdAeg/Yo4nFndk5T8=",
          "dtype": "f8"
         },
         "xaxis": "x",
         "y": {
          "bdata": "AAAAAACohsAAAAAAAKiGwAAAAAAAIIfAAAAAAAAgh8A=",
          "dtype": "f8"
         },
         "yaxis": "y"
        },
        {
         "hoverinfo": "text",
         "marker": {
          "color": "rgb(255,65,54)"
         },
         "mode": "lines",
         "type": "scatter",
         "x": {
          "bdata": "AAAAAAAAAABNA8ax4t/hP00DxrHi3+E/AAAAAAAAAAA=",
          "dtype": "f8"
         },
         "xaxis": "x",
         "y": {
          "bdata": "AAAAAADoh8AAAAAAAOiHwAAAAAAAOIjAAAAAAAA4iMA=",
          "dtype": "f8"
         },
         "yaxis": "y"
        },
        {
         "hoverinfo": "text",
         "marker": {
          "color": "rgb(255,65,54)"
         },
         "mode": "lines",
         "type": "scatter",
         "x": {
          "bdata": "AAAAAAAAAACDmqdzkXXmP4Oap3ORdeY/TQPGseLf4T8=",
          "dtype": "f8"
         },
         "xaxis": "x",
         "y": {
          "bdata": "AAAAAACYh8AAAAAAAJiHwAAAAAAAEIjAAAAAAAAQiMA=",
          "dtype": "f8"
         },
         "yaxis": "y"
        },
        {
         "hoverinfo": "text",
         "marker": {
          "color": "rgb(255,65,54)"
         },
         "mode": "lines",
         "type": "scatter",
         "x": {
          "bdata": "AAAAAAAAAABiKORnrNniP2Io5Ges2eI/AAAAAAAAAAA=",
          "dtype": "f8"
         },
         "xaxis": "x",
         "y": {
          "bdata": "AAAAAACIiMAAAAAAAIiIwAAAAAAA2IjAAAAAAADYiMA=",
          "dtype": "f8"
         },
         "yaxis": "y"
        },
        {
         "hoverinfo": "text",
         "marker": {
          "color": "rgb(255,65,54)"
         },
         "mode": "lines",
         "type": "scatter",
         "x": {
          "bdata": "AAAAAAAAAADLHwimhZrgP8sfCKaFmuA/AAAAAAAAAAA=",
          "dtype": "f8"
         },
         "xaxis": "x",
         "y": {
          "bdata": "AAAAAAAoicAAAAAAACiJwAAAAAAAeInAAAAAAAB4icA=",
          "dtype": "f8"
         },
         "yaxis": "y"
        },
        {
         "hoverinfo": "text",
         "marker": {
          "color": "rgb(255,65,54)"
         },
         "mode": "lines",
         "type": "scatter",
         "x": {
          "bdata": "yx8IpoWa4D+6ZL0k85zjP7pkvSTznOM/AAAAAAAAAAA=",
          "dtype": "f8"
         },
         "xaxis": "x",
         "y": {
          "bdata": "AAAAAABQicAAAAAAAFCJwAAAAAAAyInAAAAAAADIicA=",
          "dtype": "f8"
         },
         "yaxis": "y"
        },
        {
         "hoverinfo": "text",
         "marker": {
          "color": "rgb(255,65,54)"
         },
         "mode": "lines",
         "type": "scatter",
         "x": {
          "bdata": "YijkZ6zZ4j9IpmQyxGHmP0imZDLEYeY/umS9JPOc4z8=",
          "dtype": "f8"
         },
         "xaxis": "x",
         "y": {
          "bdata": "AAAAAACwiMAAAAAAALCIwAAAAAAAjInAAAAAAACMicA=",
          "dtype": "f8"
         },
         "yaxis": "y"
        },
        {
         "hoverinfo": "text",
         "marker": {
          "color": "rgb(255,65,54)"
         },
         "mode": "lines",
         "type": "scatter",
         "x": {
          "bdata": "g5qnc5F15j/ToRwfUvbmP9OhHB9S9uY/SKZkMsRh5j8=",
          "dtype": "f8"
         },
         "xaxis": "x",
         "y": {
          "bdata": "AAAAAADUh8AAAAAAANSHwAAAAAAAHonAAAAAAAAeicA=",
          "dtype": "f8"
         },
         "yaxis": "y"
        },
        {
         "hoverinfo": "text",
         "marker": {
          "color": "rgb(255,65,54)"
         },
         "mode": "lines",
         "type": "scatter",
         "x": {
          "bdata": "06EcH1L25j+14GGXx3rpP7XgYZfHeuk/AAAAAAAAAAA=",
          "dtype": "f8"
         },
         "xaxis": "x",
         "y": {
          "bdata": "AAAAAAB5iMAAAAAAAHmIwAAAAAAAGIrAAAAAAAAYisA=",
          "dtype": "f8"
         },
         "yaxis": "y"
        },
        {
         "hoverinfo": "text",
         "marker": {
          "color": "rgb(255,65,54)"
         },
         "mode": "lines",
         "type": "scatter",
         "x": {
          "bdata": "3u/rKt0B6D9ZEq4aA0TqP1kSrhoDROo/teBhl8d66T8=",
          "dtype": "f8"
         },
         "xaxis": "x",
         "y": {
          "bdata": "AAAAAADkhsAAAAAAAOSGwAAAAACASInAAAAAAIBIicA=",
          "dtype": "f8"
         },
         "yaxis": "y"
        },
        {
         "hoverinfo": "text",
         "marker": {
          "color": "rgb(255,65,54)"
         },
         "mode": "lines",
         "type": "scatter",
         "x": {
          "bdata": "AAAAAAAAAAC+WxOiESrnP75bE6IRKuc/AAAAAAAAAAA=",
          "dtype": "f8"
         },
         "xaxis": "x",
         "y": {
          "bdata": "AAAAAABoisAAAAAAAGiKwAAAAAAAuIrAAAAAAAC4isA=",
          "dtype": "f8"
         },
         "yaxis": "y"
        },
        {
         "hoverinfo": "text",
         "marker": {
          "color": "rgb(255,65,54)"
         },
         "mode": "lines",
         "type": "scatter",
         "x": {
          "bdata": "vlsTohEq5z8tZ2NDECroPy1nY0MQKug/AAAAAAAAAAA=",
          "dtype": "f8"
         },
         "xaxis": "x",
         "y": {
          "bdata": "AAAAAACQisAAAAAAAJCKwAAAAAAACIvAAAAAAAAIi8A=",
          "dtype": "f8"
         },
         "yaxis": "y"
        },
        {
         "hoverinfo": "text",
         "marker": {
          "color": "rgb(255,65,54)"
         },
         "mode": "lines",
         "type": "scatter",
         "x": {
          "bdata": "WRKuGgNE6j/5+W7KbOfqP/n5bsps5+o/LWdjQxAq6D8=",
          "dtype": "f8"
         },
         "xaxis": "x",
         "y": {
          "bdata": "AAAAAEAWiMAAAAAAQBaIwAAAAAAAzIrAAAAAAADMisA=",
          "dtype": "f8"
         },
         "yaxis": "y"
        },
        {
         "hoverinfo": "text",
         "marker": {
          "color": "rgb(255,65,54)"
         },
         "mode": "lines",
         "type": "scatter",
         "x": {
          "bdata": "AAAAAAAAAABSKbyppfPsP1IpvKml8+w/+fluymzn6j8=",
          "dtype": "f8"
         },
         "xaxis": "x",
         "y": {
          "bdata": "AAAAAABYhsAAAAAAAFiGwAAAAAAgcYnAAAAAACBxicA=",
          "dtype": "f8"
         },
         "yaxis": "y"
        },
        {
         "hoverinfo": "text",
         "marker": {
          "color": "rgb(255,65,54)"
         },
         "mode": "lines",
         "type": "scatter",
         "x": {
          "bdata": "AAAAAAAAAABGidxhCJbfP0aJ3GEIlt8/AAAAAAAAAAA=",
          "dtype": "f8"
         },
         "xaxis": "x",
         "y": {
          "bdata": "AAAAAACYjMAAAAAAAJiMwAAAAAAA6IzAAAAAAADojMA=",
          "dtype": "f8"
         },
         "yaxis": "y"
        },
        {
         "hoverinfo": "text",
         "marker": {
          "color": "rgb(255,65,54)"
         },
         "mode": "lines",
         "type": "scatter",
         "x": {
          "bdata": "AAAAAAAAAAC44OC8+m3iP7jg4Lz6beI/RoncYQiW3z8=",
          "dtype": "f8"
         },
         "xaxis": "x",
         "y": {
          "bdata": "AAAAAABIjMAAAAAAAEiMwAAAAAAAwIzAAAAAAADAjMA=",
          "dtype": "f8"
         },
         "yaxis": "y"
        },
        {
         "hoverinfo": "text",
         "marker": {
          "color": "rgb(255,65,54)"
         },
         "mode": "lines",
         "type": "scatter",
         "x": {
          "bdata": "uODgvPpt4j9Aw9QFBgDkP0DD1AUGAOQ/AAAAAAAAAAA=",
          "dtype": "f8"
         },
         "xaxis": "x",
         "y": {
          "bdata": "AAAAAACEjMAAAAAAAISMwAAAAAAAOI3AAAAAAAA4jcA=",
          "dtype": "f8"
         },
         "yaxis": "y"
        },
        {
         "hoverinfo": "text",
         "marker": {
          "color": "rgb(255,65,54)"
         },
         "mode": "lines",
         "type": "scatter",
         "x": {
          "bdata": "AAAAAAAAAADLvRelCPjlP8u9F6UI+OU/QMPUBQYA5D8=",
          "dtype": "f8"
         },
         "xaxis": "x",
         "y": {
          "bdata": "AAAAAAD4i8AAAAAAAPiLwAAAAAAA3ozAAAAAAADejMA=",
          "dtype": "f8"
         },
         "yaxis": "y"
        },
        {
         "hoverinfo": "text",
         "marker": {
          "color": "rgb(255,65,54)"
         },
         "mode": "lines",
         "type": "scatter",
         "x": {
          "bdata": "AAAAAAAAAABo6GbZBw7nP2joZtkHDuc/y70XpQj45T8=",
          "dtype": "f8"
         },
         "xaxis": "x",
         "y": {
          "bdata": "AAAAAACoi8AAAAAAAKiLwAAAAAAAa4zAAAAAAABrjMA=",
          "dtype": "f8"
         },
         "yaxis": "y"
        },
        {
         "hoverinfo": "text",
         "marker": {
          "color": "rgb(255,65,54)"
         },
         "mode": "lines",
         "type": "scatter",
         "x": {
          "bdata": "aOhm2QcO5z9IgBlSWK/nP0iAGVJYr+c/AAAAAAAAAAA=",
          "dtype": "f8"
         },
         "xaxis": "x",
         "y": {
          "bdata": "AAAAAIAJjMAAAAAAgAmMwAAAAAAAiI3AAAAAAACIjcA=",
          "dtype": "f8"
         },
         "yaxis": "y"
        },
        {
         "hoverinfo": "text",
         "marker": {
          "color": "rgb(255,65,54)"
         },
         "mode": "lines",
         "type": "scatter",
         "x": {
          "bdata": "SIAZUliv5z/M03LfDkfoP8zTct8OR+g/AAAAAAAAAAA=",
          "dtype": "f8"
         },
         "xaxis": "x",
         "y": {
          "bdata": "AAAAAMDIjMAAAAAAwMiMwAAAAAAA2I3AAAAAAADYjcA=",
          "dtype": "f8"
         },
         "yaxis": "y"
        },
        {
         "hoverinfo": "text",
         "marker": {
          "color": "rgb(255,65,54)"
         },
         "mode": "lines",
         "type": "scatter",
         "x": {
          "bdata": "AAAAAAAAAADMxs2wOKDoP8zGzbA4oOg/zNNy3w5H6D8=",
          "dtype": "f8"
         },
         "xaxis": "x",
         "y": {
          "bdata": "AAAAAABYi8AAAAAAAFiLwAAAAABgUI3AAAAAAGBQjcA=",
          "dtype": "f8"
         },
         "yaxis": "y"
        },
        {
         "hoverinfo": "text",
         "marker": {
          "color": "rgb(255,65,54)"
         },
         "mode": "lines",
         "type": "scatter",
         "x": {
          "bdata": "AAAAAAAAAAAdpgBFI+boPx2mAEUj5ug/AAAAAAAAAAA=",
          "dtype": "f8"
         },
         "xaxis": "x",
         "y": {
          "bdata": "AAAAAAAojsAAAAAAACiOwAAAAAAAeI7AAAAAAAB4jsA=",
          "dtype": "f8"
         },
         "yaxis": "y"
        },
        {
         "hoverinfo": "text",
         "marker": {
          "color": "rgb(255,65,54)"
         },
         "mode": "lines",
         "type": "scatter",
         "x": {
          "bdata": "zMbNsDig6D/SCwBRNQ3rP9ILAFE1Des/HaYARSPm6D8=",
          "dtype": "f8"
         },
         "xaxis": "x",
         "y": {
          "bdata": "AAAAADBUjMAAAAAAMFSMwAAAAAAAUI7AAAAAAABQjsA=",
          "dtype": "f8"
         },
         "yaxis": "y"
        },
        {
         "hoverinfo": "text",
         "marker": {
          "color": "rgb(255,65,54)"
         },
         "mode": "lines",
         "type": "scatter",
         "x": {
          "bdata": "AAAAAAAAAABSZhsXntrmP1JmGxee2uY/AAAAAAAAAAA=",
          "dtype": "f8"
         },
         "xaxis": "x",
         "y": {
          "bdata": "AAAAAADIjsAAAAAAAMiOwAAAAAAAGI/AAAAAAAAYj8A=",
          "dtype": "f8"
         },
         "yaxis": "y"
        },
        {
         "hoverinfo": "text",
         "marker": {
          "color": "rgb(255,65,54)"
         },
         "mode": "lines",
         "type": "scatter",
         "x": {
          "bdata": "UmYbF57a5j/cUqCr2J/qP9xSoKvYn+o/AAAAAAAAAAA=",
          "dtype": "f8"
         },
         "xaxis": "x",
         "y": {
          "bdata": "AAAAAADwjsAAAAAAAPCOwAAAAAAAaI/AAAAAAABoj8A=",
          "dtype": "f8"
         },
         "yaxis": "y"
        },
        {
         "hoverinfo": "text",
         "marker": {
          "color": "rgb(255,65,54)"
         },
         "mode": "lines",
         "type": "scatter",
         "x": {
          "bdata": "0gsAUTUN6z8/BrllkjrsPz8GuWWSOuw/3FKgq9if6j8=",
          "dtype": "f8"
         },
         "xaxis": "x",
         "y": {
          "bdata": "AAAAABhSjcAAAAAAGFKNwAAAAAAALI/AAAAAAAAsj8A=",
          "dtype": "f8"
         },
         "yaxis": "y"
        },
        {
         "hoverinfo": "text",
         "marker": {
          "color": "rgb(255,65,54)"
         },
         "mode": "lines",
         "type": "scatter",
         "x": {
          "bdata": "Uim8qaXz7D/l7Qr+DtXuP+XtCv4O1e4/Pwa5ZZI67D8=",
          "dtype": "f8"
         },
         "xaxis": "x",
         "y": {
          "bdata": "AAAAAJDkh8AAAAAAkOSHwAAAAAAMP47AAAAAAAw/jsA=",
          "dtype": "f8"
         },
         "yaxis": "y"
        },
        {
         "hoverinfo": "text",
         "marker": {
          "color": "rgb(35,205,205)"
         },
         "mode": "lines",
         "type": "scatter",
         "x": {
          "bdata": "AAAAAAAAAABKTwTEMJDgP0pPBMQwkOA/AAAAAAAAAAA=",
          "dtype": "f8"
         },
         "xaxis": "x",
         "y": {
          "bdata": "AAAAAAC4j8AAAAAAALiPwAAAAAAABJDAAAAAAAAEkMA=",
          "dtype": "f8"
         },
         "yaxis": "y"
        },
        {
         "hoverinfo": "text",
         "marker": {
          "color": "rgb(35,205,205)"
         },
         "mode": "lines",
         "type": "scatter",
         "x": {
          "bdata": "Sk8ExDCQ4D/U2T59/wPnP9TZPn3/A+c/AAAAAAAAAAA=",
          "dtype": "f8"
         },
         "xaxis": "x",
         "y": {
          "bdata": "AAAAAADgj8AAAAAAAOCPwAAAAAAALJDAAAAAAAAskMA=",
          "dtype": "f8"
         },
         "yaxis": "y"
        },
        {
         "hoverinfo": "text",
         "marker": {
          "color": "rgb(35,205,205)"
         },
         "mode": "lines",
         "type": "scatter",
         "x": {
          "bdata": "AAAAAAAAAAA38sdn+LXnPzfyx2f4tec/AAAAAAAAAAA=",
          "dtype": "f8"
         },
         "xaxis": "x",
         "y": {
          "bdata": "AAAAAABUkMAAAAAAAFSQwAAAAAAAfJDAAAAAAAB8kMA=",
          "dtype": "f8"
         },
         "yaxis": "y"
        },
        {
         "hoverinfo": "text",
         "marker": {
          "color": "rgb(35,205,205)"
         },
         "mode": "lines",
         "type": "scatter",
         "x": {
          "bdata": "1Nk+ff8D5z+zMFyQqPDoP7MwXJCo8Og/N/LHZ/i15z8=",
          "dtype": "f8"
         },
         "xaxis": "x",
         "y": {
          "bdata": "AAAAAAAOkMAAAAAAAA6QwAAAAAAAaJDAAAAAAABokMA=",
          "dtype": "f8"
         },
         "yaxis": "y"
        },
        {
         "hoverinfo": "text",
         "marker": {
          "color": "rgb(0,116,217)"
         },
         "mode": "lines",
         "type": "scatter",
         "x": {
          "bdata": "5e0K/g7V7j/kTwfOPQzwP+RPB849DPA/szBckKjw6D8=",
          "dtype": "f8"
         },
         "xaxis": "x",
         "y": {
          "bdata": "AAAAAM4Ri8AAAAAAzhGLwAAAAAAAO5DAAAAAAAA7kMA=",
          "dtype": "f8"
         },
         "yaxis": "y"
        },
        {
         "hoverinfo": "text",
         "marker": {
          "color": "rgb(61,153,112)"
         },
         "mode": "lines",
         "type": "scatter",
         "x": {
          "bdata": "AAAAAAAAAACHFZGZOG7jP4cVkZk4buM/AAAAAAAAAAA=",
          "dtype": "f8"
         },
         "xaxis": "x",
         "y": {
          "bdata": "AAAAAACkkMAAAAAAAKSQwAAAAAAAzJDAAAAAAADMkMA=",
          "dtype": "f8"
         },
         "yaxis": "y"
        },
        {
         "hoverinfo": "text",
         "marker": {
          "color": "rgb(61,153,112)"
         },
         "mode": "lines",
         "type": "scatter",
         "x": {
          "bdata": "AAAAAAAAAABCWtQCnMnkP0Ja1AKcyeQ/AAAAAAAAAAA=",
          "dtype": "f8"
         },
         "xaxis": "x",
         "y": {
          "bdata": "AAAAAAD0kMAAAAAAAPSQwAAAAAAAHJHAAAAAAAAckcA=",
          "dtype": "f8"
         },
         "yaxis": "y"
        },
        {
         "hoverinfo": "text",
         "marker": {
          "color": "rgb(61,153,112)"
         },
         "mode": "lines",
         "type": "scatter",
         "x": {
          "bdata": "AAAAAAAAAACSNouTo7rhP5I2i5OjuuE/AAAAAAAAAAA=",
          "dtype": "f8"
         },
         "xaxis": "x",
         "y": {
          "bdata": "AAAAAABEkcAAAAAAAESRwAAAAAAAbJHAAAAAAABskcA=",
          "dtype": "f8"
         },
         "yaxis": "y"
        },
        {
         "hoverinfo": "text",
         "marker": {
          "color": "rgb(61,153,112)"
         },
         "mode": "lines",
         "type": "scatter",
         "x": {
          "bdata": "kjaLk6O64T8rL1uHXdboPysvW4dd1ug/AAAAAAAAAAA=",
          "dtype": "f8"
         },
         "xaxis": "x",
         "y": {
          "bdata": "AAAAAABYkcAAAAAAAFiRwAAAAAAAlJHAAAAAAACUkcA=",
          "dtype": "f8"
         },
         "yaxis": "y"
        },
        {
         "hoverinfo": "text",
         "marker": {
          "color": "rgb(61,153,112)"
         },
         "mode": "lines",
         "type": "scatter",
         "x": {
          "bdata": "QlrUApzJ5D/By/OsQJbrP8HL86xAlus/Ky9bh13W6D8=",
          "dtype": "f8"
         },
         "xaxis": "x",
         "y": {
          "bdata": "AAAAAAAIkcAAAAAAAAiRwAAAAAAAdpHAAAAAAAB2kcA=",
          "dtype": "f8"
         },
         "yaxis": "y"
        },
        {
         "hoverinfo": "text",
         "marker": {
          "color": "rgb(61,153,112)"
         },
         "mode": "lines",
         "type": "scatter",
         "x": {
          "bdata": "hxWRmThu4z9lIWux5EbuP2Uha7HkRu4/wcvzrECW6z8=",
          "dtype": "f8"
         },
         "xaxis": "x",
         "y": {
          "bdata": "AAAAAAC4kMAAAAAAALiQwAAAAAAAP5HAAAAAAAA/kcA=",
          "dtype": "f8"
         },
         "yaxis": "y"
        },
        {
         "hoverinfo": "text",
         "marker": {
          "color": "rgb(0,116,217)"
         },
         "mode": "lines",
         "type": "scatter",
         "x": {
          "bdata": "5E8Hzj0M8D+d79SPLj7xP53v1I8uPvE/ZSFrseRG7j8=",
          "dtype": "f8"
         },
         "xaxis": "x",
         "y": {
          "bdata": "AAAAAOfDjcAAAAAA58ONwAAAAACA+5DAAAAAAID7kMA=",
          "dtype": "f8"
         },
         "yaxis": "y"
        },
        {
         "hoverinfo": "text",
         "marker": {
          "color": "rgb(255,65,54)"
         },
         "mode": "lines",
         "type": "scatter",
         "x": {
          "bdata": "AAAAAAAAAAAp8RLm5JfjPynxEubkl+M/AAAAAAAAAAA=",
          "dtype": "f8"
         },
         "xaxis": "x",
         "y": {
          "bdata": "AAAAAAC8kcAAAAAAALyRwAAAAAAA5JHAAAAAAADkkcA=",
          "dtype": "f8"
         },
         "yaxis": "y"
        },
        {
         "hoverinfo": "text",
         "marker": {
          "color": "rgb(255,65,54)"
         },
         "mode": "lines",
         "type": "scatter",
         "x": {
          "bdata": "AAAAAAAAAACMXud4UlffP4xe53hSV98/AAAAAAAAAAA=",
          "dtype": "f8"
         },
         "xaxis": "x",
         "y": {
          "bdata": "AAAAAAA0ksAAAAAAADSSwAAAAAAAXJLAAAAAAABcksA=",
          "dtype": "f8"
         },
         "yaxis": "y"
        },
        {
         "hoverinfo": "text",
         "marker": {
          "color": "rgb(255,65,54)"
         },
         "mode": "lines",
         "type": "scatter",
         "x": {
          "bdata": "AAAAAAAAAADEv5kK0XPmP8S/mQrRc+Y/jF7neFJX3z8=",
          "dtype": "f8"
         },
         "xaxis": "x",
         "y": {
          "bdata": "AAAAAAAMksAAAAAAAAySwAAAAAAASJLAAAAAAABIksA=",
          "dtype": "f8"
         },
         "yaxis": "y"
        },
        {
         "hoverinfo": "text",
         "marker": {
          "color": "rgb(255,65,54)"
         },
         "mode": "lines",
         "type": "scatter",
         "x": {
          "bdata": "KfES5uSX4z+nBADWRIruP6cEANZEiu4/xL+ZCtFz5j8=",
          "dtype": "f8"
         },
         "xaxis": "x",
         "y": {
          "bdata": "AAAAAADQkcAAAAAAANCRwAAAAAAAKpLAAAAAAAAqksA=",
          "dtype": "f8"
         },
         "yaxis": "y"
        },
        {
         "hoverinfo": "text",
         "marker": {
          "color": "rgb(35,205,205)"
         },
         "mode": "lines",
         "type": "scatter",
         "x": {
          "bdata": "AAAAAAAAAACSjIZPj5nhP5KMhk+PmeE/AAAAAAAAAAA=",
          "dtype": "f8"
         },
         "xaxis": "x",
         "y": {
          "bdata": "AAAAAACEksAAAAAAAISSwAAAAAAArJLAAAAAAACsksA=",
          "dtype": "f8"
         },
         "yaxis": "y"
        },
        {
         "hoverinfo": "text",
         "marker": {
          "color": "rgb(35,205,205)"
         },
         "mode": "lines",
         "type": "scatter",
         "x": {
          "bdata": "AAAAAAAAAABu3gZJUh7kP27eBklSHuQ/AAAAAAAAAAA=",
          "dtype": "f8"
         },
         "xaxis": "x",
         "y": {
          "bdata": "AAAAAADUksAAAAAAANSSwAAAAAAA/JLAAAAAAAD8ksA=",
          "dtype": "f8"
         },
         "yaxis": "y"
        },
        {
         "hoverinfo": "text",
         "marker": {
          "color": "rgb(35,205,205)"
         },
         "mode": "lines",
         "type": "scatter",
         "x": {
          "bdata": "bt4GSVIe5D9US/LhfxnlP1RL8uF/GeU/AAAAAAAAAAA=",
          "dtype": "f8"
         },
         "xaxis": "x",
         "y": {
          "bdata": "AAAAAADoksAAAAAAAOiSwAAAAAAAJJPAAAAAAAAkk8A=",
          "dtype": "f8"
         },
         "yaxis": "y"
        },
        {
         "hoverinfo": "text",
         "marker": {
          "color": "rgb(35,205,205)"
         },
         "mode": "lines",
         "type": "scatter",
         "x": {
          "bdata": "koyGT4+Z4T+vUvjViF/nP69S+NWIX+c/VEvy4X8Z5T8=",
          "dtype": "f8"
         },
         "xaxis": "x",
         "y": {
          "bdata": "AAAAAACYksAAAAAAAJiSwAAAAAAABpPAAAAAAAAGk8A=",
          "dtype": "f8"
         },
         "yaxis": "y"
        },
        {
         "hoverinfo": "text",
         "marker": {
          "color": "rgb(35,205,205)"
         },
         "mode": "lines",
         "type": "scatter",
         "x": {
          "bdata": "AAAAAAAAAADPRdaoMk7gP89F1qgyTuA/AAAAAAAAAAA=",
          "dtype": "f8"
         },
         "xaxis": "x",
         "y": {
          "bdata": "AAAAAABMk8AAAAAAAEyTwAAAAAAAdJPAAAAAAAB0k8A=",
          "dtype": "f8"
         },
         "yaxis": "y"
        },
        {
         "hoverinfo": "text",
         "marker": {
          "color": "rgb(35,205,205)"
         },
         "mode": "lines",
         "type": "scatter",
         "x": {
          "bdata": "AAAAAAAAAAColweXI3rgP6iXB5cjeuA/AAAAAAAAAAA=",
          "dtype": "f8"
         },
         "xaxis": "x",
         "y": {
          "bdata": "AAAAAACck8AAAAAAAJyTwAAAAAAAxJPAAAAAAADEk8A=",
          "dtype": "f8"
         },
         "yaxis": "y"
        },
        {
         "hoverinfo": "text",
         "marker": {
          "color": "rgb(35,205,205)"
         },
         "mode": "lines",
         "type": "scatter",
         "x": {
          "bdata": "z0XWqDJO4D84NLbH4EnlPzg0tsfgSeU/qJcHlyN64D8=",
          "dtype": "f8"
         },
         "xaxis": "x",
         "y": {
          "bdata": "AAAAAABgk8AAAAAAAGCTwAAAAAAAsJPAAAAAAACwk8A=",
          "dtype": "f8"
         },
         "yaxis": "y"
        },
        {
         "hoverinfo": "text",
         "marker": {
          "color": "rgb(35,205,205)"
         },
         "mode": "lines",
         "type": "scatter",
         "x": {
          "bdata": "AAAAAAAAAACEdudqiBrZP4R252qIGtk/AAAAAAAAAAA=",
          "dtype": "f8"
         },
         "xaxis": "x",
         "y": {
          "bdata": "AAAAAADsk8AAAAAAAOyTwAAAAAAAFJTAAAAAAAAUlMA=",
          "dtype": "f8"
         },
         "yaxis": "y"
        },
        {
         "hoverinfo": "text",
         "marker": {
          "color": "rgb(35,205,205)"
         },
         "mode": "lines",
         "type": "scatter",
         "x": {
          "bdata": "ODS2x+BJ5T+l1u+M5q/sP6XW74zmr+w/hHbnaoga2T8=",
          "dtype": "f8"
         },
         "xaxis": "x",
         "y": {
          "bdata": "AAAAAACIk8AAAAAAAIiTwAAAAAAAAJTAAAAAAAAAlMA=",
          "dtype": "f8"
         },
         "yaxis": "y"
        },
        {
         "hoverinfo": "text",
         "marker": {
          "color": "rgb(35,205,205)"
         },
         "mode": "lines",
         "type": "scatter",
         "x": {
          "bdata": "r1L41Yhf5z/STI4Zv1/vP9JMjhm/X+8/pdbvjOav7D8=",
          "dtype": "f8"
         },
         "xaxis": "x",
         "y": {
          "bdata": "AAAAAADPksAAAAAAAM+SwAAAAAAAxJPAAAAAAADEk8A=",
          "dtype": "f8"
         },
         "yaxis": "y"
        },
        {
         "hoverinfo": "text",
         "marker": {
          "color": "rgb(0,116,217)"
         },
         "mode": "lines",
         "type": "scatter",
         "x": {
          "bdata": "pwQA1kSK7j8ISOiy6pbwPwhI6LLqlvA/0kyOGb9f7z8=",
          "dtype": "f8"
         },
         "xaxis": "x",
         "y": {
          "bdata": "AAAAAAD9kcAAAAAAAP2RwAAAAACASZPAAAAAAIBJk8A=",
          "dtype": "f8"
         },
         "yaxis": "y"
        },
        {
         "hoverinfo": "text",
         "marker": {
          "color": "rgb(133,20,75)"
         },
         "mode": "lines",
         "type": "scatter",
         "x": {
          "bdata": "AAAAAAAAAAAwyzNL+FDjPzDLM0v4UOM/AAAAAAAAAAA=",
          "dtype": "f8"
         },
         "xaxis": "x",
         "y": {
          "bdata": "AAAAAAA8lMAAAAAAADyUwAAAAAAAZJTAAAAAAABklMA=",
          "dtype": "f8"
         },
         "yaxis": "y"
        },
        {
         "hoverinfo": "text",
         "marker": {
          "color": "rgb(133,20,75)"
         },
         "mode": "lines",
         "type": "scatter",
         "x": {
          "bdata": "MMszS/hQ4z9Zq/yHKG7mP1mr/IcobuY/AAAAAAAAAAA=",
          "dtype": "f8"
         },
         "xaxis": "x",
         "y": {
          "bdata": "AAAAAABQlMAAAAAAAFCUwAAAAAAAjJTAAAAAAACMlMA=",
          "dtype": "f8"
         },
         "yaxis": "y"
        },
        {
         "hoverinfo": "text",
         "marker": {
          "color": "rgb(133,20,75)"
         },
         "mode": "lines",
         "type": "scatter",
         "x": {
          "bdata": "AAAAAAAAAAAWr5QKKqXYPxavlAoqpdg/AAAAAAAAAAA=",
          "dtype": "f8"
         },
         "xaxis": "x",
         "y": {
          "bdata": "AAAAAADclMAAAAAAANyUwAAAAAAABJXAAAAAAAAElcA=",
          "dtype": "f8"
         },
         "yaxis": "y"
        },
        {
         "hoverinfo": "text",
         "marker": {
          "color": "rgb(133,20,75)"
         },
         "mode": "lines",
         "type": "scatter",
         "x": {
          "bdata": "Fq+UCiql2D/iB5vZ+oDmP+IHm9n6gOY/AAAAAAAAAAA=",
          "dtype": "f8"
         },
         "xaxis": "x",
         "y": {
          "bdata": "AAAAAADwlMAAAAAAAPCUwAAAAAAALJXAAAAAAAAslcA=",
          "dtype": "f8"
         },
         "yaxis": "y"
        },
        {
         "hoverinfo": "text",
         "marker": {
          "color": "rgb(133,20,75)"
         },
         "mode": "lines",
         "type": "scatter",
         "x": {
          "bdata": "AAAAAAAAAAAGLd8yN77oPwYt3zI3vug/4geb2fqA5j8=",
          "dtype": "f8"
         },
         "xaxis": "x",
         "y": {
          "bdata": "AAAAAAC0lMAAAAAAALSUwAAAAAAADpXAAAAAAAAOlcA=",
          "dtype": "f8"
         },
         "yaxis": "y"
        },
        {
         "hoverinfo": "text",
         "marker": {
          "color": "rgb(133,20,75)"
         },
         "mode": "lines",
         "type": "scatter",
         "x": {
          "bdata": "Wav8hyhu5j/DeIZjwzrrP8N4hmPDOus/Bi3fMje+6D8=",
          "dtype": "f8"
         },
         "xaxis": "x",
         "y": {
          "bdata": "AAAAAABulMAAAAAAAG6UwAAAAAAA4ZTAAAAAAADhlMA=",
          "dtype": "f8"
         },
         "yaxis": "y"
        },
        {
         "hoverinfo": "text",
         "marker": {
          "color": "rgb(0,116,217)"
         },
         "mode": "lines",
         "type": "scatter",
         "x": {
          "bdata": "CEjosuqW8D8sAr/XZM3xPywCv9dkzfE/w3iGY8M66z8=",
          "dtype": "f8"
         },
         "xaxis": "x",
         "y": {
          "bdata": "AAAAAECjksAAAAAAQKOSwAAAAACAp5TAAAAAAICnlMA=",
          "dtype": "f8"
         },
         "yaxis": "y"
        },
        {
         "hoverinfo": "text",
         "marker": {
          "color": "rgb(0,116,217)"
         },
         "mode": "lines",
         "type": "scatter",
         "x": {
          "bdata": "ne/Ujy4+8T+hppNi+njzP6Gmk2L6ePM/LAK/12TN8T8=",
          "dtype": "f8"
         },
         "xaxis": "x",
         "y": {
          "bdata": "AAAAgHPdj8AAAACAc92PwAAAAABgpZPAAAAAAGClk8A=",
          "dtype": "f8"
         },
         "yaxis": "y"
        },
        {
         "hoverinfo": "text",
         "marker": {
          "color": "rgb(255,220,0)"
         },
         "mode": "lines",
         "type": "scatter",
         "x": {
          "bdata": "AAAAAAAAAABO4qInOeTbP07ioic55Ns/AAAAAAAAAAA=",
          "dtype": "f8"
         },
         "xaxis": "x",
         "y": {
          "bdata": "AAAAAABUlcAAAAAAAFSVwAAAAAAAfJXAAAAAAAB8lcA=",
          "dtype": "f8"
         },
         "yaxis": "y"
        },
        {
         "hoverinfo": "text",
         "marker": {
          "color": "rgb(255,220,0)"
         },
         "mode": "lines",
         "type": "scatter",
         "x": {
          "bdata": "TuKiJznk2z/LZkBeBl/iP8tmQF4GX+I/AAAAAAAAAAA=",
          "dtype": "f8"
         },
         "xaxis": "x",
         "y": {
          "bdata": "AAAAAABolcAAAAAAAGiVwAAAAAAApJXAAAAAAACklcA=",
          "dtype": "f8"
         },
         "yaxis": "y"
        },
        {
         "hoverinfo": "text",
         "marker": {
          "color": "rgb(40,35,35)"
         },
         "mode": "lines",
         "type": "scatter",
         "x": {
          "bdata": "AAAAAAAAAAAueN4QYAHVPy543hBgAdU/AAAAAAAAAAA=",
          "dtype": "f8"
         },
         "xaxis": "x",
         "y": {
          "bdata": "AAAAAAAclsAAAAAAAByWwAAAAAAARJbAAAAAAABElsA=",
          "dtype": "f8"
         },
         "yaxis": "y"
        },
        {
         "hoverinfo": "text",
         "marker": {
          "color": "rgb(40,35,35)"
         },
         "mode": "lines",
         "type": "scatter",
         "x": {
          "bdata": "AAAAAAAAAACXU6esoAThP5dTp6ygBOE/LnjeEGAB1T8=",
          "dtype": "f8"
         },
         "xaxis": "x",
         "y": {
          "bdata": "AAAAAAD0lcAAAAAAAPSVwAAAAAAAMJbAAAAAAAAwlsA=",
          "dtype": "f8"
         },
         "yaxis": "y"
        },
        {
         "hoverinfo": "text",
         "marker": {
          "color": "rgb(40,35,35)"
         },
         "mode": "lines",
         "type": "scatter",
         "x": {
          "bdata": "AAAAAAAAAAA3bCcdT6rmPzdsJx1PquY/l1OnrKAE4T8=",
          "dtype": "f8"
         },
         "xaxis": "x",
         "y": {
          "bdata": "AAAAAADMlcAAAAAAAMyVwAAAAAAAEpbAAAAAAAASlsA=",
          "dtype": "f8"
         },
         "yaxis": "y"
        },
        {
         "hoverinfo": "text",
         "marker": {
          "color": "rgb(40,35,35)"
         },
         "mode": "lines",
         "type": "scatter",
         "x": {
          "bdata": "AAAAAAAAAADA5SIQh/rXP8DlIhCH+tc/AAAAAAAAAAA=",
          "dtype": "f8"
         },
         "xaxis": "x",
         "y": {
          "bdata": "AAAAAABslsAAAAAAAGyWwAAAAAAAlJbAAAAAAACUlsA=",
          "dtype": "f8"
         },
         "yaxis": "y"
        },
        {
         "hoverinfo": "text",
         "marker": {
          "color": "rgb(40,35,35)"
         },
         "mode": "lines",
         "type": "scatter",
         "x": {
          "bdata": "N2wnHU+q5j+Or4MTqALoP46vgxOoAug/wOUiEIf61z8=",
          "dtype": "f8"
         },
         "xaxis": "x",
         "y": {
          "bdata": "AAAAAADvlcAAAAAAAO+VwAAAAAAAgJbAAAAAAACAlsA=",
          "dtype": "f8"
         },
         "yaxis": "y"
        },
        {
         "hoverinfo": "text",
         "marker": {
          "color": "rgb(40,35,35)"
         },
         "mode": "lines",
         "type": "scatter",
         "x": {
          "bdata": "jq+DE6gC6D/5ZZ1IzhDrP/llnUjOEOs/AAAAAAAAAAA=",
          "dtype": "f8"
         },
         "xaxis": "x",
         "y": {
          "bdata": "AAAAAIA3lsAAAAAAgDeWwAAAAAAAvJbAAAAAAAC8lsA=",
          "dtype": "f8"
         },
         "yaxis": "y"
        },
        {
         "hoverinfo": "text",
         "marker": {
          "color": "rgb(0,116,217)"
         },
         "mode": "lines",
         "type": "scatter",
         "x": {
          "bdata": "y2ZAXgZf4j/ND/c3o6zxP80P9zejrPE/+WWdSM4Q6z8=",
          "dtype": "f8"
         },
         "xaxis": "x",
         "y": {
          "bdata": "AAAAAACGlcAAAAAAAIaVwAAAAADAeZbAAAAAAMB5lsA=",
          "dtype": "f8"
         },
         "yaxis": "y"
        },
        {
         "hoverinfo": "text",
         "marker": {
          "color": "rgb(0,116,217)"
         },
         "mode": "lines",
         "type": "scatter",
         "x": {
          "bdata": "oaaTYvp48z8typrwD0/0Py3KmvAPT/Q/zQ/3N6Os8T8=",
          "dtype": "f8"
         },
         "xaxis": "x",
         "y": {
          "bdata": "AAAA4AzKkcAAAADgDMqRwAAAAADg/5XAAAAAAOD/lcA=",
          "dtype": "f8"
         },
         "yaxis": "y"
        },
        {
         "hoverinfo": "text",
         "marker": {
          "color": "rgb(0,116,217)"
         },
         "mode": "lines",
         "type": "scatter",
         "x": {
          "bdata": "vTccZntl5z+1sJwHy6H0P7WwnAfLofQ/Lcqa8A9P9D8=",
          "dtype": "f8"
         },
         "xaxis": "x",
         "y": {
          "bdata": "AAAAAABAhcAAAAAAAECFwAAAAHD25JPAAAAAcPbkk8A=",
          "dtype": "f8"
         },
         "yaxis": "y"
        },
        {
         "hoverinfo": "text",
         "marker": {
          "color": "rgb(0,116,217)"
         },
         "mode": "lines",
         "type": "scatter",
         "x": {
          "bdata": "Q19v6S2m8T8x2F2fo+T2PzHYXZ+j5PY/tbCcB8uh9D8=",
          "dtype": "f8"
         },
         "xaxis": "x",
         "y": {
          "bdata": "AAAAAOCygsAAAAAA4LKCwAAAAHD2hI7AAAAAcPaEjsA=",
          "dtype": "f8"
         },
         "yaxis": "y"
        },
        {
         "hoverinfo": "text",
         "marker": {
          "color": "rgb(0,116,217)"
         },
         "mode": "lines",
         "type": "scatter",
         "x": {
          "bdata": "OIWzZ63M9j9+APdfbpL4P34A919ukvg/Mdhdn6Pk9j8=",
          "dtype": "f8"
         },
         "xaxis": "x",
         "y": {
          "bdata": "AAAAgJK3bMAAAACAkrdswAAAADjrm4jAAAAAOOubiMA=",
          "dtype": "f8"
         },
         "yaxis": "y"
        }
       ],
       "layout": {
        "autosize": false,
        "height": 2390,
        "hoverlabel": {
         "bgcolor": "white",
         "font": {
          "family": "Rockwell",
          "size": 16
         }
        },
        "hovermode": "closest",
        "plot_bgcolor": "#ECEFF1",
        "showlegend": false,
        "template": {
         "data": {
          "bar": [
           {
            "error_x": {
             "color": "#2a3f5f"
            },
            "error_y": {
             "color": "#2a3f5f"
            },
            "marker": {
             "line": {
              "color": "white",
              "width": 0.5
             },
             "pattern": {
              "fillmode": "overlay",
              "size": 10,
              "solidity": 0.2
             }
            },
            "type": "bar"
           }
          ],
          "barpolar": [
           {
            "marker": {
             "line": {
              "color": "white",
              "width": 0.5
             },
             "pattern": {
              "fillmode": "overlay",
              "size": 10,
              "solidity": 0.2
             }
            },
            "type": "barpolar"
           }
          ],
          "carpet": [
           {
            "aaxis": {
             "endlinecolor": "#2a3f5f",
             "gridcolor": "#C8D4E3",
             "linecolor": "#C8D4E3",
             "minorgridcolor": "#C8D4E3",
             "startlinecolor": "#2a3f5f"
            },
            "baxis": {
             "endlinecolor": "#2a3f5f",
             "gridcolor": "#C8D4E3",
             "linecolor": "#C8D4E3",
             "minorgridcolor": "#C8D4E3",
             "startlinecolor": "#2a3f5f"
            },
            "type": "carpet"
           }
          ],
          "choropleth": [
           {
            "colorbar": {
             "outlinewidth": 0,
             "ticks": ""
            },
            "type": "choropleth"
           }
          ],
          "contour": [
           {
            "colorbar": {
             "outlinewidth": 0,
             "ticks": ""
            },
            "colorscale": [
             [
              0,
              "#0d0887"
             ],
             [
              0.1111111111111111,
              "#46039f"
             ],
             [
              0.2222222222222222,
              "#7201a8"
             ],
             [
              0.3333333333333333,
              "#9c179e"
             ],
             [
              0.4444444444444444,
              "#bd3786"
             ],
             [
              0.5555555555555556,
              "#d8576b"
             ],
             [
              0.6666666666666666,
              "#ed7953"
             ],
             [
              0.7777777777777778,
              "#fb9f3a"
             ],
             [
              0.8888888888888888,
              "#fdca26"
             ],
             [
              1,
              "#f0f921"
             ]
            ],
            "type": "contour"
           }
          ],
          "contourcarpet": [
           {
            "colorbar": {
             "outlinewidth": 0,
             "ticks": ""
            },
            "type": "contourcarpet"
           }
          ],
          "heatmap": [
           {
            "colorbar": {
             "outlinewidth": 0,
             "ticks": ""
            },
            "colorscale": [
             [
              0,
              "#0d0887"
             ],
             [
              0.1111111111111111,
              "#46039f"
             ],
             [
              0.2222222222222222,
              "#7201a8"
             ],
             [
              0.3333333333333333,
              "#9c179e"
             ],
             [
              0.4444444444444444,
              "#bd3786"
             ],
             [
              0.5555555555555556,
              "#d8576b"
             ],
             [
              0.6666666666666666,
              "#ed7953"
             ],
             [
              0.7777777777777778,
              "#fb9f3a"
             ],
             [
              0.8888888888888888,
              "#fdca26"
             ],
             [
              1,
              "#f0f921"
             ]
            ],
            "type": "heatmap"
           }
          ],
          "histogram": [
           {
            "marker": {
             "pattern": {
              "fillmode": "overlay",
              "size": 10,
              "solidity": 0.2
             }
            },
            "type": "histogram"
           }
          ],
          "histogram2d": [
           {
            "colorbar": {
             "outlinewidth": 0,
             "ticks": ""
            },
            "colorscale": [
             [
              0,
              "#0d0887"
             ],
             [
              0.1111111111111111,
              "#46039f"
             ],
             [
              0.2222222222222222,
              "#7201a8"
             ],
             [
              0.3333333333333333,
              "#9c179e"
             ],
             [
              0.4444444444444444,
              "#bd3786"
             ],
             [
              0.5555555555555556,
              "#d8576b"
             ],
             [
              0.6666666666666666,
              "#ed7953"
             ],
             [
              0.7777777777777778,
              "#fb9f3a"
             ],
             [
              0.8888888888888888,
              "#fdca26"
             ],
             [
              1,
              "#f0f921"
             ]
            ],
            "type": "histogram2d"
           }
          ],
          "histogram2dcontour": [
           {
            "colorbar": {
             "outlinewidth": 0,
             "ticks": ""
            },
            "colorscale": [
             [
              0,
              "#0d0887"
             ],
             [
              0.1111111111111111,
              "#46039f"
             ],
             [
              0.2222222222222222,
              "#7201a8"
             ],
             [
              0.3333333333333333,
              "#9c179e"
             ],
             [
              0.4444444444444444,
              "#bd3786"
             ],
             [
              0.5555555555555556,
              "#d8576b"
             ],
             [
              0.6666666666666666,
              "#ed7953"
             ],
             [
              0.7777777777777778,
              "#fb9f3a"
             ],
             [
              0.8888888888888888,
              "#fdca26"
             ],
             [
              1,
              "#f0f921"
             ]
            ],
            "type": "histogram2dcontour"
           }
          ],
          "mesh3d": [
           {
            "colorbar": {
             "outlinewidth": 0,
             "ticks": ""
            },
            "type": "mesh3d"
           }
          ],
          "parcoords": [
           {
            "line": {
             "colorbar": {
              "outlinewidth": 0,
              "ticks": ""
             }
            },
            "type": "parcoords"
           }
          ],
          "pie": [
           {
            "automargin": true,
            "type": "pie"
           }
          ],
          "scatter": [
           {
            "fillpattern": {
             "fillmode": "overlay",
             "size": 10,
             "solidity": 0.2
            },
            "type": "scatter"
           }
          ],
          "scatter3d": [
           {
            "line": {
             "colorbar": {
              "outlinewidth": 0,
              "ticks": ""
             }
            },
            "marker": {
             "colorbar": {
              "outlinewidth": 0,
              "ticks": ""
             }
            },
            "type": "scatter3d"
           }
          ],
          "scattercarpet": [
           {
            "marker": {
             "colorbar": {
              "outlinewidth": 0,
              "ticks": ""
             }
            },
            "type": "scattercarpet"
           }
          ],
          "scattergeo": [
           {
            "marker": {
             "colorbar": {
              "outlinewidth": 0,
              "ticks": ""
             }
            },
            "type": "scattergeo"
           }
          ],
          "scattergl": [
           {
            "marker": {
             "colorbar": {
              "outlinewidth": 0,
              "ticks": ""
             }
            },
            "type": "scattergl"
           }
          ],
          "scattermap": [
           {
            "marker": {
             "colorbar": {
              "outlinewidth": 0,
              "ticks": ""
             }
            },
            "type": "scattermap"
           }
          ],
          "scattermapbox": [
           {
            "marker": {
             "colorbar": {
              "outlinewidth": 0,
              "ticks": ""
             }
            },
            "type": "scattermapbox"
           }
          ],
          "scatterpolar": [
           {
            "marker": {
             "colorbar": {
              "outlinewidth": 0,
              "ticks": ""
             }
            },
            "type": "scatterpolar"
           }
          ],
          "scatterpolargl": [
           {
            "marker": {
             "colorbar": {
              "outlinewidth": 0,
              "ticks": ""
             }
            },
            "type": "scatterpolargl"
           }
          ],
          "scatterternary": [
           {
            "marker": {
             "colorbar": {
              "outlinewidth": 0,
              "ticks": ""
             }
            },
            "type": "scatterternary"
           }
          ],
          "surface": [
           {
            "colorbar": {
             "outlinewidth": 0,
             "ticks": ""
            },
            "colorscale": [
             [
              0,
              "#0d0887"
             ],
             [
              0.1111111111111111,
              "#46039f"
             ],
             [
              0.2222222222222222,
              "#7201a8"
             ],
             [
              0.3333333333333333,
              "#9c179e"
             ],
             [
              0.4444444444444444,
              "#bd3786"
             ],
             [
              0.5555555555555556,
              "#d8576b"
             ],
             [
              0.6666666666666666,
              "#ed7953"
             ],
             [
              0.7777777777777778,
              "#fb9f3a"
             ],
             [
              0.8888888888888888,
              "#fdca26"
             ],
             [
              1,
              "#f0f921"
             ]
            ],
            "type": "surface"
           }
          ],
          "table": [
           {
            "cells": {
             "fill": {
              "color": "#EBF0F8"
             },
             "line": {
              "color": "white"
             }
            },
            "header": {
             "fill": {
              "color": "#C8D4E3"
             },
             "line": {
              "color": "white"
             }
            },
            "type": "table"
           }
          ]
         },
         "layout": {
          "annotationdefaults": {
           "arrowcolor": "#2a3f5f",
           "arrowhead": 0,
           "arrowwidth": 1
          },
          "autotypenumbers": "strict",
          "coloraxis": {
           "colorbar": {
            "outlinewidth": 0,
            "ticks": ""
           }
          },
          "colorscale": {
           "diverging": [
            [
             0,
             "#8e0152"
            ],
            [
             0.1,
             "#c51b7d"
            ],
            [
             0.2,
             "#de77ae"
            ],
            [
             0.3,
             "#f1b6da"
            ],
            [
             0.4,
             "#fde0ef"
            ],
            [
             0.5,
             "#f7f7f7"
            ],
            [
             0.6,
             "#e6f5d0"
            ],
            [
             0.7,
             "#b8e186"
            ],
            [
             0.8,
             "#7fbc41"
            ],
            [
             0.9,
             "#4d9221"
            ],
            [
             1,
             "#276419"
            ]
           ],
           "sequential": [
            [
             0,
             "#0d0887"
            ],
            [
             0.1111111111111111,
             "#46039f"
            ],
            [
             0.2222222222222222,
             "#7201a8"
            ],
            [
             0.3333333333333333,
             "#9c179e"
            ],
            [
             0.4444444444444444,
             "#bd3786"
            ],
            [
             0.5555555555555556,
             "#d8576b"
            ],
            [
             0.6666666666666666,
             "#ed7953"
            ],
            [
             0.7777777777777778,
             "#fb9f3a"
            ],
            [
             0.8888888888888888,
             "#fdca26"
            ],
            [
             1,
             "#f0f921"
            ]
           ],
           "sequentialminus": [
            [
             0,
             "#0d0887"
            ],
            [
             0.1111111111111111,
             "#46039f"
            ],
            [
             0.2222222222222222,
             "#7201a8"
            ],
            [
             0.3333333333333333,
             "#9c179e"
            ],
            [
             0.4444444444444444,
             "#bd3786"
            ],
            [
             0.5555555555555556,
             "#d8576b"
            ],
            [
             0.6666666666666666,
             "#ed7953"
            ],
            [
             0.7777777777777778,
             "#fb9f3a"
            ],
            [
             0.8888888888888888,
             "#fdca26"
            ],
            [
             1,
             "#f0f921"
            ]
           ]
          },
          "colorway": [
           "#636efa",
           "#EF553B",
           "#00cc96",
           "#ab63fa",
           "#FFA15A",
           "#19d3f3",
           "#FF6692",
           "#B6E880",
           "#FF97FF",
           "#FECB52"
          ],
          "font": {
           "color": "#2a3f5f"
          },
          "geo": {
           "bgcolor": "white",
           "lakecolor": "white",
           "landcolor": "white",
           "showlakes": true,
           "showland": true,
           "subunitcolor": "#C8D4E3"
          },
          "hoverlabel": {
           "align": "left"
          },
          "hovermode": "closest",
          "mapbox": {
           "style": "light"
          },
          "paper_bgcolor": "white",
          "plot_bgcolor": "white",
          "polar": {
           "angularaxis": {
            "gridcolor": "#EBF0F8",
            "linecolor": "#EBF0F8",
            "ticks": ""
           },
           "bgcolor": "white",
           "radialaxis": {
            "gridcolor": "#EBF0F8",
            "linecolor": "#EBF0F8",
            "ticks": ""
           }
          },
          "scene": {
           "xaxis": {
            "backgroundcolor": "white",
            "gridcolor": "#DFE8F3",
            "gridwidth": 2,
            "linecolor": "#EBF0F8",
            "showbackground": true,
            "ticks": "",
            "zerolinecolor": "#EBF0F8"
           },
           "yaxis": {
            "backgroundcolor": "white",
            "gridcolor": "#DFE8F3",
            "gridwidth": 2,
            "linecolor": "#EBF0F8",
            "showbackground": true,
            "ticks": "",
            "zerolinecolor": "#EBF0F8"
           },
           "zaxis": {
            "backgroundcolor": "white",
            "gridcolor": "#DFE8F3",
            "gridwidth": 2,
            "linecolor": "#EBF0F8",
            "showbackground": true,
            "ticks": "",
            "zerolinecolor": "#EBF0F8"
           }
          },
          "shapedefaults": {
           "line": {
            "color": "#2a3f5f"
           }
          },
          "ternary": {
           "aaxis": {
            "gridcolor": "#DFE8F3",
            "linecolor": "#A2B1C6",
            "ticks": ""
           },
           "baxis": {
            "gridcolor": "#DFE8F3",
            "linecolor": "#A2B1C6",
            "ticks": ""
           },
           "bgcolor": "white",
           "caxis": {
            "gridcolor": "#DFE8F3",
            "linecolor": "#A2B1C6",
            "ticks": ""
           }
          },
          "title": {
           "x": 0.05
          },
          "xaxis": {
           "automargin": true,
           "gridcolor": "#EBF0F8",
           "linecolor": "#EBF0F8",
           "ticks": "",
           "title": {
            "standoff": 15
           },
           "zerolinecolor": "#EBF0F8",
           "zerolinewidth": 2
          },
          "yaxis": {
           "automargin": true,
           "gridcolor": "#EBF0F8",
           "linecolor": "#EBF0F8",
           "ticks": "",
           "title": {
            "standoff": 15
           },
           "zerolinecolor": "#EBF0F8",
           "zerolinewidth": 2
          }
         }
        },
        "title": {
         "font": {
          "color": "Black",
          "size": 22
         },
         "text": "<b>Hierarchical Clustering</b>",
         "x": 0.5,
         "xanchor": "center",
         "yanchor": "top"
        },
        "width": 1000,
        "xaxis": {
         "mirror": "allticks",
         "rangemode": "tozero",
         "showgrid": false,
         "showline": true,
         "showticklabels": true,
         "ticks": "outside",
         "type": "linear",
         "zeroline": false
        },
        "yaxis": {
         "mirror": "allticks",
         "range": [
          -1460,
          0
         ],
         "rangemode": "tozero",
         "showgrid": false,
         "showline": true,
         "showticklabels": true,
         "tickmode": "array",
         "ticks": "outside",
         "ticktext": [
          "106_mathematical_math_mwp",
          "113_math_mathematical_reaso...",
          "65_cot_reasoning_thought",
          "78_distillation_teacher_stu...",
          "89_pruning_compression_quan...",
          "90_continual_forgetting_cat...",
          "19_tuning_fine_lora",
          "77_masking_masked_mlm",
          "101_augmentation_data_mixup",
          "122_active_al_learning",
          "145_prompt_prompts_prompting",
          "36_prompt_shot_tuning",
          "59_icl_context_demonstrations",
          "71_privacy_private_dp",
          "43_safety_backdoor_attacks",
          "21_adversarial_attacks_attack",
          "119_causal_causality_effect",
          "137_counterfactual_counterf...",
          "102_moral_values_value",
          "61_instruction_instructions...",
          "66_preference_feedback_reward",
          "60_hallucination_hallucinat...",
          "96_calibration_uncertainty_...",
          "18_explanations_explanation...",
          "84_nlp_annotation_crowdsour...",
          "58_llms_evaluation_llm",
          "9_agents_agent_game",
          "50_nli_entailment_inference",
          "22_commonsense_knowledge_re...",
          "70_editing_knowledge_factual",
          "126_personality_traits_llms",
          "118_mmt_multimodal_visual",
          "10_image_visual_vision",
          "94_visual_dialog_image",
          "91_vqa_visual_question",
          "0_question_answer_questions",
          "134_act_dialog_dialogue",
          "40_dialogue_dialog_oriented",
          "57_dst_dialogue_tracking",
          "13_intent_slot_intents",
          "67_metrics_evaluation_nlg",
          "93_dialogue_evaluation_metr...",
          "83_knowledge_grounded_dialo...",
          "51_response_responses_dialo...",
          "88_persona_personas_persona...",
          "4_summarization_summaries_s...",
          "82_summarization_meeting_di...",
          "141_emoji_emojis_emoticons",
          "15_aspect_sentiment_absa",
          "16_sentiment_reviews_analysis",
          "49_financial_stock_market",
          "41_fact_checking_claim",
          "55_stance_detection_rumor",
          "33_fake_news_detection",
          "139_propaganda_techniques_n...",
          "135_memes_meme_hateful",
          "81_sarcasm_sarcastic_detect...",
          "124_humor_pun_humorous",
          "116_crisis_disaster_disasters",
          "63_covid_19_pandemic",
          "115_health_media_pain",
          "48_mental_depression_health",
          "28_emotion_multimodal_erc",
          "53_emotion_emotions_affective",
          "73_empathetic_empathy_emotion",
          "142_typing_entity_type",
          "46_entity_linking_entities",
          "8_ner_entity_named",
          "7_relation_extraction_relat...",
          "25_knowledge_graph_kg",
          "129_ea_alignment_entity",
          "108_sign_gloss_asl",
          "85_metaphor_figurative_lite...",
          "62_paraphrase_paraphrases_p...",
          "30_simplification_readabili...",
          "104_geographic_location_geo...",
          "35_political_news_media",
          "6_gender_bias_biases",
          "32_authorship_author_attrib...",
          "68_generated_detectors_dete...",
          "5_hate_offensive_speech",
          "1_speech_asr_recognition",
          "23_arabic_dialect_dialects",
          "105_scoring_essay_aes",
          "103_morphological_inflectio...",
          "114_annotation_tools_formats",
          "130_cognate_phylogenetic_co...",
          "79_keyphrase_keyphrases_ext...",
          "98_taxonomy_taxonomies_hype...",
          "27_topic_topics_lda",
          "45_citation_scientific_papers",
          "2_medical_clinical_biomedical",
          "14_classification_label_text",
          "86_layout_document_documents",
          "138_materials_chemistry_sci...",
          "12_legal_court_law",
          "80_radiology_reports_report",
          "127_climate_change_esg",
          "117_dementia_ad_alzheimer",
          "112_product_commerce_attrib...",
          "133_job_resume_skills",
          "143_gans_gan_adversarial",
          "37_generation_text_control",
          "47_story_stories_narrative",
          "69_poetry_lyrics_music",
          "54_style_transfer_content",
          "144_coherence_discourse_par...",
          "56_discourse_rst_relations",
          "99_srl_role_labeling",
          "29_argument_arguments_argum...",
          "120_temporal_event_events",
          "34_event_extraction_events",
          "31_coreference_resolution_m...",
          "52_gec_correction_grammatical",
          "131_spelling_csc_correction",
          "111_segmentation_cws_chinese",
          "128_sequence_labeling_tagging",
          "125_pos_tagging_tagger",
          "26_attention_transformer_tr...",
          "109_recurrent_rnn_rnns",
          "110_probing_probe_linguistic",
          "136_agreement_syntactic_verb",
          "76_brain_reading_eye",
          "24_law_zipf_frequency",
          "72_change_semantic_time",
          "20_word_embeddings_embedding",
          "42_sense_wsd_word",
          "132_sentence_embeddings_sts",
          "123_contrastive_sentence_si...",
          "92_grammars_grammar_algorithm",
          "44_semantics_distributional...",
          "95_compositional_generaliza...",
          "39_sql_queries_spider",
          "11_parsing_dependency_parser",
          "75_parsing_semantic_parser",
          "87_amr_meaning_parsing",
          "140_mixed_code_sentiment",
          "107_switching_code_switched",
          "38_code_programming_source",
          "121_african_languages_pidgin",
          "97_alignment_parallel_pairs",
          "3_translation_nmt_machine",
          "17_translation_mt_qe",
          "74_lingual_cross_bilingual",
          "64_lingual_cross_transfer",
          "100_nat_autoregressive_nar"
         ],
         "tickvals": [
          -5,
          -15,
          -25,
          -35,
          -45,
          -55,
          -65,
          -75,
          -85,
          -95,
          -105,
          -115,
          -125,
          -135,
          -145,
          -155,
          -165,
          -175,
          -185,
          -195,
          -205,
          -215,
          -225,
          -235,
          -245,
          -255,
          -265,
          -275,
          -285,
          -295,
          -305,
          -315,
          -325,
          -335,
          -345,
          -355,
          -365,
          -375,
          -385,
          -395,
          -405,
          -415,
          -425,
          -435,
          -445,
          -455,
          -465,
          -475,
          -485,
          -495,
          -505,
          -515,
          -525,
          -535,
          -545,
          -555,
          -565,
          -575,
          -585,
          -595,
          -605,
          -615,
          -625,
          -635,
          -645,
          -655,
          -665,
          -675,
          -685,
          -695,
          -705,
          -715,
          -725,
          -735,
          -745,
          -755,
          -765,
          -775,
          -785,
          -795,
          -805,
          -815,
          -825,
          -835,
          -845,
          -855,
          -865,
          -875,
          -885,
          -895,
          -905,
          -915,
          -925,
          -935,
          -945,
          -955,
          -965,
          -975,
          -985,
          -995,
          -1005,
          -1015,
          -1025,
          -1035,
          -1045,
          -1055,
          -1065,
          -1075,
          -1085,
          -1095,
          -1105,
          -1115,
          -1125,
          -1135,
          -1145,
          -1155,
          -1165,
          -1175,
          -1185,
          -1195,
          -1205,
          -1215,
          -1225,
          -1235,
          -1245,
          -1255,
          -1265,
          -1275,
          -1285,
          -1295,
          -1305,
          -1315,
          -1325,
          -1335,
          -1345,
          -1355,
          -1365,
          -1375,
          -1385,
          -1395,
          -1405,
          -1415,
          -1425,
          -1435,
          -1445,
          -1455
         ],
         "type": "linear",
         "zeroline": false
        }
       }
      }
     },
     "metadata": {},
     "output_type": "display_data"
    }
   ],
   "source": [
    "topic_model.visualize_hierarchy()"
   ]
  },
  {
   "cell_type": "markdown",
   "id": "d8e109c4",
   "metadata": {},
   "source": [
    "## 6. Reranker\n",
    "- representaion model이라고도 하는 reranker\n"
   ]
  },
  {
   "cell_type": "markdown",
   "id": "e025021a",
   "metadata": {},
   "source": [
    "### 6.1 KeyBERT\n",
    "- KeyBERT는 코사인유사도를 이용해 단어 임베딩과 문서 임베딩을 비교하여 텍스트에서 키워드 추출 후 순위 재조정"
   ]
  },
  {
   "cell_type": "code",
   "execution_count": 27,
   "id": "d49ebd5e",
   "metadata": {},
   "outputs": [],
   "source": [
    "## 비교 할 수 있도록 세팅\n",
    "from copy import deepcopy\n",
    "original_topics = deepcopy(topic_model.topic_representations_)"
   ]
  },
  {
   "cell_type": "code",
   "execution_count": null,
   "id": "bf7526b5",
   "metadata": {},
   "outputs": [],
   "source": [
    "import pandas as pd\n",
    "def topic_differences(model, original_topics, nr_topics=5):\n",
    "    \"두 모델의 토픽 표현 차이 보여줌\"\n",
    "    df = pd.DataFrame(columns=[\"토픽\", \"원본\", \"업데이트\"])\n",
    "    for topic in range(nr_topics):\n",
    "\n",
    "        # 모델과 토픽마다 상위5개 단어 추출\n",
    "        og_words = \" : \".join(list(zip(*original_topics[topic]))[0][:10])\n",
    "        new_words = \" : \".join(list(zip(*model.get_topic(topic)))[0][:10])\n",
    "        df.loc[len(df)] = [topic, og_words, new_words]\n",
    "    return df"
   ]
  },
  {
   "cell_type": "code",
   "execution_count": null,
   "id": "b9e6f2bd",
   "metadata": {},
   "outputs": [
    {
     "data": {
      "text/html": [
       "<div>\n",
       "<style scoped>\n",
       "    .dataframe tbody tr th:only-of-type {\n",
       "        vertical-align: middle;\n",
       "    }\n",
       "\n",
       "    .dataframe tbody tr th {\n",
       "        vertical-align: top;\n",
       "    }\n",
       "\n",
       "    .dataframe thead th {\n",
       "        text-align: right;\n",
       "    }\n",
       "</style>\n",
       "<table border=\"1\" class=\"dataframe\">\n",
       "  <thead>\n",
       "    <tr style=\"text-align: right;\">\n",
       "      <th></th>\n",
       "      <th>토픽</th>\n",
       "      <th>원본</th>\n",
       "      <th>업데이트</th>\n",
       "    </tr>\n",
       "  </thead>\n",
       "  <tbody>\n",
       "    <tr>\n",
       "      <th>0</th>\n",
       "      <td>0</td>\n",
       "      <td>question : answer : questions : qa : answering</td>\n",
       "      <td>answering : questions : comprehension : retrie...</td>\n",
       "    </tr>\n",
       "    <tr>\n",
       "      <th>1</th>\n",
       "      <td>1</td>\n",
       "      <td>speech : asr : recognition : end : acoustic</td>\n",
       "      <td>phonetic : speech : transcription : language :...</td>\n",
       "    </tr>\n",
       "    <tr>\n",
       "      <th>2</th>\n",
       "      <td>2</td>\n",
       "      <td>medical : clinical : biomedical : patient : notes</td>\n",
       "      <td>nlp : clinical : language : text : medicine</td>\n",
       "    </tr>\n",
       "    <tr>\n",
       "      <th>3</th>\n",
       "      <td>3</td>\n",
       "      <td>translation : nmt : machine : bleu : neural</td>\n",
       "      <td>translation : translate : translations : multi...</td>\n",
       "    </tr>\n",
       "    <tr>\n",
       "      <th>4</th>\n",
       "      <td>4</td>\n",
       "      <td>summarization : summaries : summary : abstract...</td>\n",
       "      <td>summarization : summarizers : summaries : summ...</td>\n",
       "    </tr>\n",
       "  </tbody>\n",
       "</table>\n",
       "</div>"
      ],
      "text/plain": [
       "   토픽                                                 원본  \\\n",
       "0   0     question : answer : questions : qa : answering   \n",
       "1   1        speech : asr : recognition : end : acoustic   \n",
       "2   2  medical : clinical : biomedical : patient : notes   \n",
       "3   3        translation : nmt : machine : bleu : neural   \n",
       "4   4  summarization : summaries : summary : abstract...   \n",
       "\n",
       "                                                업데이트  \n",
       "0  answering : questions : comprehension : retrie...  \n",
       "1  phonetic : speech : transcription : language :...  \n",
       "2        nlp : clinical : language : text : medicine  \n",
       "3  translation : translate : translations : multi...  \n",
       "4  summarization : summarizers : summaries : summ...  "
      ]
     },
     "execution_count": 38,
     "metadata": {},
     "output_type": "execute_result"
    }
   ],
   "source": [
    "from bertopic.representation import KeyBERTInspired\n",
    "# KeyBERTINspired를 사용해 토픽 표현 업데이트\n",
    "representation_model = KeyBERTInspired()\n",
    "topic_model.update_topics(abstracts, representation_model=representation_model)\n",
    "\n",
    "# 토픽 차이 보여줌\n",
    "df_keybert = topic_differences(topic_model, original_topics)\n",
    "df_keybert"
   ]
  },
  {
   "cell_type": "code",
   "execution_count": 39,
   "id": "45345d77",
   "metadata": {},
   "outputs": [
    {
     "data": {
      "text/plain": [
       "토픽                                                      0\n",
       "원본         question : answer : questions : qa : answering\n",
       "업데이트    answering : questions : comprehension : retrie...\n",
       "Name: 0, dtype: object"
      ]
     },
     "execution_count": 39,
     "metadata": {},
     "output_type": "execute_result"
    }
   ],
   "source": [
    "df_keybert.iloc[0]"
   ]
  },
  {
   "cell_type": "markdown",
   "id": "7a9283cb",
   "metadata": {},
   "source": [
    "### 6.2 MMR\n",
    "- MMR(maximal marginal relevance)\n",
    "- TF-IDF, KeyBERT에 존재하는 중복된 키워드 최대한 제거 가능\n",
    "- (예: summaries, summary, summarize -> summary)"
   ]
  },
  {
   "cell_type": "code",
   "execution_count": null,
   "id": "4dda78a9",
   "metadata": {},
   "outputs": [
    {
     "data": {
      "text/html": [
       "<div>\n",
       "<style scoped>\n",
       "    .dataframe tbody tr th:only-of-type {\n",
       "        vertical-align: middle;\n",
       "    }\n",
       "\n",
       "    .dataframe tbody tr th {\n",
       "        vertical-align: top;\n",
       "    }\n",
       "\n",
       "    .dataframe thead th {\n",
       "        text-align: right;\n",
       "    }\n",
       "</style>\n",
       "<table border=\"1\" class=\"dataframe\">\n",
       "  <thead>\n",
       "    <tr style=\"text-align: right;\">\n",
       "      <th></th>\n",
       "      <th>토픽</th>\n",
       "      <th>원본</th>\n",
       "      <th>업데이트</th>\n",
       "    </tr>\n",
       "  </thead>\n",
       "  <tbody>\n",
       "    <tr>\n",
       "      <th>0</th>\n",
       "      <td>0</td>\n",
       "      <td>question : answer : questions : qa : answering</td>\n",
       "      <td>qa : answering : retrieval : comprehension : k...</td>\n",
       "    </tr>\n",
       "    <tr>\n",
       "      <th>1</th>\n",
       "      <td>1</td>\n",
       "      <td>speech : asr : recognition : end : acoustic</td>\n",
       "      <td>speech : asr : audio : wer : model</td>\n",
       "    </tr>\n",
       "    <tr>\n",
       "      <th>2</th>\n",
       "      <td>2</td>\n",
       "      <td>medical : clinical : biomedical : patient : notes</td>\n",
       "      <td>medical : clinical : biomedical : patient : do...</td>\n",
       "    </tr>\n",
       "    <tr>\n",
       "      <th>3</th>\n",
       "      <td>3</td>\n",
       "      <td>translation : nmt : machine : bleu : neural</td>\n",
       "      <td>translation : nmt : bleu : neural : parallel</td>\n",
       "    </tr>\n",
       "    <tr>\n",
       "      <th>4</th>\n",
       "      <td>4</td>\n",
       "      <td>summarization : summaries : summary : abstract...</td>\n",
       "      <td>summarization : summaries : abstractive : docu...</td>\n",
       "    </tr>\n",
       "  </tbody>\n",
       "</table>\n",
       "</div>"
      ],
      "text/plain": [
       "   토픽                                                 원본  \\\n",
       "0   0     question : answer : questions : qa : answering   \n",
       "1   1        speech : asr : recognition : end : acoustic   \n",
       "2   2  medical : clinical : biomedical : patient : notes   \n",
       "3   3        translation : nmt : machine : bleu : neural   \n",
       "4   4  summarization : summaries : summary : abstract...   \n",
       "\n",
       "                                                업데이트  \n",
       "0  qa : answering : retrieval : comprehension : k...  \n",
       "1                 speech : asr : audio : wer : model  \n",
       "2  medical : clinical : biomedical : patient : do...  \n",
       "3       translation : nmt : bleu : neural : parallel  \n",
       "4  summarization : summaries : abstractive : docu...  "
      ]
     },
     "execution_count": 41,
     "metadata": {},
     "output_type": "execute_result"
    }
   ],
   "source": [
    "from bertopic.representation import MaximalMarginalRelevance\n",
    "\n",
    "# MMR 사용하여 토픽 표현 업데이트\n",
    "representation_model = MaximalMarginalRelevance(diversity=0.2)\n",
    "topic_model.update_topics(abstracts, representation_model=representation_model)\n",
    "\n",
    "# 토픽 차이 시각화\n",
    "topic_differences(topic_model, original_topics)"
   ]
  },
  {
   "cell_type": "markdown",
   "id": "5c6e2491",
   "metadata": {},
   "source": [
    "## 7. 생성모델 활용한 교정"
   ]
  },
  {
   "cell_type": "code",
   "execution_count": null,
   "id": "cd326180",
   "metadata": {},
   "outputs": [],
   "source": [
    "import openai\n",
    "from bertopic.representation import OpenAI\n",
    "\n",
    "prompt = \"\"\"\n",
    "I have a topic that contains the following documents:\n",
    "[DOCUMENT]\n",
    "\n",
    "The topic is described by the following keywords : [KEYWORDS]\n",
    "\n",
    "Based on the information above, extract a short topic label in the following format :\n",
    "topic : <short topic label>\n",
    "\"\"\"\n",
    "\n",
    "# GPT 사용하여 토픽표현 업데이트\n",
    "client = openai.OpenAI(api_key = my_api_key)\n",
    "representation_model = OpenAI(\n",
    "    client, model=\"gpt-3.5-turbo\", exponential_backoff=True, chat=True, prompt=prompt\n",
    "    )\n",
    "topic_model.update_topics(abstracts, representation_model=representation_model) \n",
    "\n",
    "# 토픽차이 보여주기\n",
    "topic_differences(topic_model, original_topics)"
   ]
  },
  {
   "cell_type": "code",
   "execution_count": null,
   "id": "2db8f35e",
   "metadata": {},
   "outputs": [],
   "source": []
  },
  {
   "cell_type": "code",
   "execution_count": null,
   "id": "790bc73d",
   "metadata": {},
   "outputs": [],
   "source": []
  },
  {
   "cell_type": "code",
   "execution_count": null,
   "id": "3d762b96",
   "metadata": {},
   "outputs": [],
   "source": []
  }
 ],
 "metadata": {
  "kernelspec": {
   "display_name": "base",
   "language": "python",
   "name": "python3"
  },
  "language_info": {
   "codemirror_mode": {
    "name": "ipython",
    "version": 3
   },
   "file_extension": ".py",
   "mimetype": "text/x-python",
   "name": "python",
   "nbconvert_exporter": "python",
   "pygments_lexer": "ipython3",
   "version": "3.10.13"
  }
 },
 "nbformat": 4,
 "nbformat_minor": 5
}
